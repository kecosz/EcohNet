{
  "nbformat": 4,
  "nbformat_minor": 0,
  "metadata": {
    "colab": {
      "provenance": [],
      "authorship_tag": "ABX9TyO9f0XZRjEEArYvA0F8jFSa",
      "include_colab_link": true
    },
    "kernelspec": {
      "name": "python3",
      "display_name": "Python 3"
    },
    "language_info": {
      "name": "python"
    }
  },
  "cells": [
    {
      "cell_type": "markdown",
      "metadata": {
        "id": "view-in-github",
        "colab_type": "text"
      },
      "source": [
        "<a href=\"https://colab.research.google.com/github/kecosz/EcohNet/blob/main/rELA0_43_tutorial_080723.ipynb\" target=\"_parent\"><img src=\"https://colab.research.google.com/assets/colab-badge.svg\" alt=\"Open In Colab\"/></a>"
      ]
    },
    {
      "cell_type": "markdown",
      "source": [
        "## Preparation\n",
        "### Mounting Google Drive"
      ],
      "metadata": {
        "id": "Gu4g34_2043W"
      }
    },
    {
      "cell_type": "code",
      "source": [
        "!cat /proc/cpuinfo"
      ],
      "metadata": {
        "colab": {
          "base_uri": "https://localhost:8080/"
        },
        "id": "dD5_wbCLVip1",
        "outputId": "07c63627-749c-404e-994a-bc73ee56d920"
      },
      "execution_count": null,
      "outputs": [
        {
          "output_type": "stream",
          "name": "stdout",
          "text": [
            "processor\t: 0\n",
            "vendor_id\t: GenuineIntel\n",
            "cpu family\t: 6\n",
            "model\t\t: 79\n",
            "model name\t: Intel(R) Xeon(R) CPU @ 2.20GHz\n",
            "stepping\t: 0\n",
            "microcode\t: 0xffffffff\n",
            "cpu MHz\t\t: 2199.998\n",
            "cache size\t: 56320 KB\n",
            "physical id\t: 0\n",
            "siblings\t: 2\n",
            "core id\t\t: 0\n",
            "cpu cores\t: 1\n",
            "apicid\t\t: 0\n",
            "initial apicid\t: 0\n",
            "fpu\t\t: yes\n",
            "fpu_exception\t: yes\n",
            "cpuid level\t: 13\n",
            "wp\t\t: yes\n",
            "flags\t\t: fpu vme de pse tsc msr pae mce cx8 apic sep mtrr pge mca cmov pat pse36 clflush mmx fxsr sse sse2 ss ht syscall nx pdpe1gb rdtscp lm constant_tsc rep_good nopl xtopology nonstop_tsc cpuid tsc_known_freq pni pclmulqdq ssse3 fma cx16 pcid sse4_1 sse4_2 x2apic movbe popcnt aes xsave avx f16c rdrand hypervisor lahf_lm abm 3dnowprefetch invpcid_single ssbd ibrs ibpb stibp fsgsbase tsc_adjust bmi1 hle avx2 smep bmi2 erms invpcid rtm rdseed adx smap xsaveopt arat md_clear arch_capabilities\n",
            "bugs\t\t: cpu_meltdown spectre_v1 spectre_v2 spec_store_bypass l1tf mds swapgs taa mmio_stale_data retbleed\n",
            "bogomips\t: 4399.99\n",
            "clflush size\t: 64\n",
            "cache_alignment\t: 64\n",
            "address sizes\t: 46 bits physical, 48 bits virtual\n",
            "power management:\n",
            "\n",
            "processor\t: 1\n",
            "vendor_id\t: GenuineIntel\n",
            "cpu family\t: 6\n",
            "model\t\t: 79\n",
            "model name\t: Intel(R) Xeon(R) CPU @ 2.20GHz\n",
            "stepping\t: 0\n",
            "microcode\t: 0xffffffff\n",
            "cpu MHz\t\t: 2199.998\n",
            "cache size\t: 56320 KB\n",
            "physical id\t: 0\n",
            "siblings\t: 2\n",
            "core id\t\t: 0\n",
            "cpu cores\t: 1\n",
            "apicid\t\t: 1\n",
            "initial apicid\t: 1\n",
            "fpu\t\t: yes\n",
            "fpu_exception\t: yes\n",
            "cpuid level\t: 13\n",
            "wp\t\t: yes\n",
            "flags\t\t: fpu vme de pse tsc msr pae mce cx8 apic sep mtrr pge mca cmov pat pse36 clflush mmx fxsr sse sse2 ss ht syscall nx pdpe1gb rdtscp lm constant_tsc rep_good nopl xtopology nonstop_tsc cpuid tsc_known_freq pni pclmulqdq ssse3 fma cx16 pcid sse4_1 sse4_2 x2apic movbe popcnt aes xsave avx f16c rdrand hypervisor lahf_lm abm 3dnowprefetch invpcid_single ssbd ibrs ibpb stibp fsgsbase tsc_adjust bmi1 hle avx2 smep bmi2 erms invpcid rtm rdseed adx smap xsaveopt arat md_clear arch_capabilities\n",
            "bugs\t\t: cpu_meltdown spectre_v1 spectre_v2 spec_store_bypass l1tf mds swapgs taa mmio_stale_data retbleed\n",
            "bogomips\t: 4399.99\n",
            "clflush size\t: 64\n",
            "cache_alignment\t: 64\n",
            "address sizes\t: 46 bits physical, 48 bits virtual\n",
            "power management:\n",
            "\n"
          ]
        }
      ]
    },
    {
      "cell_type": "code",
      "source": [
        "from google.colab import drive\n",
        "drive.mount('/content/drive')"
      ],
      "metadata": {
        "colab": {
          "base_uri": "https://localhost:8080/"
        },
        "id": "9eibI0s6Vn5I",
        "outputId": "85a9a498-d8e0-4fe2-a876-dec7a7791b6a"
      },
      "execution_count": null,
      "outputs": [
        {
          "output_type": "stream",
          "name": "stdout",
          "text": [
            "Mounted at /content/drive\n"
          ]
        }
      ]
    },
    {
      "cell_type": "markdown",
      "source": [
        "### rpy2 version specification\n",
        "Required to successfully execute \"%load_ext rpy2.ipython\" as of 2023/1"
      ],
      "metadata": {
        "id": "Iw40fhLS1Fcl"
      }
    },
    {
      "cell_type": "code",
      "source": [
        "!pip install rpy2==3.5.1\n",
        "#!pip install --upgrade ipykernel"
      ],
      "metadata": {
        "id": "CiJF6m5ivmqr",
        "colab": {
          "base_uri": "https://localhost:8080/"
        },
        "outputId": "8f97b3a5-74e2-4c3d-9b7b-a104c5d3dcbb"
      },
      "execution_count": null,
      "outputs": [
        {
          "output_type": "stream",
          "name": "stdout",
          "text": [
            "Collecting rpy2==3.5.1\n",
            "  Downloading rpy2-3.5.1.tar.gz (201 kB)\n",
            "\u001b[2K     \u001b[90m━━━━━━━━━━━━━━━━━━━━━━━━━━━━━━━━━━━━━━━\u001b[0m \u001b[32m201.7/201.7 kB\u001b[0m \u001b[31m2.7 MB/s\u001b[0m eta \u001b[36m0:00:00\u001b[0m\n",
            "\u001b[?25h  Preparing metadata (setup.py) ... \u001b[?25l\u001b[?25hdone\n",
            "Requirement already satisfied: cffi>=1.10.0 in /usr/local/lib/python3.10/dist-packages (from rpy2==3.5.1) (1.15.1)\n",
            "Requirement already satisfied: jinja2 in /usr/local/lib/python3.10/dist-packages (from rpy2==3.5.1) (3.1.2)\n",
            "Requirement already satisfied: pytz in /usr/local/lib/python3.10/dist-packages (from rpy2==3.5.1) (2022.7.1)\n",
            "Requirement already satisfied: tzlocal in /usr/local/lib/python3.10/dist-packages (from rpy2==3.5.1) (5.0.1)\n",
            "Requirement already satisfied: pycparser in /usr/local/lib/python3.10/dist-packages (from cffi>=1.10.0->rpy2==3.5.1) (2.21)\n",
            "Requirement already satisfied: MarkupSafe>=2.0 in /usr/local/lib/python3.10/dist-packages (from jinja2->rpy2==3.5.1) (2.1.3)\n",
            "Building wheels for collected packages: rpy2\n",
            "  Building wheel for rpy2 (setup.py) ... \u001b[?25l\u001b[?25hdone\n",
            "  Created wheel for rpy2: filename=rpy2-3.5.1-cp310-cp310-linux_x86_64.whl size=314932 sha256=31c1e88215ceee58741ec19dafe2d004219638f1b271320f4a1e7c021123e9a0\n",
            "  Stored in directory: /root/.cache/pip/wheels/73/a6/ff/4e75dd1ce1cfa2b9a670cbccf6a1e41c553199e9b25f05d953\n",
            "Successfully built rpy2\n",
            "Installing collected packages: rpy2\n",
            "  Attempting uninstall: rpy2\n",
            "    Found existing installation: rpy2 3.4.2\n",
            "    Uninstalling rpy2-3.4.2:\n",
            "      Successfully uninstalled rpy2-3.4.2\n",
            "Successfully installed rpy2-3.5.1\n"
          ]
        }
      ]
    },
    {
      "cell_type": "code",
      "execution_count": null,
      "metadata": {
        "id": "Ea_qICxDrfpe"
      },
      "outputs": [],
      "source": [
        "%load_ext rpy2.ipython"
      ]
    },
    {
      "cell_type": "markdown",
      "source": [
        "### Installing packages"
      ],
      "metadata": {
        "id": "jHieOrW313BL"
      }
    },
    {
      "cell_type": "code",
      "source": [
        "# This Python code is just for not showing rpy2 messages related to R package installation on google colab\n",
        "from rpy2.rinterface_lib.callbacks import logger as rpy2_logger\n",
        "import logging\n",
        "rpy2_logger.setLevel(logging.ERROR)   # will display errors, but not warnings"
      ],
      "metadata": {
        "id": "CC-eqifFSWNZ"
      },
      "execution_count": null,
      "outputs": []
    },
    {
      "cell_type": "code",
      "source": [
        "%%R\n",
        "install.packages(\"Rcpp\")\n",
        "install.packages(\"RcppArmadillo\")\n",
        "install.packages(\"doParallel\")\n",
        "install.packages('tidyverse')\n",
        "install.packages('gsubfn')\n",
        "install.packages('zoo')\n",
        "install.packages('plyr')\n",
        "install.packages('gtools')\n",
        "install.packages('ggsci')\n",
        "install.packages('igraph')\n",
        "install.packages('tidygraph')\n",
        "install.packages('RColorBrewer')\n",
        "install.packages(\"stringdist\")\n",
        "#install.packages('scatterpie') <- Commented out because of an error.\n",
        "library(\"Rcpp\")\n",
        "library(\"RcppArmadillo\")\n",
        "library(\"doParallel\")\n",
        "library('tidyverse')\n",
        "library('gsubfn')\n",
        "library('zoo')\n",
        "library('plyr')\n",
        "library('gtools')\n",
        "library('ggsci')\n",
        "library('igraph')\n",
        "library('tidygraph')\n",
        "library('RColorBrewer')\n",
        "library(\"stringdist\")\n",
        "#library('scatterpie')"
      ],
      "metadata": {
        "id": "WcdvRsePrrWV",
        "colab": {
          "base_uri": "https://localhost:8080/"
        },
        "outputId": "f9886086-dac5-4d5a-cc90-5493d2f9e371"
      },
      "execution_count": null,
      "outputs": [
        {
          "output_type": "stream",
          "name": "stdout",
          "text": [
            "── Attaching core tidyverse packages ──────────────────────── tidyverse 2.0.0 ──\n",
            "✔ dplyr     1.1.2     ✔ readr     2.1.4\n",
            "✔ forcats   1.0.0     ✔ stringr   1.5.0\n",
            "✔ ggplot2   3.4.2     ✔ tibble    3.2.1\n",
            "✔ lubridate 1.9.2     ✔ tidyr     1.3.0\n",
            "✔ purrr     1.0.1     \n",
            "── Conflicts ────────────────────────────────────────── tidyverse_conflicts() ──\n",
            "✖ purrr::accumulate() masks foreach::accumulate()\n",
            "✖ dplyr::filter()     masks stats::filter()\n",
            "✖ dplyr::lag()        masks stats::lag()\n",
            "✖ purrr::when()       masks foreach::when()\n",
            "ℹ Use the conflicted package (<http://conflicted.r-lib.org/>) to force all conflicts to become errors\n"
          ]
        }
      ]
    },
    {
      "cell_type": "markdown",
      "source": [
        "### Download and install rELA package"
      ],
      "metadata": {
        "id": "7HI1nTGp2YSm"
      }
    },
    {
      "cell_type": "code",
      "source": [
        "!rm -r rELA\n",
        "!git clone https://github.com/kecosz/rELA.git"
      ],
      "metadata": {
        "id": "s3fAIZVUCL9g",
        "colab": {
          "base_uri": "https://localhost:8080/"
        },
        "outputId": "a4c62733-e1b1-49f1-faca-63321b363d64"
      },
      "execution_count": null,
      "outputs": [
        {
          "output_type": "stream",
          "name": "stdout",
          "text": [
            "rm: cannot remove 'rELA': No such file or directory\n",
            "Cloning into 'rELA'...\n",
            "remote: Enumerating objects: 159, done.\u001b[K\n",
            "remote: Counting objects: 100% (89/89), done.\u001b[K\n",
            "remote: Compressing objects: 100% (75/75), done.\u001b[K\n",
            "remote: Total 159 (delta 29), reused 47 (delta 14), pack-reused 70\u001b[K\n",
            "Receiving objects: 100% (159/159), 4.45 MiB | 12.35 MiB/s, done.\n",
            "Resolving deltas: 100% (54/54), done.\n"
          ]
        }
      ]
    },
    {
      "cell_type": "code",
      "source": [
        "%%R\n",
        "install.packages(\"rELA/rELA.v0.43.tar.gz\")\n",
        "library(\"rELA\")"
      ],
      "metadata": {
        "id": "PPJtddbotQ7_"
      },
      "execution_count": null,
      "outputs": []
    },
    {
      "cell_type": "markdown",
      "source": [
        "## Energy Landscape Analysis\n",
        "\n",
        "### Download data"
      ],
      "metadata": {
        "id": "W-m-kMSOKY1D"
      }
    },
    {
      "cell_type": "code",
      "source": [
        "%%R\n",
        "# Specify the path for your own data in the code below, if necessary.\n",
        "baseabtable <- read.csv('rELA/data/abundance_table.csv', sep=',', fileEncoding='utf-8') %>%\n",
        "  column_to_rownames(., var = \"X\")\n",
        "basemetadata <- read.csv('rELA/data/sample_metadata.csv', sep=',', fileEncoding='utf-8') %>%\n",
        "  column_to_rownames(., var = \"X\")\n"
      ],
      "metadata": {
        "id": "-JpDaK0Uti9J"
      },
      "execution_count": null,
      "outputs": []
    },
    {
      "cell_type": "code",
      "source": [
        "%%R\n",
        "head(basemetadata, 7)"
      ],
      "metadata": {
        "id": "zMdNNo6mG0t6",
        "colab": {
          "base_uri": "https://localhost:8080/"
        },
        "outputId": "4ee97991-0f5c-4b91-b365-3c7bda0181ee"
      },
      "execution_count": null,
      "outputs": [
        {
          "output_type": "stream",
          "name": "stdout",
          "text": [
            "         factor.1   factor.2\n",
            "sample.1    -0.92 2.79692115\n",
            "sample.2     0.34 2.14701252\n",
            "sample.3    -0.92 1.60611363\n",
            "sample.4    -0.24 0.58476465\n",
            "sample.5     0.40 1.73161379\n",
            "sample.6    -0.82 2.95971753\n",
            "sample.7     0.36 0.07787331\n"
          ]
        }
      ]
    },
    {
      "cell_type": "code",
      "source": [
        "%%R\n",
        "# To group species with the same presence/absence pattern into one group,\n",
        "#set grouping to 1 and specify a number between 0 and 1 for grouping_th.\n",
        "# If 0, only species with the same presence/absence pattern will be grouped together.\n",
        "list[ocmat, abmat, enmat, samplelabel, specieslabel, factorlabel] <-\n",
        "  Formatting(baseabtable, basemetadata, normalizeq=1, parameters=c(0.01, 0.01, 0.99), grouping=1, grouping_th=0.)"
      ],
      "metadata": {
        "id": "RAuVrLhWriu6",
        "colab": {
          "base_uri": "https://localhost:8080/"
        },
        "outputId": "98f03da2-3199-4f8c-f10f-3ea54f58990e"
      },
      "execution_count": null,
      "outputs": [
        {
          "output_type": "stream",
          "name": "stdout",
          "text": [
            "Processed 256 samples.\n",
            "Relative abundance threshold = 0.01 \n",
            "Occurrence threshold (lower) = 0.01 \n",
            "Occurrence threshold (upper) = 0.99 \n",
            "0  groups were found.\n",
            "Selected  16  out of  16 species.\n"
          ]
        }
      ]
    },
    {
      "cell_type": "markdown",
      "source": [
        "### Parameter fitting"
      ],
      "metadata": {
        "id": "VBnEq4R1Ysjs"
      }
    },
    {
      "cell_type": "code",
      "source": [
        "%%R\n",
        "#runSA: ocmatrix, env (environmental parameters; with>SA / without>fullSA), qth (threshold for stopping computation), rep (number of fitting processes to compute mean parameter value), threads (number of parallel threads)\n",
        "\n",
        "sa <- runSA(ocmat=as.matrix(ocmat), qth=10^-5, rep=128, threads=2)\n"
      ],
      "metadata": {
        "colab": {
          "base_uri": "https://localhost:8080/"
        },
        "id": "4DL-ktCo3lQU",
        "outputId": "e92bcc6e-b322-417f-e1fb-596c00c5ac5e"
      },
      "execution_count": null,
      "outputs": [
        {
          "output_type": "stream",
          "name": "stdout",
          "text": [
            "Start parameter fitting:\n",
            "SA: elapsed time 85.81 sec\n",
            "\n"
          ]
        }
      ]
    },
    {
      "cell_type": "code",
      "source": [
        "%%R\n",
        "list[he,je,ge,hge] <- sa2params(sa)"
      ],
      "metadata": {
        "id": "KpxMpgriGu30"
      },
      "execution_count": null,
      "outputs": []
    },
    {
      "cell_type": "code",
      "source": [
        "%%R\n",
        "he"
      ],
      "metadata": {
        "colab": {
          "base_uri": "https://localhost:8080/"
        },
        "id": "y2kA9YFPHAVm",
        "outputId": "8a83479c-f02f-414a-c8b0-7ddc6649ab76"
      },
      "execution_count": null,
      "outputs": [
        {
          "output_type": "stream",
          "name": "stdout",
          "text": [
            " species.12  species.16   species.7   species.5   species.2  species.10 \n",
            "-1.83857238 -1.53099647 -1.42442347 -1.59303527 -1.21121357 -1.41343379 \n",
            "  species.8  species.11  species.15   species.6   species.4  species.14 \n",
            " 0.23798455 -2.63639862 -1.72068194 -0.03004601  1.52731028  0.83458990 \n",
            "  species.3  species.13   species.1   species.9 \n",
            " 0.83180721  0.01319025  2.30919848  2.38800122 \n"
          ]
        }
      ]
    },
    {
      "cell_type": "code",
      "source": [
        "%%R\n",
        "hge"
      ],
      "metadata": {
        "colab": {
          "base_uri": "https://localhost:8080/"
        },
        "id": "8GtQ-I6SIKc3",
        "outputId": "fed16cc9-3c7b-4068-ed06-c17c26c4454b"
      },
      "execution_count": null,
      "outputs": [
        {
          "output_type": "stream",
          "name": "stdout",
          "text": [
            " species.12  species.16   species.7   species.5   species.2  species.10 \n",
            "-1.83857238 -1.53099647 -1.42442347 -1.59303527 -1.21121357 -1.41343379 \n",
            "  species.8  species.11  species.15   species.6   species.4  species.14 \n",
            " 0.23798455 -2.63639862 -1.72068194 -0.03004601  1.52731028  0.83458990 \n",
            "  species.3  species.13   species.1   species.9 \n",
            " 0.83180721  0.01319025  2.30919848  2.38800122 \n"
          ]
        }
      ]
    },
    {
      "cell_type": "markdown",
      "source": [
        "### Analysis and visualization of energy landscape\n",
        "#### ELA function"
      ],
      "metadata": {
        "id": "Aii-f_Q26FFa"
      }
    },
    {
      "cell_type": "code",
      "source": [
        "%%R\n",
        "elanp <- ELA(sa, env=NULL,\n",
        "                SS.itr=20000, FindingTip.itr=10000, # <- the number of steps for finding stable states and tipping points (basically no need to change)\n",
        "                threads=2, reporting=TRUE)"
      ],
      "metadata": {
        "id": "2QpgRDwJu8MC",
        "colab": {
          "base_uri": "https://localhost:8080/"
        },
        "outputId": "2a18de28-1bc3-40f4-b7e6-e95fc2bb3810"
      },
      "execution_count": null,
      "outputs": [
        {
          "output_type": "stream",
          "name": "stdout",
          "text": [
            "Start ELA:\n",
            "4 stable states were found.\n",
            "Checking 6 tipping points.\n",
            "converting...\n",
            "ELA: elapsed time 2.44 sec\n"
          ]
        }
      ]
    },
    {
      "cell_type": "code",
      "source": [
        "%%R\n",
        "ela <- ELPruning(elanp, th=0.05, threads=2)"
      ],
      "metadata": {
        "colab": {
          "base_uri": "https://localhost:8080/"
        },
        "id": "gaXBIb-gneDq",
        "outputId": "de84102a-fe1e-422c-cecd-ae93f129f083"
      },
      "execution_count": null,
      "outputs": [
        {
          "output_type": "stream",
          "name": "stdout",
          "text": [
            "Start pruning:\n",
            "*...\n",
            "ELPruning: elapsed time 4.45 sec\n"
          ]
        }
      ]
    },
    {
      "cell_type": "code",
      "source": [
        "%%R\n",
        "list[stablestates, stablen, tippingpoints, tippingen] <- ela[[1]]"
      ],
      "metadata": {
        "id": "XQh3dfpQ3ia4"
      },
      "execution_count": null,
      "outputs": []
    },
    {
      "cell_type": "markdown",
      "source": [
        "Stable states"
      ],
      "metadata": {
        "id": "gB-_YtGP8CSW"
      }
    },
    {
      "cell_type": "code",
      "source": [
        "%%R\n",
        "stablestates"
      ],
      "metadata": {
        "colab": {
          "base_uri": "https://localhost:8080/"
        },
        "id": "gySY0PMX8Br5",
        "outputId": "4fb6d372-5eaf-4b42-91e8-bd421371abec"
      },
      "execution_count": null,
      "outputs": [
        {
          "output_type": "stream",
          "name": "stdout",
          "text": [
            "[1] \"09x\" \"EWB\" \"1uV\"\n"
          ]
        }
      ]
    },
    {
      "cell_type": "markdown",
      "source": [
        "Convert an integer representing a stable state (ssid) to a binary vector"
      ],
      "metadata": {
        "id": "-bgmOVvBw9SV"
      }
    },
    {
      "cell_type": "code",
      "source": [
        "%%R\n",
        "# ssid -> binary vector\n",
        "bin = as.list(lapply(stablestates, function(x){id2bin(x, ncol(ocmat))}))\n",
        "names(bin) <- stablestates\n",
        "bin"
      ],
      "metadata": {
        "colab": {
          "base_uri": "https://localhost:8080/"
        },
        "id": "4ADsgD1j85Tc",
        "outputId": "4eebecaa-fa06-47c8-b6c9-93fe9a49498c"
      },
      "execution_count": null,
      "outputs": [
        {
          "output_type": "stream",
          "name": "stdout",
          "text": [
            "$`09x`\n",
            " [1] 0 0 0 0 0 0 1 0 0 1 1 1 1 0 1 1\n",
            "\n",
            "$EWB\n",
            " [1] 1 1 1 0 1 0 0 0 0 0 0 0 1 0 1 1\n",
            "\n",
            "$`1uV`\n",
            " [1] 0 0 0 1 1 1 1 0 0 0 0 1 1 1 1 1\n",
            "\n"
          ]
        }
      ]
    },
    {
      "cell_type": "markdown",
      "source": [
        "Convert a binary vector to a ssid"
      ],
      "metadata": {
        "id": "oAoyXH6VA2uH"
      }
    },
    {
      "cell_type": "code",
      "source": [
        "%%R\n",
        "# binary vector -> ssid\n",
        "as.vector(sapply(bin, bin2id))"
      ],
      "metadata": {
        "colab": {
          "base_uri": "https://localhost:8080/"
        },
        "id": "m5MCP9gN9sEb",
        "outputId": "b27f6231-da6a-4269-a4ff-eef6ca0ef476"
      },
      "execution_count": null,
      "outputs": [
        {
          "output_type": "stream",
          "name": "stdout",
          "text": [
            "[1] \"09x\" \"EWB\" \"1uV\"\n"
          ]
        }
      ]
    },
    {
      "cell_type": "markdown",
      "source": [
        "Table of SSID, Energy, Community composition"
      ],
      "metadata": {
        "id": "y24_3yww9-By"
      }
    },
    {
      "cell_type": "code",
      "source": [
        "%%R\n",
        " colnames(ocmat)"
      ],
      "metadata": {
        "colab": {
          "base_uri": "https://localhost:8080/"
        },
        "id": "LBuilOcV-tmj",
        "outputId": "1465f76d-6c0b-4e21-f31d-fc67e5ee52db"
      },
      "execution_count": null,
      "outputs": [
        {
          "output_type": "stream",
          "name": "stdout",
          "text": [
            " [1] \"species.12\" \"species.16\" \"species.7\"  \"species.5\"  \"species.2\" \n",
            " [6] \"species.10\" \"species.8\"  \"species.11\" \"species.15\" \"species.6\" \n",
            "[11] \"species.4\"  \"species.14\" \"species.3\"  \"species.13\" \"species.1\" \n",
            "[16] \"species.9\" \n"
          ]
        }
      ]
    },
    {
      "cell_type": "code",
      "source": [
        "%%R\n",
        "sstable <- as.data.frame(cbind(stablestates, stablen, t(as.data.frame(bin)))) %>%\n",
        "  'colnames<-'(c('ID', 'Energy', colnames(ocmat))) %>%\n",
        "  'rownames<-'(1: length(stablestates))\n",
        "sstable"
      ],
      "metadata": {
        "colab": {
          "base_uri": "https://localhost:8080/"
        },
        "id": "No_0uUNR95y1",
        "outputId": "98922696-2958-4af4-b821-3203f3a8b952"
      },
      "execution_count": null,
      "outputs": [
        {
          "output_type": "stream",
          "name": "stdout",
          "text": [
            "   ID       Energy species.12 species.16 species.7 species.5 species.2\n",
            "1 09x -12.62695177          0          0         0         0         0\n",
            "2 EWB -10.63245179          1          1         1         0         1\n",
            "3 1uV  -9.26148196          0          0         0         1         1\n",
            "  species.10 species.8 species.11 species.15 species.6 species.4 species.14\n",
            "1          0         1          0          0         1         1          1\n",
            "2          0         0          0          0         0         0          0\n",
            "3          1         1          0          0         0         0          1\n",
            "  species.3 species.13 species.1 species.9\n",
            "1         1          0         1         1\n",
            "2         1          0         1         1\n",
            "3         1          1         1         1\n"
          ]
        }
      ]
    },
    {
      "cell_type": "code",
      "source": [],
      "metadata": {
        "id": "A4ph-lec-7aH"
      },
      "execution_count": null,
      "outputs": []
    },
    {
      "cell_type": "markdown",
      "source": [
        "Export the table to Google Drive in CSV format"
      ],
      "metadata": {
        "id": "djeQ6Mt-d8ud"
      }
    },
    {
      "cell_type": "code",
      "source": [
        "%%R\n",
        "write.csv(x = sstable, file=\"drive/MyDrive/colab_export/sstable.csv\") # \"sstable.csv\" is saved in \"colab_export\" folder of your Google Drive."
      ],
      "metadata": {
        "id": "aXNsRBswd4hq"
      },
      "execution_count": null,
      "outputs": []
    },
    {
      "cell_type": "markdown",
      "source": [
        "ID and energy of tipping points"
      ],
      "metadata": {
        "id": "I7dVq7BN-HAt"
      }
    },
    {
      "cell_type": "code",
      "source": [
        "%%R\n",
        "as.data.frame(tippingpoints)"
      ],
      "metadata": {
        "colab": {
          "base_uri": "https://localhost:8080/"
        },
        "id": "0Y9TLwIK-JOx",
        "outputId": "6565bad9-1142-4b7d-b900-963696228563"
      },
      "execution_count": null,
      "outputs": [
        {
          "output_type": "stream",
          "name": "stdout",
          "text": [
            "   X1  X2  X3\n",
            "1 Inf 4eB 0uV\n",
            "2 Inf Inf 4eB\n",
            "3 Inf Inf Inf\n"
          ]
        }
      ]
    },
    {
      "cell_type": "code",
      "source": [
        "%%R\n",
        "as.data.frame(tippingen)"
      ],
      "metadata": {
        "colab": {
          "base_uri": "https://localhost:8080/"
        },
        "id": "gfOlQvio-QM6",
        "outputId": "e2b44432-8d95-41a6-923d-642fdddbb97c"
      },
      "execution_count": null,
      "outputs": [
        {
          "output_type": "stream",
          "name": "stdout",
          "text": [
            "   X1        X2        X3\n",
            "1 Inf -7.278518 -8.784127\n",
            "2 Inf       Inf -7.278518\n",
            "3 Inf       Inf       Inf\n"
          ]
        }
      ]
    },
    {
      "cell_type": "markdown",
      "source": [
        "Energy of any community composition\n"
      ],
      "metadata": {
        "id": "Lp_iUrvCDZ3p"
      }
    },
    {
      "cell_type": "code",
      "source": [
        "%%R\n",
        "cEnergy(ocmat[1,], he, je)"
      ],
      "metadata": {
        "colab": {
          "base_uri": "https://localhost:8080/"
        },
        "id": "54RjLTQ7nc90",
        "outputId": "d766c5f9-a6e0-4a47-81d2-d7d76fff78cc"
      },
      "execution_count": null,
      "outputs": [
        {
          "output_type": "stream",
          "name": "stdout",
          "text": [
            "[1] -4.227905\n"
          ]
        }
      ]
    },
    {
      "cell_type": "markdown",
      "source": [
        "Find the stable state for a community composition"
      ],
      "metadata": {
        "id": "p2IPxLTxxo2h"
      }
    },
    {
      "cell_type": "code",
      "source": [
        "%%R\n",
        "Bi(ocmat[1,], he, je)"
      ],
      "metadata": {
        "colab": {
          "base_uri": "https://localhost:8080/"
        },
        "id": "iISlCtfG-Y3c",
        "outputId": "a02e8650-d1e1-4f9a-b32e-a394b0c9dcfd"
      },
      "execution_count": null,
      "outputs": [
        {
          "output_type": "stream",
          "name": "stdout",
          "text": [
            "[[1]]\n",
            "[1] \"01t\"\n",
            "\n",
            "[[2]]\n",
            "[1] -11.70072\n",
            "\n"
          ]
        }
      ]
    },
    {
      "cell_type": "markdown",
      "source": [
        "### Principal component analysis  \n",
        "Observed community compositions plotted on a PC1,2 plane and color-coded by their stable states"
      ],
      "metadata": {
        "id": "dQFmBCUZB-xU"
      }
    },
    {
      "cell_type": "code",
      "source": [
        "%%R\n",
        "PCplot(ocmat, sa, ssrep=ela[[2]])\n",
        "PCplot(ocmat, sa, ssrep=ela[[2]], pruned=FALSE)"
      ],
      "metadata": {
        "colab": {
          "base_uri": "https://localhost:8080/",
          "height": 995
        },
        "id": "adI4A3JJLa7G",
        "outputId": "e5be2ac9-10ad-4d6f-abcd-eef1674f5d29"
      },
      "execution_count": null,
      "outputs": [
        {
          "output_type": "stream",
          "name": "stdout",
          "text": [
            "NULL\n"
          ]
        },
        {
          "output_type": "display_data",
          "data": {
            "image/png": "[encoded data removed]"
          },
          "metadata": {}
        },
        {
          "output_type": "display_data",
          "data": {
            "image/png": "[encoded data removed]"
          },
          "metadata": {}
        }
      ]
    },
    {
      "cell_type": "markdown",
      "source": [
        "Disconnectivity graph\n"
      ],
      "metadata": {
        "id": "kzfCYXux5uHg"
      }
    },
    {
      "cell_type": "code",
      "source": [
        "%%R\n",
        "showDG(ela[[1]], ocmat, \"test\")"
      ],
      "metadata": {
        "colab": {
          "base_uri": "https://localhost:8080/",
          "height": 515
        },
        "id": "Wazs4oEAIK61",
        "outputId": "5339afa1-ff39-4c86-eed7-632ed5aa0b0c"
      },
      "execution_count": null,
      "outputs": [
        {
          "output_type": "stream",
          "name": "stdout",
          "text": [
            "NULL\n"
          ]
        },
        {
          "output_type": "display_data",
          "data": {
            "image/png": "[encoded data removed]"
          },
          "metadata": {}
        }
      ]
    },
    {
      "cell_type": "markdown",
      "source": [
        "### Visualization of species' interaction"
      ],
      "metadata": {
        "id": "JhRptm-uVSzg"
      }
    },
    {
      "cell_type": "code",
      "source": [
        "%%R\n",
        "showIntrGraph(ela[[1]], sa, th=0.01, # <- Threshold for links to be displayed\n",
        "              annot_adj=c(0.75, 2.00))"
      ],
      "metadata": {
        "colab": {
          "base_uri": "https://localhost:8080/",
          "height": 515
        },
        "id": "viGj4g6sX0Ca",
        "outputId": "772bddf3-b76b-4cf8-e44d-4e93b7113515"
      },
      "execution_count": null,
      "outputs": [
        {
          "output_type": "stream",
          "name": "stdout",
          "text": [
            "NULL\n"
          ]
        },
        {
          "output_type": "display_data",
          "data": {
            "image/png": "[encoded data removed]"
          },
          "metadata": {}
        }
      ]
    },
    {
      "cell_type": "markdown",
      "source": [
        "### Energy landscape analysis with environmental gradients"
      ],
      "metadata": {
        "id": "WOi0wfI2fxI1"
      }
    },
    {
      "cell_type": "code",
      "source": [
        "%%R\n",
        "baseabtable <- read.csv('rELA/data/abundance_table.csv', sep=',', fileEncoding='utf-8') %>%\n",
        "  column_to_rownames(., var = \"X\")\n",
        "basemetadata <- read.csv('rELA/data/sample_metadata.csv', sep=',', fileEncoding='utf-8') %>%\n",
        "  column_to_rownames(., var = \"X\")"
      ],
      "metadata": {
        "id": "fFRHtHvwVNg9"
      },
      "execution_count": null,
      "outputs": []
    },
    {
      "cell_type": "code",
      "source": [
        "%%R\n",
        "list[ocmat, abmat, enmat, samplelabel, specieslabel, factorlabel] <-\n",
        "  Formatting(baseabtable, basemetadata, 1, c(0.01, 0.01, 0.99), 1, 0)"
      ],
      "metadata": {
        "colab": {
          "base_uri": "https://localhost:8080/"
        },
        "id": "g_xpLhPUccb-",
        "outputId": "93e453f8-c224-45c0-fb30-0e20dd19b9fe"
      },
      "execution_count": null,
      "outputs": [
        {
          "output_type": "stream",
          "name": "stdout",
          "text": [
            "Processed 256 samples.\n",
            "Relative abundance threshold = 0.01 \n",
            "Occurrence threshold (lower) = 0.01 \n",
            "Occurrence threshold (upper) = 0.99 \n",
            "0  groups were found.\n",
            "Selected  16  out of  16 species.\n"
          ]
        }
      ]
    },
    {
      "cell_type": "code",
      "source": [
        "# Parameter fitting including environmental parameters\n",
        "%%R\n",
        "sa <- runSA(ocmat=as.matrix(ocmat), enmat=as.matrix(enmat), qth=10^-5, rep=256, threads=2)"
      ],
      "metadata": {
        "colab": {
          "base_uri": "https://localhost:8080/"
        },
        "id": "MBlCXWjMOHVq",
        "outputId": "b56f254f-dac8-427c-bcd4-38a48b15ff18"
      },
      "execution_count": null,
      "outputs": [
        {
          "output_type": "stream",
          "name": "stdout",
          "text": [
            "Start parameter fitting\n",
            "SA: elapsed time 195.08 sec\n",
            "\n"
          ]
        }
      ]
    },
    {
      "cell_type": "code",
      "source": [
        "%%R\n",
        "gela <- GradELA(sa=sa, eid=\"factor.1\", # Specify the label or position of an environmental factor\n",
        "  enmat=enmat, env=NULL, range=NULL, steps=32, th=0.05, threads=8) #[[1]]: return value of ELA function for each step, [[2]]: value of environmental factor for each step, [[3]]: specified environmental factor"
      ],
      "metadata": {
        "colab": {
          "base_uri": "https://localhost:8080/"
        },
        "id": "nD76eeaz3zt3",
        "outputId": "36ec4a7b-de46-485b-a068-d1901f71bd44"
      },
      "execution_count": null,
      "outputs": [
        {
          "output_type": "stream",
          "name": "stdout",
          "text": [
            "env not specified, the mean of enmat is used\n",
            "processing(32) |================================|\n",
            "Elapsed time 38.97 sec\n"
          ]
        }
      ]
    },
    {
      "cell_type": "code",
      "source": [
        "# Disconnectivity graph\n",
        "%%R\n",
        "showDG(gela[[1]][[1]][[1]], ocmat)"
      ],
      "metadata": {
        "id": "NSPUA01XXz3f",
        "colab": {
          "base_uri": "https://localhost:8080/",
          "height": 515
        },
        "outputId": "63a4190d-3e18-4f94-bba8-6f2d8d10c2c5"
      },
      "execution_count": null,
      "outputs": [
        {
          "output_type": "stream",
          "name": "stdout",
          "text": [
            "NULL\n"
          ]
        },
        {
          "output_type": "display_data",
          "data": {
            "image/png": "[encoded data removed]"
          },
          "metadata": {}
        }
      ]
    },
    {
      "cell_type": "code",
      "source": [
        "# Stable state diagram\n",
        "%%R\n",
        "showSSD(gela)"
      ],
      "metadata": {
        "colab": {
          "base_uri": "https://localhost:8080/",
          "height": 497
        },
        "id": "J_Z06lPnrcpf",
        "outputId": "8ce17234-f97b-4774-c068-e4e2da9effd8"
      },
      "execution_count": null,
      "outputs": [
        {
          "output_type": "display_data",
          "data": {
            "image/png": "[encoded data removed]"
          },
          "metadata": {}
        }
      ]
    },
    {
      "cell_type": "markdown",
      "source": [
        "## Stability"
      ],
      "metadata": {
        "id": "kqBpp-GOxaJ1"
      }
    },
    {
      "cell_type": "code",
      "source": [
        "%%R\n",
        "stb <- Stability(sa, ocmat, enmat=NULL, threads=2)\n",
        "head(stb, 5)"
      ],
      "metadata": {
        "colab": {
          "base_uri": "https://localhost:8080/"
        },
        "id": "q6rkbk4aKlA4",
        "outputId": "4c5a2eb4-49e6-4cc4-f309-8f9bf9b09492"
      },
      "execution_count": null,
      "outputs": [
        {
          "output_type": "stream",
          "name": "stdout",
          "text": [
            "Start Stability:\n",
            "sa obtained with enmat, but enmat is not given.\n",
            "assigned a zero vector as the environmental condition for all data points.\n",
            "convTime may be too small, try convTime>10000.\n",
            "Stability: elapsed time 6.33 sec\n",
            "\n",
            "           energy.gap ss.entropy  e.realize  e.stable state.id stable.state.id\n",
            "sample.1    9.8583716  0.1414405  -3.160181 -13.01855      07/             09x\n",
            "sample.10   1.1363640  0.0000000 -11.882189 -13.01855      08/             09x\n",
            "sample.100  6.2644852  0.1943919  -6.754067 -13.01855      1uF             09x\n",
            "sample.101  0.4114918  0.1183500 -12.607061 -13.01855      09t             09x\n",
            "sample.102  0.7301739  0.6098403 -12.288379 -13.01855      01t             09x\n"
          ]
        }
      ]
    },
    {
      "cell_type": "code",
      "source": [
        "%%R\n",
        "stbwe <- Stability(sa, ocmat, enmat=enmat, threads=2)\n",
        "head(stbwe, 5)"
      ],
      "metadata": {
        "colab": {
          "base_uri": "https://localhost:8080/"
        },
        "id": "sJjJkVF0xvl_",
        "outputId": "30b634c3-a0d3-4f99-cef7-f028bf931922"
      },
      "execution_count": null,
      "outputs": [
        {
          "output_type": "stream",
          "name": "stdout",
          "text": [
            "Start Stability:\n",
            "Stability: elapsed time 34.94 sec\n",
            "\n",
            "           energy.gap ss.entropy  e.realize  e.stable state.id stable.state.id\n",
            "sample.1    7.5203245  1.3075731  -6.462844 -13.98317      07/             0Ht\n",
            "sample.10   1.8782057  0.0000000 -11.900997 -13.77920      08/             09x\n",
            "sample.100  1.3836718  1.2485307 -12.630267 -14.01394      1uF             1uV\n",
            "sample.101  0.4286001  0.4364698 -11.499485 -11.92809      09t             01t\n",
            "sample.102  0.0000000  1.0724747 -12.939908 -12.93991      01t             01t\n"
          ]
        }
      ]
    },
    {
      "cell_type": "markdown",
      "source": [
        "gStability returns a list of 2 elements: the dataframe for pruned/non-pruned energy landscape, respectively. In addition to the dataframe of Stability it includes e.tipping (energy of tipping point) and energy.barrier (height of energy from observed state to the tipping point)."
      ],
      "metadata": {
        "id": "7UwwCbMfMjrv"
      }
    },
    {
      "cell_type": "code",
      "source": [
        "%%R\n",
        "gstb <- gStability(sa, ocmat, enmat=NULL, threads=8)"
      ],
      "metadata": {
        "colab": {
          "base_uri": "https://localhost:8080/"
        },
        "id": "fYRChyDdKai3",
        "outputId": "f849b00e-902e-484d-f43d-7eddb1ffcdc2"
      },
      "execution_count": null,
      "outputs": [
        {
          "output_type": "stream",
          "name": "stdout",
          "text": [
            "Start gStability:\n",
            "sa obtained with enmat, but enmat is not given.\n",
            "assigned a zero vector as the environmental condition for all data points.\n",
            "gStability: elapsed time 39.18 sec\n",
            "\n"
          ]
        }
      ]
    },
    {
      "cell_type": "code",
      "source": [
        "%%R\n",
        "gstb[[1]][1:8,]"
      ],
      "metadata": {
        "colab": {
          "base_uri": "https://localhost:8080/"
        },
        "id": "oIE4JVW2OIQK",
        "outputId": "d873f485-4151-4044-c20d-5c059fdf7c2f"
      },
      "execution_count": null,
      "outputs": [
        {
          "output_type": "stream",
          "name": "stdout",
          "text": [
            "           energy.gap ss.entropy energy.barrier  e.realize   e.stable e.tipping\n",
            "sample.1    9.8583715 0.00000000       5.097991  -3.160181 -13.018553 -7.920562\n",
            "sample.10   1.1363640 0.13578841       5.097991 -11.882189 -13.018553 -7.920562\n",
            "sample.100  6.2644852 0.00000000       5.097991  -6.754067 -13.018553 -7.920562\n",
            "sample.101  0.4114918 0.11236071       5.097991 -12.607061 -13.018553 -7.920562\n",
            "sample.102  0.7301739 0.00000000       5.097991 -12.288379 -13.018553 -7.920562\n",
            "sample.103  2.2002398 0.02946405       5.097991 -10.818313 -13.018553 -7.920562\n",
            "sample.104  0.2476000 0.00000000       5.097991 -12.770953 -13.018553 -7.920562\n",
            "sample.105  4.2951315 0.09377791       1.719187  -5.344617  -9.639748 -7.920562\n",
            "           state.id stable.state.id\n",
            "sample.1        07/             09x\n",
            "sample.10       08/             09x\n",
            "sample.100      1uF             09x\n",
            "sample.101      09t             09x\n",
            "sample.102      01t             09x\n",
            "sample.103      0Ht             09x\n",
            "sample.104      09/             09x\n",
            "sample.105      EY8             EWB\n"
          ]
        }
      ]
    },
    {
      "cell_type": "code",
      "source": [
        "%%R\n",
        "gstb[[2]][1:8,]"
      ],
      "metadata": {
        "colab": {
          "base_uri": "https://localhost:8080/"
        },
        "id": "l5gyeEDrOJL6",
        "outputId": "595a3133-cab2-46bd-b1d2-76a209c39229"
      },
      "execution_count": null,
      "outputs": [
        {
          "output_type": "stream",
          "name": "stdout",
          "text": [
            "           energy.gap.np ss.entropy.np energy.barrier.np  e.realize e.stable.np\n",
            "sample.1       9.8583716    0.23615438          5.097991  -3.160181  -13.018553\n",
            "sample.10      1.1363640    0.62387169          5.097991 -11.882189  -13.018553\n",
            "sample.100     6.2644852    0.30352094          5.097991  -6.754067  -13.018553\n",
            "sample.101     0.4114918    0.00000000          5.097991 -12.607061  -13.018553\n",
            "sample.102     0.7301739    0.00000000          5.097991 -12.288379  -13.018553\n",
            "sample.103     2.2002398    0.83126970          5.097991 -10.818313  -13.018553\n",
            "sample.104     0.2476000    0.00000000          5.097991 -12.770953  -13.018553\n",
            "sample.105     4.2951315    0.06722154          1.719187  -5.344617   -9.639748\n",
            "           e.tipping.np state.id.np stable.state.id.np\n",
            "sample.1      -7.920562         07/                09x\n",
            "sample.10     -7.920562         08/                09x\n",
            "sample.100    -7.920562         1uF                09x\n",
            "sample.101    -7.920562         09t                09x\n",
            "sample.102    -7.920562         01t                09x\n",
            "sample.103    -7.920562         0Ht                09x\n",
            "sample.104    -7.920562         09/                09x\n",
            "sample.105    -7.920562         EY8                EWB\n"
          ]
        }
      ]
    },
    {
      "cell_type": "code",
      "source": [
        "%%R\n",
        "gstbe <- gStability(sa, ocmat, enmat=enmat, threads=8)"
      ],
      "metadata": {
        "colab": {
          "base_uri": "https://localhost:8080/"
        },
        "id": "6_xeM3c8UXsD",
        "outputId": "2fb2b6b2-4894-47a3-a9a4-171e80e953bf"
      },
      "execution_count": null,
      "outputs": [
        {
          "output_type": "stream",
          "name": "stdout",
          "text": [
            "Start gStability:\n",
            "gStability: elapsed time 172.82 sec\n",
            "\n"
          ]
        }
      ]
    },
    {
      "cell_type": "code",
      "source": [
        "%%R\n",
        "gstbe[[1]][1:8,]"
      ],
      "metadata": {
        "colab": {
          "base_uri": "https://localhost:8080/"
        },
        "id": "1_ic1t6DSBnV",
        "outputId": "45b1f572-b75b-468c-91fb-745545d9b633"
      },
      "execution_count": null,
      "outputs": [
        {
          "output_type": "stream",
          "name": "stdout",
          "text": [
            "              energy.gap ss.entropy energy.barrier  e.realize   e.stable\n",
            "sample.1    7.520324e+00  0.9196507       3.230716  -6.462844 -13.983168\n",
            "sample.10   1.878206e+00  0.0000000       6.449198 -11.900997 -13.779203\n",
            "sample.100  1.383672e+00  0.9558956       1.963700 -12.630267 -14.013938\n",
            "sample.101  4.286001e-01  0.6622595       6.324566 -11.499485 -11.928085\n",
            "sample.102 -1.140705e-09  0.8141447       2.461314 -12.939908 -12.939908\n",
            "sample.103 -2.327834e-09  1.2613116       2.532820 -13.710307 -13.710307\n",
            "sample.104  6.013236e-01  0.0000000       5.418485 -12.018360 -12.619684\n",
            "sample.105  2.315975e+00  0.5264795       1.562920  -6.588827  -8.904803\n",
            "            e.tipping state.id stable.state.id\n",
            "sample.1   -10.752452      07/             0Ht\n",
            "sample.10   -7.330005      08/             09x\n",
            "sample.100 -12.050239      1uF             1uV\n",
            "sample.101  -5.603519      09t             01t\n",
            "sample.102 -10.478594      01t             01t\n",
            "sample.103 -11.177488      0Ht             0Ht\n",
            "sample.104  -7.201199      09/             09x\n",
            "sample.105  -7.341882      EY8             EWB\n"
          ]
        }
      ]
    },
    {
      "cell_type": "code",
      "source": [
        "%%R\n",
        "gstbe[[2]][1:8,]"
      ],
      "metadata": {
        "colab": {
          "base_uri": "https://localhost:8080/"
        },
        "id": "BFgHGjc3SGAq",
        "outputId": "b26ac242-a1f1-41ed-fa25-4ff3d1caa3a6"
      },
      "execution_count": null,
      "outputs": [
        {
          "output_type": "stream",
          "name": "stdout",
          "text": [
            "           energy.gap.np ss.entropy.np energy.barrier.np  e.realize e.stable.np\n",
            "sample.1       7.5203245     1.3303327          3.230716  -6.462844  -13.983168\n",
            "sample.10      1.8782057     0.0000000          6.449198 -11.900997  -13.779203\n",
            "sample.100     1.3836718     1.4039660          1.963700 -12.630267  -14.013938\n",
            "sample.101     0.4286001     0.4721575          6.324566 -11.499485  -11.928085\n",
            "sample.102     0.0000000     0.2422922          2.461314 -12.939908  -12.939908\n",
            "sample.103     0.0000000     0.9475382          2.532820 -13.710307  -13.710307\n",
            "sample.104     0.6013236     0.0000000          5.418485 -12.018360  -12.619684\n",
            "sample.105     2.3159754     0.5088991          1.562920  -6.588827   -8.904803\n",
            "           e.tipping.np state.id.np stable.state.id.np\n",
            "sample.1     -10.752452         07/                0Ht\n",
            "sample.10     -7.330005         08/                09x\n",
            "sample.100   -12.050239         1uF                1uV\n",
            "sample.101    -5.603519         09t                01t\n",
            "sample.102   -10.478594         01t                01t\n",
            "sample.103   -11.177488         0Ht                0Ht\n",
            "sample.104    -7.201199         09/                09x\n",
            "sample.105    -7.341882         EY8                EWB\n"
          ]
        }
      ]
    }
  ]
}