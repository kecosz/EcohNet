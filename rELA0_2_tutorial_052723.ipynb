{
  "nbformat": 4,
  "nbformat_minor": 0,
  "metadata": {
    "colab": {
      "provenance": [],
      "authorship_tag": "ABX9TyPN5/62WZmIgpaZ69pXi/Xk",
      "include_colab_link": true
    },
    "kernelspec": {
      "name": "python3",
      "display_name": "Python 3"
    },
    "language_info": {
      "name": "python"
    }
  },
  "cells": [
    {
      "cell_type": "markdown",
      "metadata": {
        "id": "view-in-github",
        "colab_type": "text"
      },
      "source": [
        "<a href=\"https://colab.research.google.com/github/kecosz/EcohNet/blob/main/rELA0_2_tutorial_052723.ipynb\" target=\"_parent\"><img src=\"https://colab.research.google.com/assets/colab-badge.svg\" alt=\"Open In Colab\"/></a>"
      ]
    },
    {
      "cell_type": "markdown",
      "source": [
        "## Preparation\n",
        "### Mounting Google Drive"
      ],
      "metadata": {
        "id": "Gu4g34_2043W"
      }
    },
    {
      "cell_type": "code",
      "source": [
        "from google.colab import drive\n",
        "drive.mount('/content/drive')"
      ],
      "metadata": {
        "colab": {
          "base_uri": "https://localhost:8080/"
        },
        "id": "mmKz0Vik4gAe",
        "outputId": "2a17a82e-3043-449f-bc42-7fad8b2da75d"
      },
      "execution_count": null,
      "outputs": [
        {
          "output_type": "stream",
          "name": "stdout",
          "text": [
            "Drive already mounted at /content/drive; to attempt to forcibly remount, call drive.mount(\"/content/drive\", force_remount=True).\n"
          ]
        }
      ]
    },
    {
      "cell_type": "markdown",
      "source": [
        "### rpy2 version specification\n",
        "Required to successfully execute \"%load_ext rpy2.ipython\" as of 2023/1"
      ],
      "metadata": {
        "id": "Iw40fhLS1Fcl"
      }
    },
    {
      "cell_type": "code",
      "source": [
        "!pip install rpy2==3.5.1\n",
        "#!pip install --upgrade ipykernel"
      ],
      "metadata": {
        "id": "CiJF6m5ivmqr",
        "colab": {
          "base_uri": "https://localhost:8080/"
        },
        "outputId": "de5f9fc5-c1de-4705-af5b-02cc4cab849a"
      },
      "execution_count": null,
      "outputs": [
        {
          "output_type": "stream",
          "name": "stdout",
          "text": [
            "Looking in indexes: https://pypi.org/simple, https://us-python.pkg.dev/colab-wheels/public/simple/\n",
            "Requirement already satisfied: rpy2==3.5.1 in /usr/local/lib/python3.10/dist-packages (3.5.1)\n",
            "Requirement already satisfied: cffi>=1.10.0 in /usr/local/lib/python3.10/dist-packages (from rpy2==3.5.1) (1.15.1)\n",
            "Requirement already satisfied: jinja2 in /usr/local/lib/python3.10/dist-packages (from rpy2==3.5.1) (3.1.2)\n",
            "Requirement already satisfied: pytz in /usr/local/lib/python3.10/dist-packages (from rpy2==3.5.1) (2022.7.1)\n",
            "Requirement already satisfied: tzlocal in /usr/local/lib/python3.10/dist-packages (from rpy2==3.5.1) (4.3)\n",
            "Requirement already satisfied: pycparser in /usr/local/lib/python3.10/dist-packages (from cffi>=1.10.0->rpy2==3.5.1) (2.21)\n",
            "Requirement already satisfied: MarkupSafe>=2.0 in /usr/local/lib/python3.10/dist-packages (from jinja2->rpy2==3.5.1) (2.1.2)\n",
            "Requirement already satisfied: pytz-deprecation-shim in /usr/local/lib/python3.10/dist-packages (from tzlocal->rpy2==3.5.1) (0.1.0.post0)\n",
            "Requirement already satisfied: tzdata in /usr/local/lib/python3.10/dist-packages (from pytz-deprecation-shim->tzlocal->rpy2==3.5.1) (2023.3)\n"
          ]
        }
      ]
    },
    {
      "cell_type": "code",
      "execution_count": null,
      "metadata": {
        "id": "Ea_qICxDrfpe",
        "colab": {
          "base_uri": "https://localhost:8080/"
        },
        "outputId": "cc7329a9-3a0c-4819-d532-3fba32fab4e4"
      },
      "outputs": [
        {
          "output_type": "stream",
          "name": "stdout",
          "text": [
            "The rpy2.ipython extension is already loaded. To reload it, use:\n",
            "  %reload_ext rpy2.ipython\n"
          ]
        }
      ],
      "source": [
        "%load_ext rpy2.ipython"
      ]
    },
    {
      "cell_type": "markdown",
      "source": [
        "### Installing packages"
      ],
      "metadata": {
        "id": "jHieOrW313BL"
      }
    },
    {
      "cell_type": "code",
      "source": [
        "%%R\n",
        "install.packages(\"Rcpp\")\n",
        "install.packages(\"RcppArmadillo\")\n",
        "install.packages(\"doParallel\")\n",
        "install.packages('tidyverse')\n",
        "install.packages('gsubfn')\n",
        "install.packages('zoo')\n",
        "install.packages('snow')\n",
        "install.packages('plyr')\n",
        "install.packages('gtools')\n",
        "install.packages('ggsci')\n",
        "install.packages('igraph')\n",
        "install.packages('tidygraph')\n",
        "install.packages('RColorBrewer')\n",
        "#install.packages('scatterpie') <- Commented out because of an error.\n",
        "library(\"Rcpp\")\n",
        "library(\"RcppArmadillo\")\n",
        "library(\"doParallel\")\n",
        "library('tidyverse')\n",
        "library('gsubfn')\n",
        "library('zoo')\n",
        "library('snow')\n",
        "library('plyr')\n",
        "library('gtools')\n",
        "library('ggsci')\n",
        "library('igraph')\n",
        "library('tidygraph')\n",
        "library('RColorBrewer')\n",
        "#library('scatterpie')"
      ],
      "metadata": {
        "colab": {
          "base_uri": "https://localhost:8080/"
        },
        "id": "WcdvRsePrrWV",
        "outputId": "16ebf610-f3cf-4c50-f05d-346f3440e6af"
      },
      "execution_count": null,
      "outputs": [
        {
          "output_type": "stream",
          "name": "stderr",
          "text": [
            "WARNING:rpy2.rinterface_lib.callbacks:R[write to console]: Installing package into ‘/usr/local/lib/R/site-library’\n",
            "(as ‘lib’ is unspecified)\n",
            "\n",
            "WARNING:rpy2.rinterface_lib.callbacks:R[write to console]: trying URL 'https://cran.rstudio.com/src/contrib/Rcpp_1.0.10.tar.gz'\n",
            "\n",
            "WARNING:rpy2.rinterface_lib.callbacks:R[write to console]: Content type 'application/x-gzip'\n",
            "WARNING:rpy2.rinterface_lib.callbacks:R[write to console]:  length 2936173 bytes (2.8 MB)\n",
            "\n",
            "WARNING:rpy2.rinterface_lib.callbacks:R[write to console]: =\n",
            "WARNING:rpy2.rinterface_lib.callbacks:R[write to console]: =\n",
            "WARNING:rpy2.rinterface_lib.callbacks:R[write to console]: =\n",
            "WARNING:rpy2.rinterface_lib.callbacks:R[write to console]: =\n",
            "WARNING:rpy2.rinterface_lib.callbacks:R[write to console]: =\n",
            "WARNING:rpy2.rinterface_lib.callbacks:R[write to console]: =\n",
            "WARNING:rpy2.rinterface_lib.callbacks:R[write to console]: =\n",
            "WARNING:rpy2.rinterface_lib.callbacks:R[write to console]: =\n",
            "WARNING:rpy2.rinterface_lib.callbacks:R[write to console]: =\n",
            "WARNING:rpy2.rinterface_lib.callbacks:R[write to console]: =\n",
            "WARNING:rpy2.rinterface_lib.callbacks:R[write to console]: =\n",
            "WARNING:rpy2.rinterface_lib.callbacks:R[write to console]: =\n",
            "WARNING:rpy2.rinterface_lib.callbacks:R[write to console]: =\n",
            "WARNING:rpy2.rinterface_lib.callbacks:R[write to console]: =\n",
            "WARNING:rpy2.rinterface_lib.callbacks:R[write to console]: =\n",
            "WARNING:rpy2.rinterface_lib.callbacks:R[write to console]: =\n",
            "WARNING:rpy2.rinterface_lib.callbacks:R[write to console]: =\n",
            "WARNING:rpy2.rinterface_lib.callbacks:R[write to console]: =\n",
            "WARNING:rpy2.rinterface_lib.callbacks:R[write to console]: =\n",
            "WARNING:rpy2.rinterface_lib.callbacks:R[write to console]: =\n",
            "WARNING:rpy2.rinterface_lib.callbacks:R[write to console]: =\n",
            "WARNING:rpy2.rinterface_lib.callbacks:R[write to console]: =\n",
            "WARNING:rpy2.rinterface_lib.callbacks:R[write to console]: =\n",
            "WARNING:rpy2.rinterface_lib.callbacks:R[write to console]: =\n",
            "WARNING:rpy2.rinterface_lib.callbacks:R[write to console]: =\n",
            "WARNING:rpy2.rinterface_lib.callbacks:R[write to console]: =\n",
            "WARNING:rpy2.rinterface_lib.callbacks:R[write to console]: =\n",
            "WARNING:rpy2.rinterface_lib.callbacks:R[write to console]: =\n",
            "WARNING:rpy2.rinterface_lib.callbacks:R[write to console]: =\n",
            "WARNING:rpy2.rinterface_lib.callbacks:R[write to console]: =\n",
            "WARNING:rpy2.rinterface_lib.callbacks:R[write to console]: =\n",
            "WARNING:rpy2.rinterface_lib.callbacks:R[write to console]: =\n",
            "WARNING:rpy2.rinterface_lib.callbacks:R[write to console]: =\n",
            "WARNING:rpy2.rinterface_lib.callbacks:R[write to console]: =\n",
            "WARNING:rpy2.rinterface_lib.callbacks:R[write to console]: =\n",
            "WARNING:rpy2.rinterface_lib.callbacks:R[write to console]: =\n",
            "WARNING:rpy2.rinterface_lib.callbacks:R[write to console]: =\n",
            "WARNING:rpy2.rinterface_lib.callbacks:R[write to console]: =\n",
            "WARNING:rpy2.rinterface_lib.callbacks:R[write to console]: =\n",
            "WARNING:rpy2.rinterface_lib.callbacks:R[write to console]: =\n",
            "WARNING:rpy2.rinterface_lib.callbacks:R[write to console]: =\n",
            "WARNING:rpy2.rinterface_lib.callbacks:R[write to console]: =\n",
            "WARNING:rpy2.rinterface_lib.callbacks:R[write to console]: =\n",
            "WARNING:rpy2.rinterface_lib.callbacks:R[write to console]: =\n",
            "WARNING:rpy2.rinterface_lib.callbacks:R[write to console]: =\n",
            "WARNING:rpy2.rinterface_lib.callbacks:R[write to console]: =\n",
            "WARNING:rpy2.rinterface_lib.callbacks:R[write to console]: =\n",
            "WARNING:rpy2.rinterface_lib.callbacks:R[write to console]: =\n",
            "WARNING:rpy2.rinterface_lib.callbacks:R[write to console]: =\n",
            "WARNING:rpy2.rinterface_lib.callbacks:R[write to console]: =\n",
            "WARNING:rpy2.rinterface_lib.callbacks:R[write to console]: \n",
            "\n",
            "WARNING:rpy2.rinterface_lib.callbacks:R[write to console]: downloaded 2.8 MB\n",
            "\n",
            "\n",
            "WARNING:rpy2.rinterface_lib.callbacks:R[write to console]: \n",
            "\n",
            "WARNING:rpy2.rinterface_lib.callbacks:R[write to console]: \n",
            "WARNING:rpy2.rinterface_lib.callbacks:R[write to console]: The downloaded source packages are in\n",
            "\t‘/tmp/RtmpJqFSTG/downloaded_packages’\n",
            "WARNING:rpy2.rinterface_lib.callbacks:R[write to console]: \n",
            "WARNING:rpy2.rinterface_lib.callbacks:R[write to console]: \n",
            "\n",
            "WARNING:rpy2.rinterface_lib.callbacks:R[write to console]: Installing package into ‘/usr/local/lib/R/site-library’\n",
            "(as ‘lib’ is unspecified)\n",
            "\n",
            "WARNING:rpy2.rinterface_lib.callbacks:R[write to console]: trying URL 'https://cran.rstudio.com/src/contrib/RcppArmadillo_0.12.2.0.0.tar.gz'\n",
            "\n",
            "WARNING:rpy2.rinterface_lib.callbacks:R[write to console]: Content type 'application/x-gzip'\n",
            "WARNING:rpy2.rinterface_lib.callbacks:R[write to console]:  length 1368134 bytes (1.3 MB)\n",
            "\n",
            "WARNING:rpy2.rinterface_lib.callbacks:R[write to console]: =\n",
            "WARNING:rpy2.rinterface_lib.callbacks:R[write to console]: =\n",
            "WARNING:rpy2.rinterface_lib.callbacks:R[write to console]: =\n",
            "WARNING:rpy2.rinterface_lib.callbacks:R[write to console]: =\n",
            "WARNING:rpy2.rinterface_lib.callbacks:R[write to console]: =\n",
            "WARNING:rpy2.rinterface_lib.callbacks:R[write to console]: =\n",
            "WARNING:rpy2.rinterface_lib.callbacks:R[write to console]: =\n",
            "WARNING:rpy2.rinterface_lib.callbacks:R[write to console]: =\n",
            "WARNING:rpy2.rinterface_lib.callbacks:R[write to console]: =\n",
            "WARNING:rpy2.rinterface_lib.callbacks:R[write to console]: =\n",
            "WARNING:rpy2.rinterface_lib.callbacks:R[write to console]: =\n",
            "WARNING:rpy2.rinterface_lib.callbacks:R[write to console]: =\n",
            "WARNING:rpy2.rinterface_lib.callbacks:R[write to console]: =\n",
            "WARNING:rpy2.rinterface_lib.callbacks:R[write to console]: =\n",
            "WARNING:rpy2.rinterface_lib.callbacks:R[write to console]: =\n",
            "WARNING:rpy2.rinterface_lib.callbacks:R[write to console]: =\n",
            "WARNING:rpy2.rinterface_lib.callbacks:R[write to console]: =\n",
            "WARNING:rpy2.rinterface_lib.callbacks:R[write to console]: =\n",
            "WARNING:rpy2.rinterface_lib.callbacks:R[write to console]: =\n",
            "WARNING:rpy2.rinterface_lib.callbacks:R[write to console]: =\n",
            "WARNING:rpy2.rinterface_lib.callbacks:R[write to console]: =\n",
            "WARNING:rpy2.rinterface_lib.callbacks:R[write to console]: =\n",
            "WARNING:rpy2.rinterface_lib.callbacks:R[write to console]: =\n",
            "WARNING:rpy2.rinterface_lib.callbacks:R[write to console]: =\n",
            "WARNING:rpy2.rinterface_lib.callbacks:R[write to console]: =\n",
            "WARNING:rpy2.rinterface_lib.callbacks:R[write to console]: =\n",
            "WARNING:rpy2.rinterface_lib.callbacks:R[write to console]: =\n",
            "WARNING:rpy2.rinterface_lib.callbacks:R[write to console]: =\n",
            "WARNING:rpy2.rinterface_lib.callbacks:R[write to console]: =\n",
            "WARNING:rpy2.rinterface_lib.callbacks:R[write to console]: =\n",
            "WARNING:rpy2.rinterface_lib.callbacks:R[write to console]: =\n",
            "WARNING:rpy2.rinterface_lib.callbacks:R[write to console]: =\n",
            "WARNING:rpy2.rinterface_lib.callbacks:R[write to console]: =\n",
            "WARNING:rpy2.rinterface_lib.callbacks:R[write to console]: =\n",
            "WARNING:rpy2.rinterface_lib.callbacks:R[write to console]: =\n",
            "WARNING:rpy2.rinterface_lib.callbacks:R[write to console]: =\n",
            "WARNING:rpy2.rinterface_lib.callbacks:R[write to console]: =\n",
            "WARNING:rpy2.rinterface_lib.callbacks:R[write to console]: =\n",
            "WARNING:rpy2.rinterface_lib.callbacks:R[write to console]: =\n",
            "WARNING:rpy2.rinterface_lib.callbacks:R[write to console]: =\n",
            "WARNING:rpy2.rinterface_lib.callbacks:R[write to console]: =\n",
            "WARNING:rpy2.rinterface_lib.callbacks:R[write to console]: =\n",
            "WARNING:rpy2.rinterface_lib.callbacks:R[write to console]: =\n",
            "WARNING:rpy2.rinterface_lib.callbacks:R[write to console]: =\n",
            "WARNING:rpy2.rinterface_lib.callbacks:R[write to console]: =\n",
            "WARNING:rpy2.rinterface_lib.callbacks:R[write to console]: =\n",
            "WARNING:rpy2.rinterface_lib.callbacks:R[write to console]: =\n",
            "WARNING:rpy2.rinterface_lib.callbacks:R[write to console]: =\n",
            "WARNING:rpy2.rinterface_lib.callbacks:R[write to console]: =\n",
            "WARNING:rpy2.rinterface_lib.callbacks:R[write to console]: =\n",
            "WARNING:rpy2.rinterface_lib.callbacks:R[write to console]: \n",
            "\n",
            "WARNING:rpy2.rinterface_lib.callbacks:R[write to console]: downloaded 1.3 MB\n",
            "\n",
            "\n",
            "WARNING:rpy2.rinterface_lib.callbacks:R[write to console]: \n",
            "\n",
            "WARNING:rpy2.rinterface_lib.callbacks:R[write to console]: \n",
            "WARNING:rpy2.rinterface_lib.callbacks:R[write to console]: The downloaded source packages are in\n",
            "\t‘/tmp/RtmpJqFSTG/downloaded_packages’\n",
            "WARNING:rpy2.rinterface_lib.callbacks:R[write to console]: \n",
            "WARNING:rpy2.rinterface_lib.callbacks:R[write to console]: \n",
            "\n",
            "WARNING:rpy2.rinterface_lib.callbacks:R[write to console]: Installing package into ‘/usr/local/lib/R/site-library’\n",
            "(as ‘lib’ is unspecified)\n",
            "\n",
            "WARNING:rpy2.rinterface_lib.callbacks:R[write to console]: trying URL 'https://cran.rstudio.com/src/contrib/doParallel_1.0.17.tar.gz'\n",
            "\n",
            "WARNING:rpy2.rinterface_lib.callbacks:R[write to console]: Content type 'application/x-gzip'\n",
            "WARNING:rpy2.rinterface_lib.callbacks:R[write to console]:  length 164254 bytes (160 KB)\n",
            "\n",
            "WARNING:rpy2.rinterface_lib.callbacks:R[write to console]: =\n",
            "WARNING:rpy2.rinterface_lib.callbacks:R[write to console]: =\n",
            "WARNING:rpy2.rinterface_lib.callbacks:R[write to console]: =\n",
            "WARNING:rpy2.rinterface_lib.callbacks:R[write to console]: =\n",
            "WARNING:rpy2.rinterface_lib.callbacks:R[write to console]: =\n",
            "WARNING:rpy2.rinterface_lib.callbacks:R[write to console]: =\n",
            "WARNING:rpy2.rinterface_lib.callbacks:R[write to console]: =\n",
            "WARNING:rpy2.rinterface_lib.callbacks:R[write to console]: =\n",
            "WARNING:rpy2.rinterface_lib.callbacks:R[write to console]: =\n",
            "WARNING:rpy2.rinterface_lib.callbacks:R[write to console]: =\n",
            "WARNING:rpy2.rinterface_lib.callbacks:R[write to console]: =\n",
            "WARNING:rpy2.rinterface_lib.callbacks:R[write to console]: =\n",
            "WARNING:rpy2.rinterface_lib.callbacks:R[write to console]: =\n",
            "WARNING:rpy2.rinterface_lib.callbacks:R[write to console]: =\n",
            "WARNING:rpy2.rinterface_lib.callbacks:R[write to console]: =\n",
            "WARNING:rpy2.rinterface_lib.callbacks:R[write to console]: =\n",
            "WARNING:rpy2.rinterface_lib.callbacks:R[write to console]: =\n",
            "WARNING:rpy2.rinterface_lib.callbacks:R[write to console]: =\n",
            "WARNING:rpy2.rinterface_lib.callbacks:R[write to console]: =\n",
            "WARNING:rpy2.rinterface_lib.callbacks:R[write to console]: =\n",
            "WARNING:rpy2.rinterface_lib.callbacks:R[write to console]: =\n",
            "WARNING:rpy2.rinterface_lib.callbacks:R[write to console]: =\n",
            "WARNING:rpy2.rinterface_lib.callbacks:R[write to console]: =\n",
            "WARNING:rpy2.rinterface_lib.callbacks:R[write to console]: =\n",
            "WARNING:rpy2.rinterface_lib.callbacks:R[write to console]: =\n",
            "WARNING:rpy2.rinterface_lib.callbacks:R[write to console]: =\n",
            "WARNING:rpy2.rinterface_lib.callbacks:R[write to console]: =\n",
            "WARNING:rpy2.rinterface_lib.callbacks:R[write to console]: =\n",
            "WARNING:rpy2.rinterface_lib.callbacks:R[write to console]: =\n",
            "WARNING:rpy2.rinterface_lib.callbacks:R[write to console]: =\n",
            "WARNING:rpy2.rinterface_lib.callbacks:R[write to console]: =\n",
            "WARNING:rpy2.rinterface_lib.callbacks:R[write to console]: =\n",
            "WARNING:rpy2.rinterface_lib.callbacks:R[write to console]: =\n",
            "WARNING:rpy2.rinterface_lib.callbacks:R[write to console]: =\n",
            "WARNING:rpy2.rinterface_lib.callbacks:R[write to console]: =\n",
            "WARNING:rpy2.rinterface_lib.callbacks:R[write to console]: =\n",
            "WARNING:rpy2.rinterface_lib.callbacks:R[write to console]: =\n",
            "WARNING:rpy2.rinterface_lib.callbacks:R[write to console]: =\n",
            "WARNING:rpy2.rinterface_lib.callbacks:R[write to console]: =\n",
            "WARNING:rpy2.rinterface_lib.callbacks:R[write to console]: =\n",
            "WARNING:rpy2.rinterface_lib.callbacks:R[write to console]: =\n",
            "WARNING:rpy2.rinterface_lib.callbacks:R[write to console]: =\n",
            "WARNING:rpy2.rinterface_lib.callbacks:R[write to console]: =\n",
            "WARNING:rpy2.rinterface_lib.callbacks:R[write to console]: =\n",
            "WARNING:rpy2.rinterface_lib.callbacks:R[write to console]: =\n",
            "WARNING:rpy2.rinterface_lib.callbacks:R[write to console]: =\n",
            "WARNING:rpy2.rinterface_lib.callbacks:R[write to console]: =\n",
            "WARNING:rpy2.rinterface_lib.callbacks:R[write to console]: =\n",
            "WARNING:rpy2.rinterface_lib.callbacks:R[write to console]: =\n",
            "WARNING:rpy2.rinterface_lib.callbacks:R[write to console]: =\n",
            "WARNING:rpy2.rinterface_lib.callbacks:R[write to console]: \n",
            "\n",
            "WARNING:rpy2.rinterface_lib.callbacks:R[write to console]: downloaded 160 KB\n",
            "\n",
            "\n",
            "WARNING:rpy2.rinterface_lib.callbacks:R[write to console]: \n",
            "\n",
            "WARNING:rpy2.rinterface_lib.callbacks:R[write to console]: \n",
            "WARNING:rpy2.rinterface_lib.callbacks:R[write to console]: The downloaded source packages are in\n",
            "\t‘/tmp/RtmpJqFSTG/downloaded_packages’\n",
            "WARNING:rpy2.rinterface_lib.callbacks:R[write to console]: \n",
            "WARNING:rpy2.rinterface_lib.callbacks:R[write to console]: \n",
            "\n",
            "WARNING:rpy2.rinterface_lib.callbacks:R[write to console]: Installing package into ‘/usr/local/lib/R/site-library’\n",
            "(as ‘lib’ is unspecified)\n",
            "\n",
            "WARNING:rpy2.rinterface_lib.callbacks:R[write to console]: also installing the dependencies ‘textshaping’, ‘ragg’\n",
            "\n",
            "\n",
            "WARNING:rpy2.rinterface_lib.callbacks:R[write to console]: trying URL 'https://cran.rstudio.com/src/contrib/textshaping_0.3.6.tar.gz'\n",
            "\n",
            "WARNING:rpy2.rinterface_lib.callbacks:R[write to console]: Content type 'application/x-gzip'\n",
            "WARNING:rpy2.rinterface_lib.callbacks:R[write to console]:  length 35722 bytes (34 KB)\n",
            "\n",
            "WARNING:rpy2.rinterface_lib.callbacks:R[write to console]: =\n",
            "WARNING:rpy2.rinterface_lib.callbacks:R[write to console]: =\n",
            "WARNING:rpy2.rinterface_lib.callbacks:R[write to console]: =\n",
            "WARNING:rpy2.rinterface_lib.callbacks:R[write to console]: =\n",
            "WARNING:rpy2.rinterface_lib.callbacks:R[write to console]: =\n",
            "WARNING:rpy2.rinterface_lib.callbacks:R[write to console]: =\n",
            "WARNING:rpy2.rinterface_lib.callbacks:R[write to console]: =\n",
            "WARNING:rpy2.rinterface_lib.callbacks:R[write to console]: =\n",
            "WARNING:rpy2.rinterface_lib.callbacks:R[write to console]: =\n",
            "WARNING:rpy2.rinterface_lib.callbacks:R[write to console]: =\n",
            "WARNING:rpy2.rinterface_lib.callbacks:R[write to console]: =\n",
            "WARNING:rpy2.rinterface_lib.callbacks:R[write to console]: =\n",
            "WARNING:rpy2.rinterface_lib.callbacks:R[write to console]: =\n",
            "WARNING:rpy2.rinterface_lib.callbacks:R[write to console]: =\n",
            "WARNING:rpy2.rinterface_lib.callbacks:R[write to console]: =\n",
            "WARNING:rpy2.rinterface_lib.callbacks:R[write to console]: =\n",
            "WARNING:rpy2.rinterface_lib.callbacks:R[write to console]: =\n",
            "WARNING:rpy2.rinterface_lib.callbacks:R[write to console]: =\n",
            "WARNING:rpy2.rinterface_lib.callbacks:R[write to console]: =\n",
            "WARNING:rpy2.rinterface_lib.callbacks:R[write to console]: =\n",
            "WARNING:rpy2.rinterface_lib.callbacks:R[write to console]: =\n",
            "WARNING:rpy2.rinterface_lib.callbacks:R[write to console]: =\n",
            "WARNING:rpy2.rinterface_lib.callbacks:R[write to console]: =\n",
            "WARNING:rpy2.rinterface_lib.callbacks:R[write to console]: =\n",
            "WARNING:rpy2.rinterface_lib.callbacks:R[write to console]: =\n",
            "WARNING:rpy2.rinterface_lib.callbacks:R[write to console]: =\n",
            "WARNING:rpy2.rinterface_lib.callbacks:R[write to console]: =\n",
            "WARNING:rpy2.rinterface_lib.callbacks:R[write to console]: =\n",
            "WARNING:rpy2.rinterface_lib.callbacks:R[write to console]: =\n",
            "WARNING:rpy2.rinterface_lib.callbacks:R[write to console]: =\n",
            "WARNING:rpy2.rinterface_lib.callbacks:R[write to console]: =\n",
            "WARNING:rpy2.rinterface_lib.callbacks:R[write to console]: =\n",
            "WARNING:rpy2.rinterface_lib.callbacks:R[write to console]: =\n",
            "WARNING:rpy2.rinterface_lib.callbacks:R[write to console]: =\n",
            "WARNING:rpy2.rinterface_lib.callbacks:R[write to console]: =\n",
            "WARNING:rpy2.rinterface_lib.callbacks:R[write to console]: =\n",
            "WARNING:rpy2.rinterface_lib.callbacks:R[write to console]: =\n",
            "WARNING:rpy2.rinterface_lib.callbacks:R[write to console]: =\n",
            "WARNING:rpy2.rinterface_lib.callbacks:R[write to console]: =\n",
            "WARNING:rpy2.rinterface_lib.callbacks:R[write to console]: =\n",
            "WARNING:rpy2.rinterface_lib.callbacks:R[write to console]: =\n",
            "WARNING:rpy2.rinterface_lib.callbacks:R[write to console]: =\n",
            "WARNING:rpy2.rinterface_lib.callbacks:R[write to console]: =\n",
            "WARNING:rpy2.rinterface_lib.callbacks:R[write to console]: =\n",
            "WARNING:rpy2.rinterface_lib.callbacks:R[write to console]: =\n",
            "WARNING:rpy2.rinterface_lib.callbacks:R[write to console]: =\n",
            "WARNING:rpy2.rinterface_lib.callbacks:R[write to console]: =\n",
            "WARNING:rpy2.rinterface_lib.callbacks:R[write to console]: =\n",
            "WARNING:rpy2.rinterface_lib.callbacks:R[write to console]: =\n",
            "WARNING:rpy2.rinterface_lib.callbacks:R[write to console]: =\n",
            "WARNING:rpy2.rinterface_lib.callbacks:R[write to console]: \n",
            "\n",
            "WARNING:rpy2.rinterface_lib.callbacks:R[write to console]: downloaded 34 KB\n",
            "\n",
            "\n",
            "WARNING:rpy2.rinterface_lib.callbacks:R[write to console]: trying URL 'https://cran.rstudio.com/src/contrib/ragg_1.2.5.tar.gz'\n",
            "\n",
            "WARNING:rpy2.rinterface_lib.callbacks:R[write to console]: Content type 'application/x-gzip'\n",
            "WARNING:rpy2.rinterface_lib.callbacks:R[write to console]:  length 427859 bytes (417 KB)\n",
            "\n",
            "WARNING:rpy2.rinterface_lib.callbacks:R[write to console]: =\n",
            "WARNING:rpy2.rinterface_lib.callbacks:R[write to console]: =\n",
            "WARNING:rpy2.rinterface_lib.callbacks:R[write to console]: =\n",
            "WARNING:rpy2.rinterface_lib.callbacks:R[write to console]: =\n",
            "WARNING:rpy2.rinterface_lib.callbacks:R[write to console]: =\n",
            "WARNING:rpy2.rinterface_lib.callbacks:R[write to console]: =\n",
            "WARNING:rpy2.rinterface_lib.callbacks:R[write to console]: =\n",
            "WARNING:rpy2.rinterface_lib.callbacks:R[write to console]: =\n",
            "WARNING:rpy2.rinterface_lib.callbacks:R[write to console]: =\n",
            "WARNING:rpy2.rinterface_lib.callbacks:R[write to console]: =\n",
            "WARNING:rpy2.rinterface_lib.callbacks:R[write to console]: =\n",
            "WARNING:rpy2.rinterface_lib.callbacks:R[write to console]: =\n",
            "WARNING:rpy2.rinterface_lib.callbacks:R[write to console]: =\n",
            "WARNING:rpy2.rinterface_lib.callbacks:R[write to console]: =\n",
            "WARNING:rpy2.rinterface_lib.callbacks:R[write to console]: =\n",
            "WARNING:rpy2.rinterface_lib.callbacks:R[write to console]: =\n",
            "WARNING:rpy2.rinterface_lib.callbacks:R[write to console]: =\n",
            "WARNING:rpy2.rinterface_lib.callbacks:R[write to console]: =\n",
            "WARNING:rpy2.rinterface_lib.callbacks:R[write to console]: =\n",
            "WARNING:rpy2.rinterface_lib.callbacks:R[write to console]: =\n",
            "WARNING:rpy2.rinterface_lib.callbacks:R[write to console]: =\n",
            "WARNING:rpy2.rinterface_lib.callbacks:R[write to console]: =\n",
            "WARNING:rpy2.rinterface_lib.callbacks:R[write to console]: =\n",
            "WARNING:rpy2.rinterface_lib.callbacks:R[write to console]: =\n",
            "WARNING:rpy2.rinterface_lib.callbacks:R[write to console]: =\n",
            "WARNING:rpy2.rinterface_lib.callbacks:R[write to console]: =\n",
            "WARNING:rpy2.rinterface_lib.callbacks:R[write to console]: =\n",
            "WARNING:rpy2.rinterface_lib.callbacks:R[write to console]: =\n",
            "WARNING:rpy2.rinterface_lib.callbacks:R[write to console]: =\n",
            "WARNING:rpy2.rinterface_lib.callbacks:R[write to console]: =\n",
            "WARNING:rpy2.rinterface_lib.callbacks:R[write to console]: =\n",
            "WARNING:rpy2.rinterface_lib.callbacks:R[write to console]: =\n",
            "WARNING:rpy2.rinterface_lib.callbacks:R[write to console]: =\n",
            "WARNING:rpy2.rinterface_lib.callbacks:R[write to console]: =\n",
            "WARNING:rpy2.rinterface_lib.callbacks:R[write to console]: =\n",
            "WARNING:rpy2.rinterface_lib.callbacks:R[write to console]: =\n",
            "WARNING:rpy2.rinterface_lib.callbacks:R[write to console]: =\n",
            "WARNING:rpy2.rinterface_lib.callbacks:R[write to console]: =\n",
            "WARNING:rpy2.rinterface_lib.callbacks:R[write to console]: =\n",
            "WARNING:rpy2.rinterface_lib.callbacks:R[write to console]: =\n",
            "WARNING:rpy2.rinterface_lib.callbacks:R[write to console]: =\n",
            "WARNING:rpy2.rinterface_lib.callbacks:R[write to console]: =\n",
            "WARNING:rpy2.rinterface_lib.callbacks:R[write to console]: =\n",
            "WARNING:rpy2.rinterface_lib.callbacks:R[write to console]: =\n",
            "WARNING:rpy2.rinterface_lib.callbacks:R[write to console]: =\n",
            "WARNING:rpy2.rinterface_lib.callbacks:R[write to console]: =\n",
            "WARNING:rpy2.rinterface_lib.callbacks:R[write to console]: =\n",
            "WARNING:rpy2.rinterface_lib.callbacks:R[write to console]: =\n",
            "WARNING:rpy2.rinterface_lib.callbacks:R[write to console]: =\n",
            "WARNING:rpy2.rinterface_lib.callbacks:R[write to console]: =\n",
            "WARNING:rpy2.rinterface_lib.callbacks:R[write to console]: \n",
            "\n",
            "WARNING:rpy2.rinterface_lib.callbacks:R[write to console]: downloaded 417 KB\n",
            "\n",
            "\n",
            "WARNING:rpy2.rinterface_lib.callbacks:R[write to console]: trying URL 'https://cran.rstudio.com/src/contrib/tidyverse_2.0.0.tar.gz'\n",
            "\n",
            "WARNING:rpy2.rinterface_lib.callbacks:R[write to console]: Content type 'application/x-gzip'\n",
            "WARNING:rpy2.rinterface_lib.callbacks:R[write to console]:  length 704618 bytes (688 KB)\n",
            "\n",
            "WARNING:rpy2.rinterface_lib.callbacks:R[write to console]: =\n",
            "WARNING:rpy2.rinterface_lib.callbacks:R[write to console]: =\n",
            "WARNING:rpy2.rinterface_lib.callbacks:R[write to console]: =\n",
            "WARNING:rpy2.rinterface_lib.callbacks:R[write to console]: =\n",
            "WARNING:rpy2.rinterface_lib.callbacks:R[write to console]: =\n",
            "WARNING:rpy2.rinterface_lib.callbacks:R[write to console]: =\n",
            "WARNING:rpy2.rinterface_lib.callbacks:R[write to console]: =\n",
            "WARNING:rpy2.rinterface_lib.callbacks:R[write to console]: =\n",
            "WARNING:rpy2.rinterface_lib.callbacks:R[write to console]: =\n",
            "WARNING:rpy2.rinterface_lib.callbacks:R[write to console]: =\n",
            "WARNING:rpy2.rinterface_lib.callbacks:R[write to console]: =\n",
            "WARNING:rpy2.rinterface_lib.callbacks:R[write to console]: =\n",
            "WARNING:rpy2.rinterface_lib.callbacks:R[write to console]: =\n",
            "WARNING:rpy2.rinterface_lib.callbacks:R[write to console]: =\n",
            "WARNING:rpy2.rinterface_lib.callbacks:R[write to console]: =\n",
            "WARNING:rpy2.rinterface_lib.callbacks:R[write to console]: =\n",
            "WARNING:rpy2.rinterface_lib.callbacks:R[write to console]: =\n",
            "WARNING:rpy2.rinterface_lib.callbacks:R[write to console]: =\n",
            "WARNING:rpy2.rinterface_lib.callbacks:R[write to console]: =\n",
            "WARNING:rpy2.rinterface_lib.callbacks:R[write to console]: =\n",
            "WARNING:rpy2.rinterface_lib.callbacks:R[write to console]: =\n",
            "WARNING:rpy2.rinterface_lib.callbacks:R[write to console]: =\n",
            "WARNING:rpy2.rinterface_lib.callbacks:R[write to console]: =\n",
            "WARNING:rpy2.rinterface_lib.callbacks:R[write to console]: =\n",
            "WARNING:rpy2.rinterface_lib.callbacks:R[write to console]: =\n",
            "WARNING:rpy2.rinterface_lib.callbacks:R[write to console]: =\n",
            "WARNING:rpy2.rinterface_lib.callbacks:R[write to console]: =\n",
            "WARNING:rpy2.rinterface_lib.callbacks:R[write to console]: =\n",
            "WARNING:rpy2.rinterface_lib.callbacks:R[write to console]: =\n",
            "WARNING:rpy2.rinterface_lib.callbacks:R[write to console]: =\n",
            "WARNING:rpy2.rinterface_lib.callbacks:R[write to console]: =\n",
            "WARNING:rpy2.rinterface_lib.callbacks:R[write to console]: =\n",
            "WARNING:rpy2.rinterface_lib.callbacks:R[write to console]: =\n",
            "WARNING:rpy2.rinterface_lib.callbacks:R[write to console]: =\n",
            "WARNING:rpy2.rinterface_lib.callbacks:R[write to console]: =\n",
            "WARNING:rpy2.rinterface_lib.callbacks:R[write to console]: =\n",
            "WARNING:rpy2.rinterface_lib.callbacks:R[write to console]: =\n",
            "WARNING:rpy2.rinterface_lib.callbacks:R[write to console]: =\n",
            "WARNING:rpy2.rinterface_lib.callbacks:R[write to console]: =\n",
            "WARNING:rpy2.rinterface_lib.callbacks:R[write to console]: =\n",
            "WARNING:rpy2.rinterface_lib.callbacks:R[write to console]: =\n",
            "WARNING:rpy2.rinterface_lib.callbacks:R[write to console]: =\n",
            "WARNING:rpy2.rinterface_lib.callbacks:R[write to console]: =\n",
            "WARNING:rpy2.rinterface_lib.callbacks:R[write to console]: =\n",
            "WARNING:rpy2.rinterface_lib.callbacks:R[write to console]: =\n",
            "WARNING:rpy2.rinterface_lib.callbacks:R[write to console]: =\n",
            "WARNING:rpy2.rinterface_lib.callbacks:R[write to console]: =\n",
            "WARNING:rpy2.rinterface_lib.callbacks:R[write to console]: =\n",
            "WARNING:rpy2.rinterface_lib.callbacks:R[write to console]: =\n",
            "WARNING:rpy2.rinterface_lib.callbacks:R[write to console]: =\n",
            "WARNING:rpy2.rinterface_lib.callbacks:R[write to console]: \n",
            "\n",
            "WARNING:rpy2.rinterface_lib.callbacks:R[write to console]: downloaded 688 KB\n",
            "\n",
            "\n",
            "WARNING:rpy2.rinterface_lib.callbacks:R[write to console]: \n",
            "\n",
            "WARNING:rpy2.rinterface_lib.callbacks:R[write to console]: \n",
            "WARNING:rpy2.rinterface_lib.callbacks:R[write to console]: The downloaded source packages are in\n",
            "\t‘/tmp/RtmpJqFSTG/downloaded_packages’\n",
            "WARNING:rpy2.rinterface_lib.callbacks:R[write to console]: \n",
            "WARNING:rpy2.rinterface_lib.callbacks:R[write to console]: \n",
            "\n",
            "WARNING:rpy2.rinterface_lib.callbacks:R[write to console]: Installing package into ‘/usr/local/lib/R/site-library’\n",
            "(as ‘lib’ is unspecified)\n",
            "\n",
            "WARNING:rpy2.rinterface_lib.callbacks:R[write to console]: trying URL 'https://cran.rstudio.com/src/contrib/gsubfn_0.7.tar.gz'\n",
            "\n",
            "WARNING:rpy2.rinterface_lib.callbacks:R[write to console]: Content type 'application/x-gzip'\n",
            "WARNING:rpy2.rinterface_lib.callbacks:R[write to console]:  length 311271 bytes (303 KB)\n",
            "\n",
            "WARNING:rpy2.rinterface_lib.callbacks:R[write to console]: =\n",
            "WARNING:rpy2.rinterface_lib.callbacks:R[write to console]: =\n",
            "WARNING:rpy2.rinterface_lib.callbacks:R[write to console]: =\n",
            "WARNING:rpy2.rinterface_lib.callbacks:R[write to console]: =\n",
            "WARNING:rpy2.rinterface_lib.callbacks:R[write to console]: =\n",
            "WARNING:rpy2.rinterface_lib.callbacks:R[write to console]: =\n",
            "WARNING:rpy2.rinterface_lib.callbacks:R[write to console]: =\n",
            "WARNING:rpy2.rinterface_lib.callbacks:R[write to console]: =\n",
            "WARNING:rpy2.rinterface_lib.callbacks:R[write to console]: =\n",
            "WARNING:rpy2.rinterface_lib.callbacks:R[write to console]: =\n",
            "WARNING:rpy2.rinterface_lib.callbacks:R[write to console]: =\n",
            "WARNING:rpy2.rinterface_lib.callbacks:R[write to console]: =\n",
            "WARNING:rpy2.rinterface_lib.callbacks:R[write to console]: =\n",
            "WARNING:rpy2.rinterface_lib.callbacks:R[write to console]: =\n",
            "WARNING:rpy2.rinterface_lib.callbacks:R[write to console]: =\n",
            "WARNING:rpy2.rinterface_lib.callbacks:R[write to console]: =\n",
            "WARNING:rpy2.rinterface_lib.callbacks:R[write to console]: =\n",
            "WARNING:rpy2.rinterface_lib.callbacks:R[write to console]: =\n",
            "WARNING:rpy2.rinterface_lib.callbacks:R[write to console]: =\n",
            "WARNING:rpy2.rinterface_lib.callbacks:R[write to console]: =\n",
            "WARNING:rpy2.rinterface_lib.callbacks:R[write to console]: =\n",
            "WARNING:rpy2.rinterface_lib.callbacks:R[write to console]: =\n",
            "WARNING:rpy2.rinterface_lib.callbacks:R[write to console]: =\n",
            "WARNING:rpy2.rinterface_lib.callbacks:R[write to console]: =\n",
            "WARNING:rpy2.rinterface_lib.callbacks:R[write to console]: =\n",
            "WARNING:rpy2.rinterface_lib.callbacks:R[write to console]: =\n",
            "WARNING:rpy2.rinterface_lib.callbacks:R[write to console]: =\n",
            "WARNING:rpy2.rinterface_lib.callbacks:R[write to console]: =\n",
            "WARNING:rpy2.rinterface_lib.callbacks:R[write to console]: =\n",
            "WARNING:rpy2.rinterface_lib.callbacks:R[write to console]: =\n",
            "WARNING:rpy2.rinterface_lib.callbacks:R[write to console]: =\n",
            "WARNING:rpy2.rinterface_lib.callbacks:R[write to console]: =\n",
            "WARNING:rpy2.rinterface_lib.callbacks:R[write to console]: =\n",
            "WARNING:rpy2.rinterface_lib.callbacks:R[write to console]: =\n",
            "WARNING:rpy2.rinterface_lib.callbacks:R[write to console]: =\n",
            "WARNING:rpy2.rinterface_lib.callbacks:R[write to console]: =\n",
            "WARNING:rpy2.rinterface_lib.callbacks:R[write to console]: =\n",
            "WARNING:rpy2.rinterface_lib.callbacks:R[write to console]: =\n",
            "WARNING:rpy2.rinterface_lib.callbacks:R[write to console]: =\n",
            "WARNING:rpy2.rinterface_lib.callbacks:R[write to console]: =\n",
            "WARNING:rpy2.rinterface_lib.callbacks:R[write to console]: =\n",
            "WARNING:rpy2.rinterface_lib.callbacks:R[write to console]: =\n",
            "WARNING:rpy2.rinterface_lib.callbacks:R[write to console]: =\n",
            "WARNING:rpy2.rinterface_lib.callbacks:R[write to console]: =\n",
            "WARNING:rpy2.rinterface_lib.callbacks:R[write to console]: =\n",
            "WARNING:rpy2.rinterface_lib.callbacks:R[write to console]: =\n",
            "WARNING:rpy2.rinterface_lib.callbacks:R[write to console]: =\n",
            "WARNING:rpy2.rinterface_lib.callbacks:R[write to console]: =\n",
            "WARNING:rpy2.rinterface_lib.callbacks:R[write to console]: =\n",
            "WARNING:rpy2.rinterface_lib.callbacks:R[write to console]: =\n",
            "WARNING:rpy2.rinterface_lib.callbacks:R[write to console]: \n",
            "\n",
            "WARNING:rpy2.rinterface_lib.callbacks:R[write to console]: downloaded 303 KB\n",
            "\n",
            "\n",
            "WARNING:rpy2.rinterface_lib.callbacks:R[write to console]: \n",
            "\n",
            "WARNING:rpy2.rinterface_lib.callbacks:R[write to console]: \n",
            "WARNING:rpy2.rinterface_lib.callbacks:R[write to console]: The downloaded source packages are in\n",
            "\t‘/tmp/RtmpJqFSTG/downloaded_packages’\n",
            "WARNING:rpy2.rinterface_lib.callbacks:R[write to console]: \n",
            "WARNING:rpy2.rinterface_lib.callbacks:R[write to console]: \n",
            "\n",
            "WARNING:rpy2.rinterface_lib.callbacks:R[write to console]: Installing package into ‘/usr/local/lib/R/site-library’\n",
            "(as ‘lib’ is unspecified)\n",
            "\n",
            "WARNING:rpy2.rinterface_lib.callbacks:R[write to console]: trying URL 'https://cran.rstudio.com/src/contrib/zoo_1.8-12.tar.gz'\n",
            "\n",
            "WARNING:rpy2.rinterface_lib.callbacks:R[write to console]: Content type 'application/x-gzip'\n",
            "WARNING:rpy2.rinterface_lib.callbacks:R[write to console]:  length 782344 bytes (764 KB)\n",
            "\n",
            "WARNING:rpy2.rinterface_lib.callbacks:R[write to console]: =\n",
            "WARNING:rpy2.rinterface_lib.callbacks:R[write to console]: =\n",
            "WARNING:rpy2.rinterface_lib.callbacks:R[write to console]: =\n",
            "WARNING:rpy2.rinterface_lib.callbacks:R[write to console]: =\n",
            "WARNING:rpy2.rinterface_lib.callbacks:R[write to console]: =\n",
            "WARNING:rpy2.rinterface_lib.callbacks:R[write to console]: =\n",
            "WARNING:rpy2.rinterface_lib.callbacks:R[write to console]: =\n",
            "WARNING:rpy2.rinterface_lib.callbacks:R[write to console]: =\n",
            "WARNING:rpy2.rinterface_lib.callbacks:R[write to console]: =\n",
            "WARNING:rpy2.rinterface_lib.callbacks:R[write to console]: =\n",
            "WARNING:rpy2.rinterface_lib.callbacks:R[write to console]: =\n",
            "WARNING:rpy2.rinterface_lib.callbacks:R[write to console]: =\n",
            "WARNING:rpy2.rinterface_lib.callbacks:R[write to console]: =\n",
            "WARNING:rpy2.rinterface_lib.callbacks:R[write to console]: =\n",
            "WARNING:rpy2.rinterface_lib.callbacks:R[write to console]: =\n",
            "WARNING:rpy2.rinterface_lib.callbacks:R[write to console]: =\n",
            "WARNING:rpy2.rinterface_lib.callbacks:R[write to console]: =\n",
            "WARNING:rpy2.rinterface_lib.callbacks:R[write to console]: =\n",
            "WARNING:rpy2.rinterface_lib.callbacks:R[write to console]: =\n",
            "WARNING:rpy2.rinterface_lib.callbacks:R[write to console]: =\n",
            "WARNING:rpy2.rinterface_lib.callbacks:R[write to console]: =\n",
            "WARNING:rpy2.rinterface_lib.callbacks:R[write to console]: =\n",
            "WARNING:rpy2.rinterface_lib.callbacks:R[write to console]: =\n",
            "WARNING:rpy2.rinterface_lib.callbacks:R[write to console]: =\n",
            "WARNING:rpy2.rinterface_lib.callbacks:R[write to console]: =\n",
            "WARNING:rpy2.rinterface_lib.callbacks:R[write to console]: =\n",
            "WARNING:rpy2.rinterface_lib.callbacks:R[write to console]: =\n",
            "WARNING:rpy2.rinterface_lib.callbacks:R[write to console]: =\n",
            "WARNING:rpy2.rinterface_lib.callbacks:R[write to console]: =\n",
            "WARNING:rpy2.rinterface_lib.callbacks:R[write to console]: =\n",
            "WARNING:rpy2.rinterface_lib.callbacks:R[write to console]: =\n",
            "WARNING:rpy2.rinterface_lib.callbacks:R[write to console]: =\n",
            "WARNING:rpy2.rinterface_lib.callbacks:R[write to console]: =\n",
            "WARNING:rpy2.rinterface_lib.callbacks:R[write to console]: =\n",
            "WARNING:rpy2.rinterface_lib.callbacks:R[write to console]: =\n",
            "WARNING:rpy2.rinterface_lib.callbacks:R[write to console]: =\n",
            "WARNING:rpy2.rinterface_lib.callbacks:R[write to console]: =\n",
            "WARNING:rpy2.rinterface_lib.callbacks:R[write to console]: =\n",
            "WARNING:rpy2.rinterface_lib.callbacks:R[write to console]: =\n",
            "WARNING:rpy2.rinterface_lib.callbacks:R[write to console]: =\n",
            "WARNING:rpy2.rinterface_lib.callbacks:R[write to console]: =\n",
            "WARNING:rpy2.rinterface_lib.callbacks:R[write to console]: =\n",
            "WARNING:rpy2.rinterface_lib.callbacks:R[write to console]: =\n",
            "WARNING:rpy2.rinterface_lib.callbacks:R[write to console]: =\n",
            "WARNING:rpy2.rinterface_lib.callbacks:R[write to console]: =\n",
            "WARNING:rpy2.rinterface_lib.callbacks:R[write to console]: =\n",
            "WARNING:rpy2.rinterface_lib.callbacks:R[write to console]: =\n",
            "WARNING:rpy2.rinterface_lib.callbacks:R[write to console]: =\n",
            "WARNING:rpy2.rinterface_lib.callbacks:R[write to console]: =\n",
            "WARNING:rpy2.rinterface_lib.callbacks:R[write to console]: =\n",
            "WARNING:rpy2.rinterface_lib.callbacks:R[write to console]: \n",
            "\n",
            "WARNING:rpy2.rinterface_lib.callbacks:R[write to console]: downloaded 764 KB\n",
            "\n",
            "\n",
            "WARNING:rpy2.rinterface_lib.callbacks:R[write to console]: \n",
            "\n",
            "WARNING:rpy2.rinterface_lib.callbacks:R[write to console]: \n",
            "WARNING:rpy2.rinterface_lib.callbacks:R[write to console]: The downloaded source packages are in\n",
            "\t‘/tmp/RtmpJqFSTG/downloaded_packages’\n",
            "WARNING:rpy2.rinterface_lib.callbacks:R[write to console]: \n",
            "WARNING:rpy2.rinterface_lib.callbacks:R[write to console]: \n",
            "\n",
            "WARNING:rpy2.rinterface_lib.callbacks:R[write to console]: Installing package into ‘/usr/local/lib/R/site-library’\n",
            "(as ‘lib’ is unspecified)\n",
            "\n",
            "WARNING:rpy2.rinterface_lib.callbacks:R[write to console]: trying URL 'https://cran.rstudio.com/src/contrib/snow_0.4-4.tar.gz'\n",
            "\n",
            "WARNING:rpy2.rinterface_lib.callbacks:R[write to console]: Content type 'application/x-gzip'\n",
            "WARNING:rpy2.rinterface_lib.callbacks:R[write to console]:  length 20464 bytes (19 KB)\n",
            "\n",
            "WARNING:rpy2.rinterface_lib.callbacks:R[write to console]: =\n",
            "WARNING:rpy2.rinterface_lib.callbacks:R[write to console]: =\n",
            "WARNING:rpy2.rinterface_lib.callbacks:R[write to console]: =\n",
            "WARNING:rpy2.rinterface_lib.callbacks:R[write to console]: =\n",
            "WARNING:rpy2.rinterface_lib.callbacks:R[write to console]: =\n",
            "WARNING:rpy2.rinterface_lib.callbacks:R[write to console]: =\n",
            "WARNING:rpy2.rinterface_lib.callbacks:R[write to console]: =\n",
            "WARNING:rpy2.rinterface_lib.callbacks:R[write to console]: =\n",
            "WARNING:rpy2.rinterface_lib.callbacks:R[write to console]: =\n",
            "WARNING:rpy2.rinterface_lib.callbacks:R[write to console]: =\n",
            "WARNING:rpy2.rinterface_lib.callbacks:R[write to console]: =\n",
            "WARNING:rpy2.rinterface_lib.callbacks:R[write to console]: =\n",
            "WARNING:rpy2.rinterface_lib.callbacks:R[write to console]: =\n",
            "WARNING:rpy2.rinterface_lib.callbacks:R[write to console]: =\n",
            "WARNING:rpy2.rinterface_lib.callbacks:R[write to console]: =\n",
            "WARNING:rpy2.rinterface_lib.callbacks:R[write to console]: =\n",
            "WARNING:rpy2.rinterface_lib.callbacks:R[write to console]: =\n",
            "WARNING:rpy2.rinterface_lib.callbacks:R[write to console]: =\n",
            "WARNING:rpy2.rinterface_lib.callbacks:R[write to console]: =\n",
            "WARNING:rpy2.rinterface_lib.callbacks:R[write to console]: =\n",
            "WARNING:rpy2.rinterface_lib.callbacks:R[write to console]: =\n",
            "WARNING:rpy2.rinterface_lib.callbacks:R[write to console]: =\n",
            "WARNING:rpy2.rinterface_lib.callbacks:R[write to console]: =\n",
            "WARNING:rpy2.rinterface_lib.callbacks:R[write to console]: =\n",
            "WARNING:rpy2.rinterface_lib.callbacks:R[write to console]: =\n",
            "WARNING:rpy2.rinterface_lib.callbacks:R[write to console]: =\n",
            "WARNING:rpy2.rinterface_lib.callbacks:R[write to console]: =\n",
            "WARNING:rpy2.rinterface_lib.callbacks:R[write to console]: =\n",
            "WARNING:rpy2.rinterface_lib.callbacks:R[write to console]: =\n",
            "WARNING:rpy2.rinterface_lib.callbacks:R[write to console]: =\n",
            "WARNING:rpy2.rinterface_lib.callbacks:R[write to console]: =\n",
            "WARNING:rpy2.rinterface_lib.callbacks:R[write to console]: =\n",
            "WARNING:rpy2.rinterface_lib.callbacks:R[write to console]: =\n",
            "WARNING:rpy2.rinterface_lib.callbacks:R[write to console]: =\n",
            "WARNING:rpy2.rinterface_lib.callbacks:R[write to console]: =\n",
            "WARNING:rpy2.rinterface_lib.callbacks:R[write to console]: =\n",
            "WARNING:rpy2.rinterface_lib.callbacks:R[write to console]: =\n",
            "WARNING:rpy2.rinterface_lib.callbacks:R[write to console]: =\n",
            "WARNING:rpy2.rinterface_lib.callbacks:R[write to console]: =\n",
            "WARNING:rpy2.rinterface_lib.callbacks:R[write to console]: =\n",
            "WARNING:rpy2.rinterface_lib.callbacks:R[write to console]: =\n",
            "WARNING:rpy2.rinterface_lib.callbacks:R[write to console]: =\n",
            "WARNING:rpy2.rinterface_lib.callbacks:R[write to console]: =\n",
            "WARNING:rpy2.rinterface_lib.callbacks:R[write to console]: =\n",
            "WARNING:rpy2.rinterface_lib.callbacks:R[write to console]: =\n",
            "WARNING:rpy2.rinterface_lib.callbacks:R[write to console]: =\n",
            "WARNING:rpy2.rinterface_lib.callbacks:R[write to console]: =\n",
            "WARNING:rpy2.rinterface_lib.callbacks:R[write to console]: =\n",
            "WARNING:rpy2.rinterface_lib.callbacks:R[write to console]: =\n",
            "WARNING:rpy2.rinterface_lib.callbacks:R[write to console]: =\n",
            "WARNING:rpy2.rinterface_lib.callbacks:R[write to console]: \n",
            "\n",
            "WARNING:rpy2.rinterface_lib.callbacks:R[write to console]: downloaded 19 KB\n",
            "\n",
            "\n",
            "WARNING:rpy2.rinterface_lib.callbacks:R[write to console]: \n",
            "\n",
            "WARNING:rpy2.rinterface_lib.callbacks:R[write to console]: \n",
            "WARNING:rpy2.rinterface_lib.callbacks:R[write to console]: The downloaded source packages are in\n",
            "\t‘/tmp/RtmpJqFSTG/downloaded_packages’\n",
            "WARNING:rpy2.rinterface_lib.callbacks:R[write to console]: \n",
            "WARNING:rpy2.rinterface_lib.callbacks:R[write to console]: \n",
            "\n",
            "WARNING:rpy2.rinterface_lib.callbacks:R[write to console]: Installing package into ‘/usr/local/lib/R/site-library’\n",
            "(as ‘lib’ is unspecified)\n",
            "\n",
            "WARNING:rpy2.rinterface_lib.callbacks:R[write to console]: trying URL 'https://cran.rstudio.com/src/contrib/plyr_1.8.8.tar.gz'\n",
            "\n",
            "WARNING:rpy2.rinterface_lib.callbacks:R[write to console]: Content type 'application/x-gzip'\n",
            "WARNING:rpy2.rinterface_lib.callbacks:R[write to console]:  length 401438 bytes (392 KB)\n",
            "\n",
            "WARNING:rpy2.rinterface_lib.callbacks:R[write to console]: =\n",
            "WARNING:rpy2.rinterface_lib.callbacks:R[write to console]: =\n",
            "WARNING:rpy2.rinterface_lib.callbacks:R[write to console]: =\n",
            "WARNING:rpy2.rinterface_lib.callbacks:R[write to console]: =\n",
            "WARNING:rpy2.rinterface_lib.callbacks:R[write to console]: =\n",
            "WARNING:rpy2.rinterface_lib.callbacks:R[write to console]: =\n",
            "WARNING:rpy2.rinterface_lib.callbacks:R[write to console]: =\n",
            "WARNING:rpy2.rinterface_lib.callbacks:R[write to console]: =\n",
            "WARNING:rpy2.rinterface_lib.callbacks:R[write to console]: =\n",
            "WARNING:rpy2.rinterface_lib.callbacks:R[write to console]: =\n",
            "WARNING:rpy2.rinterface_lib.callbacks:R[write to console]: =\n",
            "WARNING:rpy2.rinterface_lib.callbacks:R[write to console]: =\n",
            "WARNING:rpy2.rinterface_lib.callbacks:R[write to console]: =\n",
            "WARNING:rpy2.rinterface_lib.callbacks:R[write to console]: =\n",
            "WARNING:rpy2.rinterface_lib.callbacks:R[write to console]: =\n",
            "WARNING:rpy2.rinterface_lib.callbacks:R[write to console]: =\n",
            "WARNING:rpy2.rinterface_lib.callbacks:R[write to console]: =\n",
            "WARNING:rpy2.rinterface_lib.callbacks:R[write to console]: =\n",
            "WARNING:rpy2.rinterface_lib.callbacks:R[write to console]: =\n",
            "WARNING:rpy2.rinterface_lib.callbacks:R[write to console]: =\n",
            "WARNING:rpy2.rinterface_lib.callbacks:R[write to console]: =\n",
            "WARNING:rpy2.rinterface_lib.callbacks:R[write to console]: =\n",
            "WARNING:rpy2.rinterface_lib.callbacks:R[write to console]: =\n",
            "WARNING:rpy2.rinterface_lib.callbacks:R[write to console]: =\n",
            "WARNING:rpy2.rinterface_lib.callbacks:R[write to console]: =\n",
            "WARNING:rpy2.rinterface_lib.callbacks:R[write to console]: =\n",
            "WARNING:rpy2.rinterface_lib.callbacks:R[write to console]: =\n",
            "WARNING:rpy2.rinterface_lib.callbacks:R[write to console]: =\n",
            "WARNING:rpy2.rinterface_lib.callbacks:R[write to console]: =\n",
            "WARNING:rpy2.rinterface_lib.callbacks:R[write to console]: =\n",
            "WARNING:rpy2.rinterface_lib.callbacks:R[write to console]: =\n",
            "WARNING:rpy2.rinterface_lib.callbacks:R[write to console]: =\n",
            "WARNING:rpy2.rinterface_lib.callbacks:R[write to console]: =\n",
            "WARNING:rpy2.rinterface_lib.callbacks:R[write to console]: =\n",
            "WARNING:rpy2.rinterface_lib.callbacks:R[write to console]: =\n",
            "WARNING:rpy2.rinterface_lib.callbacks:R[write to console]: =\n",
            "WARNING:rpy2.rinterface_lib.callbacks:R[write to console]: =\n",
            "WARNING:rpy2.rinterface_lib.callbacks:R[write to console]: =\n",
            "WARNING:rpy2.rinterface_lib.callbacks:R[write to console]: =\n",
            "WARNING:rpy2.rinterface_lib.callbacks:R[write to console]: =\n",
            "WARNING:rpy2.rinterface_lib.callbacks:R[write to console]: =\n",
            "WARNING:rpy2.rinterface_lib.callbacks:R[write to console]: =\n",
            "WARNING:rpy2.rinterface_lib.callbacks:R[write to console]: =\n",
            "WARNING:rpy2.rinterface_lib.callbacks:R[write to console]: =\n",
            "WARNING:rpy2.rinterface_lib.callbacks:R[write to console]: =\n",
            "WARNING:rpy2.rinterface_lib.callbacks:R[write to console]: =\n",
            "WARNING:rpy2.rinterface_lib.callbacks:R[write to console]: =\n",
            "WARNING:rpy2.rinterface_lib.callbacks:R[write to console]: =\n",
            "WARNING:rpy2.rinterface_lib.callbacks:R[write to console]: =\n",
            "WARNING:rpy2.rinterface_lib.callbacks:R[write to console]: =\n",
            "WARNING:rpy2.rinterface_lib.callbacks:R[write to console]: \n",
            "\n",
            "WARNING:rpy2.rinterface_lib.callbacks:R[write to console]: downloaded 392 KB\n",
            "\n",
            "\n",
            "WARNING:rpy2.rinterface_lib.callbacks:R[write to console]: \n",
            "\n",
            "WARNING:rpy2.rinterface_lib.callbacks:R[write to console]: \n",
            "WARNING:rpy2.rinterface_lib.callbacks:R[write to console]: The downloaded source packages are in\n",
            "\t‘/tmp/RtmpJqFSTG/downloaded_packages’\n",
            "WARNING:rpy2.rinterface_lib.callbacks:R[write to console]: \n",
            "WARNING:rpy2.rinterface_lib.callbacks:R[write to console]: \n",
            "\n",
            "WARNING:rpy2.rinterface_lib.callbacks:R[write to console]: Installing package into ‘/usr/local/lib/R/site-library’\n",
            "(as ‘lib’ is unspecified)\n",
            "\n",
            "WARNING:rpy2.rinterface_lib.callbacks:R[write to console]: trying URL 'https://cran.rstudio.com/src/contrib/gtools_3.9.4.tar.gz'\n",
            "\n",
            "WARNING:rpy2.rinterface_lib.callbacks:R[write to console]: Content type 'application/x-gzip'\n",
            "WARNING:rpy2.rinterface_lib.callbacks:R[write to console]:  length 240661 bytes (235 KB)\n",
            "\n",
            "WARNING:rpy2.rinterface_lib.callbacks:R[write to console]: =\n",
            "WARNING:rpy2.rinterface_lib.callbacks:R[write to console]: =\n",
            "WARNING:rpy2.rinterface_lib.callbacks:R[write to console]: =\n",
            "WARNING:rpy2.rinterface_lib.callbacks:R[write to console]: =\n",
            "WARNING:rpy2.rinterface_lib.callbacks:R[write to console]: =\n",
            "WARNING:rpy2.rinterface_lib.callbacks:R[write to console]: =\n",
            "WARNING:rpy2.rinterface_lib.callbacks:R[write to console]: =\n",
            "WARNING:rpy2.rinterface_lib.callbacks:R[write to console]: =\n",
            "WARNING:rpy2.rinterface_lib.callbacks:R[write to console]: =\n",
            "WARNING:rpy2.rinterface_lib.callbacks:R[write to console]: =\n",
            "WARNING:rpy2.rinterface_lib.callbacks:R[write to console]: =\n",
            "WARNING:rpy2.rinterface_lib.callbacks:R[write to console]: =\n",
            "WARNING:rpy2.rinterface_lib.callbacks:R[write to console]: =\n",
            "WARNING:rpy2.rinterface_lib.callbacks:R[write to console]: =\n",
            "WARNING:rpy2.rinterface_lib.callbacks:R[write to console]: =\n",
            "WARNING:rpy2.rinterface_lib.callbacks:R[write to console]: =\n",
            "WARNING:rpy2.rinterface_lib.callbacks:R[write to console]: =\n",
            "WARNING:rpy2.rinterface_lib.callbacks:R[write to console]: =\n",
            "WARNING:rpy2.rinterface_lib.callbacks:R[write to console]: =\n",
            "WARNING:rpy2.rinterface_lib.callbacks:R[write to console]: =\n",
            "WARNING:rpy2.rinterface_lib.callbacks:R[write to console]: =\n",
            "WARNING:rpy2.rinterface_lib.callbacks:R[write to console]: =\n",
            "WARNING:rpy2.rinterface_lib.callbacks:R[write to console]: =\n",
            "WARNING:rpy2.rinterface_lib.callbacks:R[write to console]: =\n",
            "WARNING:rpy2.rinterface_lib.callbacks:R[write to console]: =\n",
            "WARNING:rpy2.rinterface_lib.callbacks:R[write to console]: =\n",
            "WARNING:rpy2.rinterface_lib.callbacks:R[write to console]: =\n",
            "WARNING:rpy2.rinterface_lib.callbacks:R[write to console]: =\n",
            "WARNING:rpy2.rinterface_lib.callbacks:R[write to console]: =\n",
            "WARNING:rpy2.rinterface_lib.callbacks:R[write to console]: =\n",
            "WARNING:rpy2.rinterface_lib.callbacks:R[write to console]: =\n",
            "WARNING:rpy2.rinterface_lib.callbacks:R[write to console]: =\n",
            "WARNING:rpy2.rinterface_lib.callbacks:R[write to console]: =\n",
            "WARNING:rpy2.rinterface_lib.callbacks:R[write to console]: =\n",
            "WARNING:rpy2.rinterface_lib.callbacks:R[write to console]: =\n",
            "WARNING:rpy2.rinterface_lib.callbacks:R[write to console]: =\n",
            "WARNING:rpy2.rinterface_lib.callbacks:R[write to console]: =\n",
            "WARNING:rpy2.rinterface_lib.callbacks:R[write to console]: =\n",
            "WARNING:rpy2.rinterface_lib.callbacks:R[write to console]: =\n",
            "WARNING:rpy2.rinterface_lib.callbacks:R[write to console]: =\n",
            "WARNING:rpy2.rinterface_lib.callbacks:R[write to console]: =\n",
            "WARNING:rpy2.rinterface_lib.callbacks:R[write to console]: =\n",
            "WARNING:rpy2.rinterface_lib.callbacks:R[write to console]: =\n",
            "WARNING:rpy2.rinterface_lib.callbacks:R[write to console]: =\n",
            "WARNING:rpy2.rinterface_lib.callbacks:R[write to console]: =\n",
            "WARNING:rpy2.rinterface_lib.callbacks:R[write to console]: =\n",
            "WARNING:rpy2.rinterface_lib.callbacks:R[write to console]: =\n",
            "WARNING:rpy2.rinterface_lib.callbacks:R[write to console]: =\n",
            "WARNING:rpy2.rinterface_lib.callbacks:R[write to console]: =\n",
            "WARNING:rpy2.rinterface_lib.callbacks:R[write to console]: =\n",
            "WARNING:rpy2.rinterface_lib.callbacks:R[write to console]: \n",
            "\n",
            "WARNING:rpy2.rinterface_lib.callbacks:R[write to console]: downloaded 235 KB\n",
            "\n",
            "\n",
            "WARNING:rpy2.rinterface_lib.callbacks:R[write to console]: \n",
            "\n",
            "WARNING:rpy2.rinterface_lib.callbacks:R[write to console]: \n",
            "WARNING:rpy2.rinterface_lib.callbacks:R[write to console]: The downloaded source packages are in\n",
            "\t‘/tmp/RtmpJqFSTG/downloaded_packages’\n",
            "WARNING:rpy2.rinterface_lib.callbacks:R[write to console]: \n",
            "WARNING:rpy2.rinterface_lib.callbacks:R[write to console]: \n",
            "\n",
            "WARNING:rpy2.rinterface_lib.callbacks:R[write to console]: Installing package into ‘/usr/local/lib/R/site-library’\n",
            "(as ‘lib’ is unspecified)\n",
            "\n",
            "WARNING:rpy2.rinterface_lib.callbacks:R[write to console]: trying URL 'https://cran.rstudio.com/src/contrib/ggsci_3.0.0.tar.gz'\n",
            "\n",
            "WARNING:rpy2.rinterface_lib.callbacks:R[write to console]: Content type 'application/x-gzip'\n",
            "WARNING:rpy2.rinterface_lib.callbacks:R[write to console]:  length 2312683 bytes (2.2 MB)\n",
            "\n",
            "WARNING:rpy2.rinterface_lib.callbacks:R[write to console]: =\n",
            "WARNING:rpy2.rinterface_lib.callbacks:R[write to console]: =\n",
            "WARNING:rpy2.rinterface_lib.callbacks:R[write to console]: =\n",
            "WARNING:rpy2.rinterface_lib.callbacks:R[write to console]: =\n",
            "WARNING:rpy2.rinterface_lib.callbacks:R[write to console]: =\n",
            "WARNING:rpy2.rinterface_lib.callbacks:R[write to console]: =\n",
            "WARNING:rpy2.rinterface_lib.callbacks:R[write to console]: =\n",
            "WARNING:rpy2.rinterface_lib.callbacks:R[write to console]: =\n",
            "WARNING:rpy2.rinterface_lib.callbacks:R[write to console]: =\n",
            "WARNING:rpy2.rinterface_lib.callbacks:R[write to console]: =\n",
            "WARNING:rpy2.rinterface_lib.callbacks:R[write to console]: =\n",
            "WARNING:rpy2.rinterface_lib.callbacks:R[write to console]: =\n",
            "WARNING:rpy2.rinterface_lib.callbacks:R[write to console]: =\n",
            "WARNING:rpy2.rinterface_lib.callbacks:R[write to console]: =\n",
            "WARNING:rpy2.rinterface_lib.callbacks:R[write to console]: =\n",
            "WARNING:rpy2.rinterface_lib.callbacks:R[write to console]: =\n",
            "WARNING:rpy2.rinterface_lib.callbacks:R[write to console]: =\n",
            "WARNING:rpy2.rinterface_lib.callbacks:R[write to console]: =\n",
            "WARNING:rpy2.rinterface_lib.callbacks:R[write to console]: =\n",
            "WARNING:rpy2.rinterface_lib.callbacks:R[write to console]: =\n",
            "WARNING:rpy2.rinterface_lib.callbacks:R[write to console]: =\n",
            "WARNING:rpy2.rinterface_lib.callbacks:R[write to console]: =\n",
            "WARNING:rpy2.rinterface_lib.callbacks:R[write to console]: =\n",
            "WARNING:rpy2.rinterface_lib.callbacks:R[write to console]: =\n",
            "WARNING:rpy2.rinterface_lib.callbacks:R[write to console]: =\n",
            "WARNING:rpy2.rinterface_lib.callbacks:R[write to console]: =\n",
            "WARNING:rpy2.rinterface_lib.callbacks:R[write to console]: =\n",
            "WARNING:rpy2.rinterface_lib.callbacks:R[write to console]: =\n",
            "WARNING:rpy2.rinterface_lib.callbacks:R[write to console]: =\n",
            "WARNING:rpy2.rinterface_lib.callbacks:R[write to console]: =\n",
            "WARNING:rpy2.rinterface_lib.callbacks:R[write to console]: =\n",
            "WARNING:rpy2.rinterface_lib.callbacks:R[write to console]: =\n",
            "WARNING:rpy2.rinterface_lib.callbacks:R[write to console]: =\n",
            "WARNING:rpy2.rinterface_lib.callbacks:R[write to console]: =\n",
            "WARNING:rpy2.rinterface_lib.callbacks:R[write to console]: =\n",
            "WARNING:rpy2.rinterface_lib.callbacks:R[write to console]: =\n",
            "WARNING:rpy2.rinterface_lib.callbacks:R[write to console]: =\n",
            "WARNING:rpy2.rinterface_lib.callbacks:R[write to console]: =\n",
            "WARNING:rpy2.rinterface_lib.callbacks:R[write to console]: =\n",
            "WARNING:rpy2.rinterface_lib.callbacks:R[write to console]: =\n",
            "WARNING:rpy2.rinterface_lib.callbacks:R[write to console]: =\n",
            "WARNING:rpy2.rinterface_lib.callbacks:R[write to console]: =\n",
            "WARNING:rpy2.rinterface_lib.callbacks:R[write to console]: =\n",
            "WARNING:rpy2.rinterface_lib.callbacks:R[write to console]: =\n",
            "WARNING:rpy2.rinterface_lib.callbacks:R[write to console]: =\n",
            "WARNING:rpy2.rinterface_lib.callbacks:R[write to console]: =\n",
            "WARNING:rpy2.rinterface_lib.callbacks:R[write to console]: =\n",
            "WARNING:rpy2.rinterface_lib.callbacks:R[write to console]: =\n",
            "WARNING:rpy2.rinterface_lib.callbacks:R[write to console]: =\n",
            "WARNING:rpy2.rinterface_lib.callbacks:R[write to console]: =\n",
            "WARNING:rpy2.rinterface_lib.callbacks:R[write to console]: \n",
            "\n",
            "WARNING:rpy2.rinterface_lib.callbacks:R[write to console]: downloaded 2.2 MB\n",
            "\n",
            "\n",
            "WARNING:rpy2.rinterface_lib.callbacks:R[write to console]: \n",
            "\n",
            "WARNING:rpy2.rinterface_lib.callbacks:R[write to console]: \n",
            "WARNING:rpy2.rinterface_lib.callbacks:R[write to console]: The downloaded source packages are in\n",
            "\t‘/tmp/RtmpJqFSTG/downloaded_packages’\n",
            "WARNING:rpy2.rinterface_lib.callbacks:R[write to console]: \n",
            "WARNING:rpy2.rinterface_lib.callbacks:R[write to console]: \n",
            "\n",
            "WARNING:rpy2.rinterface_lib.callbacks:R[write to console]: Installing package into ‘/usr/local/lib/R/site-library’\n",
            "(as ‘lib’ is unspecified)\n",
            "\n",
            "WARNING:rpy2.rinterface_lib.callbacks:R[write to console]: trying URL 'https://cran.rstudio.com/src/contrib/igraph_1.4.3.tar.gz'\n",
            "\n",
            "WARNING:rpy2.rinterface_lib.callbacks:R[write to console]: Content type 'application/x-gzip'\n",
            "WARNING:rpy2.rinterface_lib.callbacks:R[write to console]:  length 3305746 bytes (3.2 MB)\n",
            "\n",
            "WARNING:rpy2.rinterface_lib.callbacks:R[write to console]: =\n",
            "WARNING:rpy2.rinterface_lib.callbacks:R[write to console]: =\n",
            "WARNING:rpy2.rinterface_lib.callbacks:R[write to console]: =\n",
            "WARNING:rpy2.rinterface_lib.callbacks:R[write to console]: =\n",
            "WARNING:rpy2.rinterface_lib.callbacks:R[write to console]: =\n",
            "WARNING:rpy2.rinterface_lib.callbacks:R[write to console]: =\n",
            "WARNING:rpy2.rinterface_lib.callbacks:R[write to console]: =\n",
            "WARNING:rpy2.rinterface_lib.callbacks:R[write to console]: =\n",
            "WARNING:rpy2.rinterface_lib.callbacks:R[write to console]: =\n",
            "WARNING:rpy2.rinterface_lib.callbacks:R[write to console]: =\n",
            "WARNING:rpy2.rinterface_lib.callbacks:R[write to console]: =\n",
            "WARNING:rpy2.rinterface_lib.callbacks:R[write to console]: =\n",
            "WARNING:rpy2.rinterface_lib.callbacks:R[write to console]: =\n",
            "WARNING:rpy2.rinterface_lib.callbacks:R[write to console]: =\n",
            "WARNING:rpy2.rinterface_lib.callbacks:R[write to console]: =\n",
            "WARNING:rpy2.rinterface_lib.callbacks:R[write to console]: =\n",
            "WARNING:rpy2.rinterface_lib.callbacks:R[write to console]: =\n",
            "WARNING:rpy2.rinterface_lib.callbacks:R[write to console]: =\n",
            "WARNING:rpy2.rinterface_lib.callbacks:R[write to console]: =\n",
            "WARNING:rpy2.rinterface_lib.callbacks:R[write to console]: =\n",
            "WARNING:rpy2.rinterface_lib.callbacks:R[write to console]: =\n",
            "WARNING:rpy2.rinterface_lib.callbacks:R[write to console]: =\n",
            "WARNING:rpy2.rinterface_lib.callbacks:R[write to console]: =\n",
            "WARNING:rpy2.rinterface_lib.callbacks:R[write to console]: =\n",
            "WARNING:rpy2.rinterface_lib.callbacks:R[write to console]: =\n",
            "WARNING:rpy2.rinterface_lib.callbacks:R[write to console]: =\n",
            "WARNING:rpy2.rinterface_lib.callbacks:R[write to console]: =\n",
            "WARNING:rpy2.rinterface_lib.callbacks:R[write to console]: =\n",
            "WARNING:rpy2.rinterface_lib.callbacks:R[write to console]: =\n",
            "WARNING:rpy2.rinterface_lib.callbacks:R[write to console]: =\n",
            "WARNING:rpy2.rinterface_lib.callbacks:R[write to console]: =\n",
            "WARNING:rpy2.rinterface_lib.callbacks:R[write to console]: =\n",
            "WARNING:rpy2.rinterface_lib.callbacks:R[write to console]: =\n",
            "WARNING:rpy2.rinterface_lib.callbacks:R[write to console]: =\n",
            "WARNING:rpy2.rinterface_lib.callbacks:R[write to console]: =\n",
            "WARNING:rpy2.rinterface_lib.callbacks:R[write to console]: =\n",
            "WARNING:rpy2.rinterface_lib.callbacks:R[write to console]: =\n",
            "WARNING:rpy2.rinterface_lib.callbacks:R[write to console]: =\n",
            "WARNING:rpy2.rinterface_lib.callbacks:R[write to console]: =\n",
            "WARNING:rpy2.rinterface_lib.callbacks:R[write to console]: =\n",
            "WARNING:rpy2.rinterface_lib.callbacks:R[write to console]: =\n",
            "WARNING:rpy2.rinterface_lib.callbacks:R[write to console]: =\n",
            "WARNING:rpy2.rinterface_lib.callbacks:R[write to console]: =\n",
            "WARNING:rpy2.rinterface_lib.callbacks:R[write to console]: =\n",
            "WARNING:rpy2.rinterface_lib.callbacks:R[write to console]: =\n",
            "WARNING:rpy2.rinterface_lib.callbacks:R[write to console]: =\n",
            "WARNING:rpy2.rinterface_lib.callbacks:R[write to console]: =\n",
            "WARNING:rpy2.rinterface_lib.callbacks:R[write to console]: =\n",
            "WARNING:rpy2.rinterface_lib.callbacks:R[write to console]: =\n",
            "WARNING:rpy2.rinterface_lib.callbacks:R[write to console]: =\n",
            "WARNING:rpy2.rinterface_lib.callbacks:R[write to console]: \n",
            "\n",
            "WARNING:rpy2.rinterface_lib.callbacks:R[write to console]: downloaded 3.2 MB\n",
            "\n",
            "\n",
            "WARNING:rpy2.rinterface_lib.callbacks:R[write to console]: \n",
            "\n",
            "WARNING:rpy2.rinterface_lib.callbacks:R[write to console]: \n",
            "WARNING:rpy2.rinterface_lib.callbacks:R[write to console]: The downloaded source packages are in\n",
            "\t‘/tmp/RtmpJqFSTG/downloaded_packages’\n",
            "WARNING:rpy2.rinterface_lib.callbacks:R[write to console]: \n",
            "WARNING:rpy2.rinterface_lib.callbacks:R[write to console]: \n",
            "\n",
            "WARNING:rpy2.rinterface_lib.callbacks:R[write to console]: Installing package into ‘/usr/local/lib/R/site-library’\n",
            "(as ‘lib’ is unspecified)\n",
            "\n",
            "WARNING:rpy2.rinterface_lib.callbacks:R[write to console]: trying URL 'https://cran.rstudio.com/src/contrib/tidygraph_1.2.3.tar.gz'\n",
            "\n",
            "WARNING:rpy2.rinterface_lib.callbacks:R[write to console]: Content type 'application/x-gzip'\n",
            "WARNING:rpy2.rinterface_lib.callbacks:R[write to console]:  length 118440 bytes (115 KB)\n",
            "\n",
            "WARNING:rpy2.rinterface_lib.callbacks:R[write to console]: =\n",
            "WARNING:rpy2.rinterface_lib.callbacks:R[write to console]: =\n",
            "WARNING:rpy2.rinterface_lib.callbacks:R[write to console]: =\n",
            "WARNING:rpy2.rinterface_lib.callbacks:R[write to console]: =\n",
            "WARNING:rpy2.rinterface_lib.callbacks:R[write to console]: =\n",
            "WARNING:rpy2.rinterface_lib.callbacks:R[write to console]: =\n",
            "WARNING:rpy2.rinterface_lib.callbacks:R[write to console]: =\n",
            "WARNING:rpy2.rinterface_lib.callbacks:R[write to console]: =\n",
            "WARNING:rpy2.rinterface_lib.callbacks:R[write to console]: =\n",
            "WARNING:rpy2.rinterface_lib.callbacks:R[write to console]: =\n",
            "WARNING:rpy2.rinterface_lib.callbacks:R[write to console]: =\n",
            "WARNING:rpy2.rinterface_lib.callbacks:R[write to console]: =\n",
            "WARNING:rpy2.rinterface_lib.callbacks:R[write to console]: =\n",
            "WARNING:rpy2.rinterface_lib.callbacks:R[write to console]: =\n",
            "WARNING:rpy2.rinterface_lib.callbacks:R[write to console]: =\n",
            "WARNING:rpy2.rinterface_lib.callbacks:R[write to console]: =\n",
            "WARNING:rpy2.rinterface_lib.callbacks:R[write to console]: =\n",
            "WARNING:rpy2.rinterface_lib.callbacks:R[write to console]: =\n",
            "WARNING:rpy2.rinterface_lib.callbacks:R[write to console]: =\n",
            "WARNING:rpy2.rinterface_lib.callbacks:R[write to console]: =\n",
            "WARNING:rpy2.rinterface_lib.callbacks:R[write to console]: =\n",
            "WARNING:rpy2.rinterface_lib.callbacks:R[write to console]: =\n",
            "WARNING:rpy2.rinterface_lib.callbacks:R[write to console]: =\n",
            "WARNING:rpy2.rinterface_lib.callbacks:R[write to console]: =\n",
            "WARNING:rpy2.rinterface_lib.callbacks:R[write to console]: =\n",
            "WARNING:rpy2.rinterface_lib.callbacks:R[write to console]: =\n",
            "WARNING:rpy2.rinterface_lib.callbacks:R[write to console]: =\n",
            "WARNING:rpy2.rinterface_lib.callbacks:R[write to console]: =\n",
            "WARNING:rpy2.rinterface_lib.callbacks:R[write to console]: =\n",
            "WARNING:rpy2.rinterface_lib.callbacks:R[write to console]: =\n",
            "WARNING:rpy2.rinterface_lib.callbacks:R[write to console]: =\n",
            "WARNING:rpy2.rinterface_lib.callbacks:R[write to console]: =\n",
            "WARNING:rpy2.rinterface_lib.callbacks:R[write to console]: =\n",
            "WARNING:rpy2.rinterface_lib.callbacks:R[write to console]: =\n",
            "WARNING:rpy2.rinterface_lib.callbacks:R[write to console]: =\n",
            "WARNING:rpy2.rinterface_lib.callbacks:R[write to console]: =\n",
            "WARNING:rpy2.rinterface_lib.callbacks:R[write to console]: =\n",
            "WARNING:rpy2.rinterface_lib.callbacks:R[write to console]: =\n",
            "WARNING:rpy2.rinterface_lib.callbacks:R[write to console]: =\n",
            "WARNING:rpy2.rinterface_lib.callbacks:R[write to console]: =\n",
            "WARNING:rpy2.rinterface_lib.callbacks:R[write to console]: =\n",
            "WARNING:rpy2.rinterface_lib.callbacks:R[write to console]: =\n",
            "WARNING:rpy2.rinterface_lib.callbacks:R[write to console]: =\n",
            "WARNING:rpy2.rinterface_lib.callbacks:R[write to console]: =\n",
            "WARNING:rpy2.rinterface_lib.callbacks:R[write to console]: =\n",
            "WARNING:rpy2.rinterface_lib.callbacks:R[write to console]: =\n",
            "WARNING:rpy2.rinterface_lib.callbacks:R[write to console]: =\n",
            "WARNING:rpy2.rinterface_lib.callbacks:R[write to console]: =\n",
            "WARNING:rpy2.rinterface_lib.callbacks:R[write to console]: =\n",
            "WARNING:rpy2.rinterface_lib.callbacks:R[write to console]: =\n",
            "WARNING:rpy2.rinterface_lib.callbacks:R[write to console]: \n",
            "\n",
            "WARNING:rpy2.rinterface_lib.callbacks:R[write to console]: downloaded 115 KB\n",
            "\n",
            "\n",
            "WARNING:rpy2.rinterface_lib.callbacks:R[write to console]: \n",
            "\n",
            "WARNING:rpy2.rinterface_lib.callbacks:R[write to console]: \n",
            "WARNING:rpy2.rinterface_lib.callbacks:R[write to console]: The downloaded source packages are in\n",
            "\t‘/tmp/RtmpJqFSTG/downloaded_packages’\n",
            "WARNING:rpy2.rinterface_lib.callbacks:R[write to console]: \n",
            "WARNING:rpy2.rinterface_lib.callbacks:R[write to console]: \n",
            "\n",
            "WARNING:rpy2.rinterface_lib.callbacks:R[write to console]: Installing package into ‘/usr/local/lib/R/site-library’\n",
            "(as ‘lib’ is unspecified)\n",
            "\n",
            "WARNING:rpy2.rinterface_lib.callbacks:R[write to console]: trying URL 'https://cran.rstudio.com/src/contrib/RColorBrewer_1.1-3.tar.gz'\n",
            "\n",
            "WARNING:rpy2.rinterface_lib.callbacks:R[write to console]: Content type 'application/x-gzip'\n",
            "WARNING:rpy2.rinterface_lib.callbacks:R[write to console]:  length 11638 bytes (11 KB)\n",
            "\n",
            "WARNING:rpy2.rinterface_lib.callbacks:R[write to console]: =\n",
            "WARNING:rpy2.rinterface_lib.callbacks:R[write to console]: =\n",
            "WARNING:rpy2.rinterface_lib.callbacks:R[write to console]: =\n",
            "WARNING:rpy2.rinterface_lib.callbacks:R[write to console]: =\n",
            "WARNING:rpy2.rinterface_lib.callbacks:R[write to console]: =\n",
            "WARNING:rpy2.rinterface_lib.callbacks:R[write to console]: =\n",
            "WARNING:rpy2.rinterface_lib.callbacks:R[write to console]: =\n",
            "WARNING:rpy2.rinterface_lib.callbacks:R[write to console]: =\n",
            "WARNING:rpy2.rinterface_lib.callbacks:R[write to console]: =\n",
            "WARNING:rpy2.rinterface_lib.callbacks:R[write to console]: =\n",
            "WARNING:rpy2.rinterface_lib.callbacks:R[write to console]: =\n",
            "WARNING:rpy2.rinterface_lib.callbacks:R[write to console]: =\n",
            "WARNING:rpy2.rinterface_lib.callbacks:R[write to console]: =\n",
            "WARNING:rpy2.rinterface_lib.callbacks:R[write to console]: =\n",
            "WARNING:rpy2.rinterface_lib.callbacks:R[write to console]: =\n",
            "WARNING:rpy2.rinterface_lib.callbacks:R[write to console]: =\n",
            "WARNING:rpy2.rinterface_lib.callbacks:R[write to console]: =\n",
            "WARNING:rpy2.rinterface_lib.callbacks:R[write to console]: =\n",
            "WARNING:rpy2.rinterface_lib.callbacks:R[write to console]: =\n",
            "WARNING:rpy2.rinterface_lib.callbacks:R[write to console]: =\n",
            "WARNING:rpy2.rinterface_lib.callbacks:R[write to console]: =\n",
            "WARNING:rpy2.rinterface_lib.callbacks:R[write to console]: =\n",
            "WARNING:rpy2.rinterface_lib.callbacks:R[write to console]: =\n",
            "WARNING:rpy2.rinterface_lib.callbacks:R[write to console]: =\n",
            "WARNING:rpy2.rinterface_lib.callbacks:R[write to console]: =\n",
            "WARNING:rpy2.rinterface_lib.callbacks:R[write to console]: =\n",
            "WARNING:rpy2.rinterface_lib.callbacks:R[write to console]: =\n",
            "WARNING:rpy2.rinterface_lib.callbacks:R[write to console]: =\n",
            "WARNING:rpy2.rinterface_lib.callbacks:R[write to console]: =\n",
            "WARNING:rpy2.rinterface_lib.callbacks:R[write to console]: =\n",
            "WARNING:rpy2.rinterface_lib.callbacks:R[write to console]: =\n",
            "WARNING:rpy2.rinterface_lib.callbacks:R[write to console]: =\n",
            "WARNING:rpy2.rinterface_lib.callbacks:R[write to console]: =\n",
            "WARNING:rpy2.rinterface_lib.callbacks:R[write to console]: =\n",
            "WARNING:rpy2.rinterface_lib.callbacks:R[write to console]: =\n",
            "WARNING:rpy2.rinterface_lib.callbacks:R[write to console]: =\n",
            "WARNING:rpy2.rinterface_lib.callbacks:R[write to console]: =\n",
            "WARNING:rpy2.rinterface_lib.callbacks:R[write to console]: =\n",
            "WARNING:rpy2.rinterface_lib.callbacks:R[write to console]: =\n",
            "WARNING:rpy2.rinterface_lib.callbacks:R[write to console]: =\n",
            "WARNING:rpy2.rinterface_lib.callbacks:R[write to console]: =\n",
            "WARNING:rpy2.rinterface_lib.callbacks:R[write to console]: =\n",
            "WARNING:rpy2.rinterface_lib.callbacks:R[write to console]: =\n",
            "WARNING:rpy2.rinterface_lib.callbacks:R[write to console]: =\n",
            "WARNING:rpy2.rinterface_lib.callbacks:R[write to console]: =\n",
            "WARNING:rpy2.rinterface_lib.callbacks:R[write to console]: =\n",
            "WARNING:rpy2.rinterface_lib.callbacks:R[write to console]: =\n",
            "WARNING:rpy2.rinterface_lib.callbacks:R[write to console]: =\n",
            "WARNING:rpy2.rinterface_lib.callbacks:R[write to console]: =\n",
            "WARNING:rpy2.rinterface_lib.callbacks:R[write to console]: =\n",
            "WARNING:rpy2.rinterface_lib.callbacks:R[write to console]: \n",
            "\n",
            "WARNING:rpy2.rinterface_lib.callbacks:R[write to console]: downloaded 11 KB\n",
            "\n",
            "\n",
            "WARNING:rpy2.rinterface_lib.callbacks:R[write to console]: \n",
            "\n",
            "WARNING:rpy2.rinterface_lib.callbacks:R[write to console]: \n",
            "WARNING:rpy2.rinterface_lib.callbacks:R[write to console]: The downloaded source packages are in\n",
            "\t‘/tmp/RtmpJqFSTG/downloaded_packages’\n",
            "WARNING:rpy2.rinterface_lib.callbacks:R[write to console]: \n",
            "WARNING:rpy2.rinterface_lib.callbacks:R[write to console]: \n",
            "\n"
          ]
        }
      ]
    },
    {
      "cell_type": "markdown",
      "source": [
        "### Download and install rELA package"
      ],
      "metadata": {
        "id": "7HI1nTGp2YSm"
      }
    },
    {
      "cell_type": "code",
      "source": [
        "!git clone https://github.com/kecosz/rELA.git"
      ],
      "metadata": {
        "colab": {
          "base_uri": "https://localhost:8080/"
        },
        "id": "s3fAIZVUCL9g",
        "outputId": "6e1f87e9-70ed-4c18-daba-ed394552ccc9"
      },
      "execution_count": null,
      "outputs": [
        {
          "output_type": "stream",
          "name": "stdout",
          "text": [
            "fatal: destination path 'rELA' already exists and is not an empty directory.\n"
          ]
        }
      ]
    },
    {
      "cell_type": "code",
      "source": [
        "%%R\n",
        "install.packages(\"rELA/rELA.v0.20.tar.gz\")\n",
        "library(\"rELA\")"
      ],
      "metadata": {
        "colab": {
          "base_uri": "https://localhost:8080/"
        },
        "id": "PPJtddbotQ7_",
        "outputId": "c1f67e44-e12a-4320-97df-36e30dff01da"
      },
      "execution_count": null,
      "outputs": [
        {
          "output_type": "stream",
          "name": "stderr",
          "text": [
            "WARNING:rpy2.rinterface_lib.callbacks:R[write to console]: Installing package into ‘/usr/local/lib/R/site-library’\n",
            "(as ‘lib’ is unspecified)\n",
            "\n",
            "WARNING:rpy2.rinterface_lib.callbacks:R[write to console]: inferring 'repos = NULL' from 'pkgs'\n",
            "\n"
          ]
        }
      ]
    },
    {
      "cell_type": "markdown",
      "source": [
        "## Energy Landscape Analysis\n",
        "\n",
        "### Download data"
      ],
      "metadata": {
        "id": "W-m-kMSOKY1D"
      }
    },
    {
      "cell_type": "code",
      "source": [
        "%%R\n",
        "# Specify the path for your own data in the code below, if necessary.\n",
        "baseabtable <- read.csv('drive/MyDrive/data/abundance_table.csv', sep=',', fileEncoding='utf-8') %>% \n",
        "  column_to_rownames(., var = \"X\")\n",
        "basemetadata <- read.csv('drive/MyDrive/data/sample_metadata.csv', sep=',', fileEncoding='utf-8') %>% \n",
        "  column_to_rownames(., var = \"X\")"
      ],
      "metadata": {
        "id": "-JpDaK0Uti9J"
      },
      "execution_count": null,
      "outputs": []
    },
    {
      "cell_type": "code",
      "source": [
        "%%R\n",
        "head(baseabtable, 7)"
      ],
      "metadata": {
        "colab": {
          "base_uri": "https://localhost:8080/"
        },
        "id": "kWC7v-rqshB-",
        "outputId": "9c610125-26f4-490a-91f7-cd2d80495134"
      },
      "execution_count": null,
      "outputs": [
        {
          "output_type": "stream",
          "name": "stdout",
          "text": [
            "         species.1 species.2 species.3 species.4 species.5 species.6 species.7\n",
            "sample.1      2384         0      1313      8218         0      3529         0\n",
            "sample.2     10343         0      2201      6814         0      2887         0\n",
            "sample.3      4473         0       614      2046      4455      3429         0\n",
            "sample.4      8786         0      5517       328         0        15         0\n",
            "sample.5     10640         0      2321      6652         0      2642         0\n",
            "sample.6         0         0       165      7794      1697      3816         0\n",
            "sample.7      8801         0      2204      4853         0      5526         0\n",
            "         species.8 species.9 species.10 species.11 species.12 species.13\n",
            "sample.1         0      3938        120       4156          0       3223\n",
            "sample.2      6944      4907          0          0          0          0\n",
            "sample.3      1503      8319          0          0          0      10433\n",
            "sample.4      5372     10032       1722          0          0       5001\n",
            "sample.5      7305      4858          0          0          0          0\n",
            "sample.6         0      7230       2130       2267          0       6102\n",
            "sample.7      6990         0          0          0          0       1781\n",
            "         species.14 species.15 species.16\n",
            "sample.1       7150       3122          0\n",
            "sample.2       7298          0          0\n",
            "sample.3       5080          0          0\n",
            "sample.4       6117          0          0\n",
            "sample.5       7020          0          0\n",
            "sample.6       9944          0          0\n",
            "sample.7       7367          0         95\n"
          ]
        }
      ]
    },
    {
      "cell_type": "code",
      "source": [
        "%%R\n",
        "head(basemetadata, 7)"
      ],
      "metadata": {
        "colab": {
          "base_uri": "https://localhost:8080/"
        },
        "id": "zMdNNo6mG0t6",
        "outputId": "4f254841-3cec-47f3-f33d-8b90657227e7"
      },
      "execution_count": null,
      "outputs": [
        {
          "output_type": "stream",
          "name": "stdout",
          "text": [
            "         factor.1   factor.2\n",
            "sample.1    -0.92 2.79692115\n",
            "sample.2     0.34 2.14701252\n",
            "sample.3    -0.92 1.60611363\n",
            "sample.4    -0.24 0.58476465\n",
            "sample.5     0.40 1.73161379\n",
            "sample.6    -0.82 2.95971753\n",
            "sample.7     0.36 0.07787331\n"
          ]
        }
      ]
    },
    {
      "cell_type": "code",
      "source": [
        "%%R\n",
        "list[ocvecs, abvecs, envecs, samplelabel, specieslabel, factorlabel] <-\n",
        "  Formatting(baseabtable, basemetadata, 0, c(0.05, 0.05, 0.95))\n"
      ],
      "metadata": {
        "colab": {
          "base_uri": "https://localhost:8080/"
        },
        "id": "RAuVrLhWriu6",
        "outputId": "7450250e-ff38-4c5f-de10-915985f80eef"
      },
      "execution_count": null,
      "outputs": [
        {
          "output_type": "stream",
          "name": "stdout",
          "text": [
            "Processed 256 samples.\n",
            "Relative abundance threshold = 0.05 \n",
            "Occurrence threshold (lower) = 0.05 \n",
            "Occurrence threshold (upper) = 0.95 \n",
            "Selected  16  out of  256 species.\n"
          ]
        }
      ]
    },
    {
      "cell_type": "code",
      "source": [
        "%%R\n",
        "ocvecs"
      ],
      "metadata": {
        "colab": {
          "base_uri": "https://localhost:8080/"
        },
        "id": "CwmLBtnBJC06",
        "outputId": "5190f3b7-7bc7-462a-ebb9-dc127f1d615a"
      },
      "execution_count": null,
      "outputs": [
        {
          "output_type": "stream",
          "name": "stdout",
          "text": [
            "           species.1 species.2 species.3 species.4 species.5 species.6\n",
            "sample.1           1         0         1         1         0         1\n",
            "sample.10          1         0         1         1         0         0\n",
            "sample.100         1         1         1         0         1         1\n",
            "sample.101         1         0         0         1         0         1\n",
            "sample.102         1         0         0         1         0         1\n",
            "sample.103         1         0         0         1         1         1\n",
            "sample.104         1         0         1         1         0         1\n",
            "sample.105         0         1         1         0         0         1\n",
            "sample.106         1         0         1         1         0         1\n",
            "sample.107         1         0         1         1         0         0\n",
            "sample.108         1         0         0         1         0         1\n",
            "sample.109         1         0         0         1         0         1\n",
            "sample.11          1         1         1         0         1         0\n",
            "sample.110         1         1         1         0         0         0\n",
            "sample.111         1         0         1         1         0         0\n",
            "sample.112         1         0         0         1         0         1\n",
            "sample.113         1         0         1         1         0         1\n",
            "sample.114         1         0         0         1         0         1\n",
            "sample.115         1         0         0         1         0         1\n",
            "sample.116         1         0         0         1         0         1\n",
            "sample.117         1         0         1         1         0         1\n",
            "sample.118         1         0         1         1         0         1\n",
            "sample.119         0         0         0         1         1         1\n",
            "sample.12          1         0         1         1         0         0\n",
            "sample.120         1         0         1         1         0         1\n",
            "sample.121         0         0         0         1         0         1\n",
            "sample.122         1         0         0         1         0         1\n",
            "sample.123         1         0         1         1         0         0\n",
            "sample.124         1         0         1         1         1         0\n",
            "sample.125         1         0         1         1         0         1\n",
            "sample.126         1         0         0         1         1         0\n",
            "sample.127         1         0         1         1         0         1\n",
            "sample.128         1         1         1         0         0         0\n",
            "sample.129         1         0         0         1         0         0\n",
            "sample.13          1         0         1         1         0         1\n",
            "sample.130         1         0         0         1         0         1\n",
            "sample.131         1         0         0         1         0         1\n",
            "sample.132         1         1         1         1         1         1\n",
            "sample.133         1         0         1         1         0         1\n",
            "sample.134         1         0         1         1         0         1\n",
            "sample.135         1         0         1         1         0         1\n",
            "sample.136         1         0         1         1         0         1\n",
            "sample.137         1         0         1         1         0         1\n",
            "sample.138         1         0         0         1         1         1\n",
            "sample.139         1         0         1         1         0         0\n",
            "sample.14          1         0         0         1         0         1\n",
            "sample.140         1         0         0         1         0         1\n",
            "sample.141         1         0         1         1         0         1\n",
            "sample.142         1         0         1         1         0         0\n",
            "sample.143         0         1         0         1         1         1\n",
            "sample.144         1         0         1         1         0         1\n",
            "sample.145         1         0         0         1         0         1\n",
            "sample.146         1         0         1         1         0         1\n",
            "sample.147         1         0         1         1         0         1\n",
            "sample.148         1         1         1         0         1         0\n",
            "sample.149         1         0         1         1         0         1\n",
            "sample.15          1         0         1         1         0         0\n",
            "sample.150         1         0         1         1         0         1\n",
            "sample.151         1         1         1         0         0         0\n",
            "sample.152         1         0         1         1         1         1\n",
            "sample.153         1         1         1         0         0         0\n",
            "sample.154         1         0         1         1         0         1\n",
            "sample.155         1         0         1         1         0         1\n",
            "sample.156         1         0         1         1         0         1\n",
            "sample.157         1         0         1         1         1         0\n",
            "sample.158         1         0         0         1         1         0\n",
            "sample.159         0         0         0         1         1         1\n",
            "sample.16          1         0         0         1         0         1\n",
            "sample.160         1         0         1         1         0         0\n",
            "sample.161         1         0         1         1         0         0\n",
            "sample.162         0         1         1         0         0         0\n",
            "sample.163         1         0         0         1         0         1\n",
            "sample.164         0         0         0         0         1         1\n",
            "sample.165         1         0         0         0         0         1\n",
            "sample.166         1         0         0         0         0         1\n",
            "sample.167         1         0         1         1         0         0\n",
            "sample.168         1         0         1         1         0         1\n",
            "sample.169         1         0         0         1         1         1\n",
            "sample.17          1         0         1         1         0         0\n",
            "sample.170         1         0         1         0         0         1\n",
            "sample.171         1         0         0         1         1         1\n",
            "sample.172         1         0         1         1         0         1\n",
            "sample.173         1         0         1         1         0         0\n",
            "sample.174         1         0         0         1         0         1\n",
            "sample.175         1         1         1         0         1         1\n",
            "sample.176         1         0         1         1         0         1\n",
            "sample.177         0         1         1         0         0         0\n",
            "sample.178         1         0         1         1         0         1\n",
            "sample.179         1         0         1         1         0         1\n",
            "sample.18          1         0         1         1         0         1\n",
            "sample.180         1         0         0         1         0         1\n",
            "sample.181         0         0         0         1         1         1\n",
            "sample.182         1         1         1         0         1         1\n",
            "sample.183         1         0         1         1         0         0\n",
            "sample.184         1         0         1         1         0         0\n",
            "sample.185         1         0         1         1         0         1\n",
            "sample.186         1         0         1         1         0         0\n",
            "sample.187         1         0         1         1         0         1\n",
            "sample.188         1         0         1         1         0         1\n",
            "sample.189         1         0         1         1         0         1\n",
            "sample.19          1         1         1         0         0         0\n",
            "sample.190         0         1         1         0         0         0\n",
            "sample.191         1         0         1         1         0         1\n",
            "sample.192         1         0         1         1         0         0\n",
            "sample.193         0         0         0         1         1         1\n",
            "sample.194         1         0         1         1         0         1\n",
            "sample.195         1         0         0         1         0         1\n",
            "sample.196         1         0         1         1         0         0\n",
            "sample.197         1         0         0         1         0         1\n",
            "sample.198         1         0         1         1         0         1\n",
            "sample.199         1         0         0         1         0         1\n",
            "sample.2           1         0         1         1         0         1\n",
            "sample.20          1         0         1         1         0         1\n",
            "sample.200         1         0         0         1         0         1\n",
            "sample.201         1         0         1         1         1         1\n",
            "sample.202         1         0         0         1         0         1\n",
            "sample.203         1         1         1         0         0         0\n",
            "sample.204         1         0         1         0         0         0\n",
            "sample.205         1         0         0         0         1         0\n",
            "sample.206         1         0         1         1         0         0\n",
            "sample.207         1         0         1         1         0         1\n",
            "sample.208         1         1         1         0         1         0\n",
            "sample.209         1         0         0         1         0         1\n",
            "sample.21          1         0         0         1         0         1\n",
            "sample.210         1         0         1         1         0         0\n",
            "sample.211         1         0         0         1         0         1\n",
            "sample.212         1         0         0         1         0         1\n",
            "sample.213         1         0         1         1         0         1\n",
            "sample.214         1         0         0         1         0         1\n",
            "sample.215         1         0         0         1         1         1\n",
            "sample.216         1         0         1         1         0         1\n",
            "sample.217         1         1         1         0         1         0\n",
            "sample.218         1         0         1         1         0         1\n",
            "sample.219         1         0         1         1         0         1\n",
            "sample.22          1         0         0         1         0         1\n",
            "sample.220         1         0         1         1         1         0\n",
            "sample.221         1         1         1         0         0         0\n",
            "sample.222         1         0         0         1         0         1\n",
            "sample.223         1         0         1         1         0         1\n",
            "sample.224         1         0         1         1         0         0\n",
            "sample.225         1         0         1         1         0         1\n",
            "sample.226         1         0         0         1         0         1\n",
            "sample.227         1         0         1         1         0         1\n",
            "sample.228         1         0         0         1         0         1\n",
            "sample.229         1         0         1         1         0         0\n",
            "sample.23          1         0         1         1         1         1\n",
            "sample.230         1         1         1         0         0         0\n",
            "sample.231         1         1         1         0         1         1\n",
            "sample.232         1         0         1         1         0         1\n",
            "sample.233         1         0         0         1         0         1\n",
            "sample.234         1         0         1         1         0         1\n",
            "sample.235         1         0         0         1         0         1\n",
            "sample.236         1         0         1         1         0         0\n",
            "sample.237         1         0         1         1         0         0\n",
            "sample.238         1         0         1         1         0         1\n",
            "sample.239         1         0         0         1         1         1\n",
            "sample.24          1         1         1         0         1         0\n",
            "sample.240         1         0         0         1         0         1\n",
            "sample.241         0         0         0         1         1         1\n",
            "sample.242         0         1         1         0         0         0\n",
            "sample.243         1         0         0         1         0         1\n",
            "sample.244         1         1         1         0         0         0\n",
            "sample.245         1         0         1         1         0         1\n",
            "sample.246         1         0         0         1         0         1\n",
            "sample.247         1         1         1         0         0         0\n",
            "sample.248         1         1         1         0         1         0\n",
            "sample.249         1         0         0         1         0         1\n",
            "sample.25          1         0         1         1         0         0\n",
            "sample.250         1         0         1         1         0         1\n",
            "sample.251         1         1         1         0         0         0\n",
            "sample.252         1         0         1         1         0         1\n",
            "sample.253         0         1         1         0         0         0\n",
            "sample.254         1         0         1         1         0         1\n",
            "sample.255         1         0         0         1         0         1\n",
            "sample.256         1         0         1         1         0         1\n",
            "sample.26          1         1         1         0         0         0\n",
            "sample.27          1         0         0         1         0         1\n",
            "sample.28          1         0         0         1         0         1\n",
            "sample.29          1         0         0         1         0         1\n",
            "sample.3           1         0         1         1         1         1\n",
            "sample.30          1         0         1         1         0         1\n",
            "sample.31          1         0         1         1         0         1\n",
            "sample.32          1         0         0         1         0         1\n",
            "sample.33          1         0         1         1         0         0\n",
            "sample.34          1         0         1         1         0         0\n",
            "sample.35          1         0         1         1         0         1\n",
            "sample.36          1         0         1         0         0         0\n",
            "sample.37          1         0         0         1         0         1\n",
            "sample.38          1         0         1         0         0         0\n",
            "sample.39          1         0         1         1         0         0\n",
            "sample.4           1         0         1         1         0         1\n",
            "sample.40          1         0         1         0         1         0\n",
            "sample.41          1         0         1         1         0         1\n",
            "sample.42          1         0         1         1         0         0\n",
            "sample.43          1         0         1         1         0         0\n",
            "sample.44          1         0         1         1         0         1\n",
            "sample.45          1         0         1         1         0         1\n",
            "sample.46          1         0         1         1         0         0\n",
            "sample.47          1         0         1         1         0         1\n",
            "sample.48          1         0         1         1         0         1\n",
            "sample.49          1         0         0         1         0         1\n",
            "sample.5           1         0         1         1         0         1\n",
            "sample.50          1         0         0         1         0         0\n",
            "sample.51          1         0         0         1         0         1\n",
            "sample.52          1         0         1         1         0         1\n",
            "sample.53          1         0         1         1         0         0\n",
            "sample.54          1         0         1         1         0         1\n",
            "sample.55          1         0         1         1         0         0\n",
            "sample.56          1         1         1         0         0         0\n",
            "sample.57          1         0         1         1         0         1\n",
            "sample.58          1         0         1         1         0         0\n",
            "sample.59          1         0         1         1         0         1\n",
            "sample.6           0         0         1         1         1         1\n",
            "sample.60          1         1         1         0         1         0\n",
            "sample.61          1         0         1         1         0         0\n",
            "sample.62          1         0         1         1         0         1\n",
            "sample.63          1         0         1         1         0         1\n",
            "sample.64          1         0         0         1         0         1\n",
            "sample.65          1         0         0         1         1         1\n",
            "sample.66          1         0         1         1         0         1\n",
            "sample.67          0         0         0         1         1         1\n",
            "sample.68          1         0         1         1         0         1\n",
            "sample.69          1         0         1         1         0         1\n",
            "sample.7           1         0         1         1         0         1\n",
            "sample.70          1         0         1         1         0         0\n",
            "sample.71          1         0         1         1         0         1\n",
            "sample.72          1         0         1         1         0         1\n",
            "sample.73          0         1         1         0         1         0\n",
            "sample.74          1         0         0         1         0         1\n",
            "sample.75          1         0         1         0         0         0\n",
            "sample.76          1         0         1         1         0         1\n",
            "sample.77          1         0         0         1         0         1\n",
            "sample.78          1         0         1         1         0         1\n",
            "sample.79          1         0         1         1         1         1\n",
            "sample.8           1         0         1         1         0         0\n",
            "sample.80          1         1         1         0         0         0\n",
            "sample.81          1         0         1         1         0         1\n",
            "sample.82          1         0         0         1         0         1\n",
            "sample.83          1         0         1         1         0         1\n",
            "sample.84          1         0         1         1         0         1\n",
            "sample.85          1         0         1         1         0         1\n",
            "sample.86          1         0         1         1         0         1\n",
            "sample.87          1         0         1         0         0         0\n",
            "sample.88          1         0         1         1         0         0\n",
            "sample.89          1         0         1         1         0         1\n",
            "sample.9           1         0         1         1         0         1\n",
            "sample.90          1         0         1         1         0         1\n",
            "sample.91          1         0         1         1         0         1\n",
            "sample.92          1         1         1         0         0         0\n",
            "sample.93          1         0         0         1         0         1\n",
            "sample.94          1         0         1         1         1         1\n",
            "sample.95          1         0         0         1         0         1\n",
            "sample.96          1         0         0         1         0         1\n",
            "sample.97          1         0         0         1         1         0\n",
            "sample.98          1         0         1         1         0         1\n",
            "sample.99          1         0         1         1         0         0\n",
            "           species.7 species.8 species.9 species.10 species.11 species.12\n",
            "sample.1           0         0         1          1          1          0\n",
            "sample.10          0         1         1          0          0          0\n",
            "sample.100         0         1         1          1          0          0\n",
            "sample.101         0         1         1          0          0          0\n",
            "sample.102         0         0         1          1          0          0\n",
            "sample.103         0         0         1          1          0          0\n",
            "sample.104         0         1         1          0          0          0\n",
            "sample.105         1         0         0          0          0          1\n",
            "sample.106         0         1         1          0          0          0\n",
            "sample.107         0         1         1          0          0          0\n",
            "sample.108         0         1         1          0          0          0\n",
            "sample.109         0         0         1          1          0          0\n",
            "sample.11          0         1         1          1          0          0\n",
            "sample.110         1         0         1          0          0          1\n",
            "sample.111         0         1         1          0          0          0\n",
            "sample.112         0         1         1          0          0          0\n",
            "sample.113         0         1         1          0          0          0\n",
            "sample.114         1         1         1          0          0          0\n",
            "sample.115         0         0         1          1          0          0\n",
            "sample.116         0         1         1          0          0          0\n",
            "sample.117         0         1         1          0          0          0\n",
            "sample.118         0         1         1          0          0          0\n",
            "sample.119         0         0         1          0          0          0\n",
            "sample.12          0         0         1          1          0          0\n",
            "sample.120         0         1         1          0          0          0\n",
            "sample.121         0         0         1          0          0          0\n",
            "sample.122         0         0         1          1          0          0\n",
            "sample.123         0         1         1          0          0          0\n",
            "sample.124         0         1         1          1          0          0\n",
            "sample.125         0         1         1          1          0          0\n",
            "sample.126         0         0         0          0          1          0\n",
            "sample.127         0         1         1          0          0          0\n",
            "sample.128         1         0         1          0          0          1\n",
            "sample.129         0         1         1          0          0          0\n",
            "sample.13          0         1         1          0          0          0\n",
            "sample.130         0         1         1          0          0          0\n",
            "sample.131         0         0         1          1          0          0\n",
            "sample.132         0         1         1          1          0          0\n",
            "sample.133         0         1         1          0          0          0\n",
            "sample.134         0         1         1          0          0          0\n",
            "sample.135         0         1         1          0          0          0\n",
            "sample.136         0         1         1          0          0          0\n",
            "sample.137         0         1         1          0          0          0\n",
            "sample.138         0         1         0          1          0          0\n",
            "sample.139         0         1         1          0          0          0\n",
            "sample.14          0         0         1          1          0          0\n",
            "sample.140         0         0         1          0          0          0\n",
            "sample.141         0         1         1          0          0          0\n",
            "sample.142         0         1         1          0          0          0\n",
            "sample.143         0         0         1          1          0          0\n",
            "sample.144         0         1         1          0          0          0\n",
            "sample.145         0         1         1          0          0          0\n",
            "sample.146         0         1         1          0          0          0\n",
            "sample.147         0         1         1          0          0          0\n",
            "sample.148         0         1         1          1          0          0\n",
            "sample.149         0         1         1          0          0          0\n",
            "sample.15          0         1         1          0          0          0\n",
            "sample.150         0         1         0          0          0          0\n",
            "sample.151         1         0         1          0          0          1\n",
            "sample.152         0         1         1          1          0          0\n",
            "sample.153         1         0         1          0          0          1\n",
            "sample.154         0         1         1          0          0          0\n",
            "sample.155         0         1         1          0          0          0\n",
            "sample.156         0         1         0          0          0          0\n",
            "sample.157         0         1         1          0          0          0\n",
            "sample.158         0         0         0          1          1          0\n",
            "sample.159         0         0         1          0          1          0\n",
            "sample.16          0         1         1          0          0          0\n",
            "sample.160         0         1         1          0          0          0\n",
            "sample.161         0         1         1          0          0          0\n",
            "sample.162         1         0         1          1          0          1\n",
            "sample.163         0         1         1          0          1          0\n",
            "sample.164         0         1         1          0          0          0\n",
            "sample.165         1         1         0          0          0          0\n",
            "sample.166         0         1         0          0          0          0\n",
            "sample.167         0         1         1          1          0          0\n",
            "sample.168         0         1         1          0          0          0\n",
            "sample.169         0         0         1          1          0          0\n",
            "sample.17          0         1         1          0          0          0\n",
            "sample.170         0         1         1          1          0          0\n",
            "sample.171         0         0         1          1          0          0\n",
            "sample.172         0         1         1          0          0          0\n",
            "sample.173         0         1         1          0          0          0\n",
            "sample.174         0         0         1          1          0          0\n",
            "sample.175         0         1         1          1          0          0\n",
            "sample.176         0         1         1          0          0          0\n",
            "sample.177         1         0         1          0          0          1\n",
            "sample.178         0         1         1          0          0          0\n",
            "sample.179         0         1         1          0          0          0\n",
            "sample.18          0         1         1          0          0          0\n",
            "sample.180         0         0         1          1          0          0\n",
            "sample.181         0         0         1          0          0          0\n",
            "sample.182         0         1         1          1          0          0\n",
            "sample.183         0         1         1          0          0          0\n",
            "sample.184         0         1         1          0          0          0\n",
            "sample.185         0         0         1          0          1          0\n",
            "sample.186         0         1         1          1          1          0\n",
            "sample.187         0         1         1          0          0          0\n",
            "sample.188         0         1         1          0          0          0\n",
            "sample.189         0         1         1          0          0          0\n",
            "sample.19          1         0         1          0          0          1\n",
            "sample.190         1         0         1          1          0          1\n",
            "sample.191         0         1         1          0          0          0\n",
            "sample.192         0         1         1          0          0          0\n",
            "sample.193         0         0         1          1          0          0\n",
            "sample.194         0         1         1          0          0          0\n",
            "sample.195         0         0         1          1          0          0\n",
            "sample.196         0         1         1          0          0          0\n",
            "sample.197         0         0         1          1          0          0\n",
            "sample.198         0         1         1          0          0          0\n",
            "sample.199         0         0         1          1          0          0\n",
            "sample.2           0         1         1          0          0          0\n",
            "sample.20          0         1         1          0          0          0\n",
            "sample.200         0         0         1          1          0          0\n",
            "sample.201         0         0         1          1          0          0\n",
            "sample.202         0         0         1          1          0          0\n",
            "sample.203         1         0         1          0          0          1\n",
            "sample.204         0         1         1          0          0          0\n",
            "sample.205         0         1         1          0          0          0\n",
            "sample.206         0         1         1          0          0          0\n",
            "sample.207         0         1         1          1          0          0\n",
            "sample.208         0         1         1          1          0          0\n",
            "sample.209         0         1         1          0          1          0\n",
            "sample.21          0         1         1          0          0          0\n",
            "sample.210         1         1         1          0          0          0\n",
            "sample.211         0         1         1          0          0          0\n",
            "sample.212         0         1         1          0          0          0\n",
            "sample.213         0         1         1          0          0          0\n",
            "sample.214         0         0         1          1          0          0\n",
            "sample.215         0         0         0          0          1          0\n",
            "sample.216         0         1         1          0          0          0\n",
            "sample.217         0         1         1          1          0          0\n",
            "sample.218         0         1         1          0          0          0\n",
            "sample.219         0         1         1          0          0          0\n",
            "sample.22          0         0         1          0          0          0\n",
            "sample.220         0         1         1          0          0          0\n",
            "sample.221         1         0         1          1          0          1\n",
            "sample.222         0         1         1          0          0          0\n",
            "sample.223         0         1         1          0          0          0\n",
            "sample.224         0         1         1          0          0          0\n",
            "sample.225         0         1         1          0          0          0\n",
            "sample.226         0         0         1          1          0          0\n",
            "sample.227         0         1         1          0          0          0\n",
            "sample.228         0         0         1          0          0          0\n",
            "sample.229         0         1         1          1          0          0\n",
            "sample.23          0         1         1          1          0          0\n",
            "sample.230         1         0         1          0          0          1\n",
            "sample.231         0         1         1          0          0          0\n",
            "sample.232         0         1         1          0          0          0\n",
            "sample.233         0         0         1          1          0          0\n",
            "sample.234         0         1         1          0          0          0\n",
            "sample.235         0         0         1          0          0          0\n",
            "sample.236         0         1         1          0          0          0\n",
            "sample.237         0         1         1          0          0          0\n",
            "sample.238         0         1         1          0          0          0\n",
            "sample.239         0         0         0          0          1          0\n",
            "sample.24          0         1         1          1          0          0\n",
            "sample.240         0         0         1          1          0          0\n",
            "sample.241         0         0         1          0          0          0\n",
            "sample.242         1         0         0          0          0          1\n",
            "sample.243         0         1         1          0          0          0\n",
            "sample.244         1         0         1          0          0          1\n",
            "sample.245         0         1         1          0          0          0\n",
            "sample.246         0         0         1          0          0          0\n",
            "sample.247         1         0         1          0          0          1\n",
            "sample.248         0         1         1          1          0          0\n",
            "sample.249         0         1         1          0          0          0\n",
            "sample.25          0         1         1          0          0          0\n",
            "sample.250         0         1         1          0          0          0\n",
            "sample.251         1         0         1          0          0          1\n",
            "sample.252         0         1         1          0          0          0\n",
            "sample.253         1         0         1          0          0          1\n",
            "sample.254         0         1         1          0          0          0\n",
            "sample.255         0         0         1          1          0          0\n",
            "sample.256         0         1         0          0          0          0\n",
            "sample.26          1         0         1          0          0          1\n",
            "sample.27          0         0         1          0          0          0\n",
            "sample.28          0         0         1          1          0          0\n",
            "sample.29          0         1         1          0          0          0\n",
            "sample.3           0         1         1          0          0          0\n",
            "sample.30          0         1         1          0          0          0\n",
            "sample.31          0         1         1          0          0          0\n",
            "sample.32          0         0         1          1          0          0\n",
            "sample.33          0         1         1          0          0          0\n",
            "sample.34          0         1         1          0          0          0\n",
            "sample.35          0         1         1          0          0          0\n",
            "sample.36          1         1         1          0          0          0\n",
            "sample.37          0         0         1          0          0          0\n",
            "sample.38          0         1         1          0          0          0\n",
            "sample.39          0         1         1          0          0          0\n",
            "sample.4           0         1         1          1          0          0\n",
            "sample.40          0         1         1          1          0          0\n",
            "sample.41          0         1         1          0          0          0\n",
            "sample.42          0         1         1          0          0          0\n",
            "sample.43          0         1         1          0          0          0\n",
            "sample.44          0         1         1          0          0          0\n",
            "sample.45          0         1         1          0          0          0\n",
            "sample.46          0         1         1          0          0          0\n",
            "sample.47          0         1         1          0          0          0\n",
            "sample.48          0         1         1          0          0          0\n",
            "sample.49          0         0         1          1          0          0\n",
            "sample.5           0         1         1          0          0          0\n",
            "sample.50          0         0         1          1          0          0\n",
            "sample.51          0         0         1          1          0          0\n",
            "sample.52          0         1         1          0          0          0\n",
            "sample.53          0         1         1          1          0          0\n",
            "sample.54          0         1         1          0          0          0\n",
            "sample.55          0         1         1          0          0          0\n",
            "sample.56          1         0         1          1          0          1\n",
            "sample.57          0         1         1          0          0          0\n",
            "sample.58          0         1         1          0          0          0\n",
            "sample.59          0         1         1          0          0          0\n",
            "sample.6           0         0         1          1          1          0\n",
            "sample.60          0         1         1          1          0          0\n",
            "sample.61          0         1         1          0          1          0\n",
            "sample.62          0         1         1          0          0          0\n",
            "sample.63          0         1         0          0          0          0\n",
            "sample.64          0         0         1          1          0          0\n",
            "sample.65          0         1         0          0          0          0\n",
            "sample.66          0         1         1          0          0          0\n",
            "sample.67          0         0         1          0          0          0\n",
            "sample.68          0         1         1          0          0          0\n",
            "sample.69          0         1         1          0          0          0\n",
            "sample.7           0         1         0          0          0          0\n",
            "sample.70          0         1         1          0          0          0\n",
            "sample.71          0         1         1          0          0          0\n",
            "sample.72          0         1         1          0          0          0\n",
            "sample.73          1         0         1          1          0          0\n",
            "sample.74          0         0         1          1          0          0\n",
            "sample.75          1         1         1          1          0          0\n",
            "sample.76          0         1         1          0          0          0\n",
            "sample.77          0         0         1          1          0          0\n",
            "sample.78          0         1         1          1          0          0\n",
            "sample.79          0         1         1          1          0          0\n",
            "sample.8           1         1         1          1          0          0\n",
            "sample.80          1         0         1          0          0          1\n",
            "sample.81          0         1         1          0          0          0\n",
            "sample.82          0         0         1          0          0          0\n",
            "sample.83          0         1         1          0          0          0\n",
            "sample.84          0         1         1          0          0          0\n",
            "sample.85          0         1         1          0          0          0\n",
            "sample.86          0         1         1          0          0          0\n",
            "sample.87          0         1         1          0          0          0\n",
            "sample.88          0         1         1          0          0          0\n",
            "sample.89          0         1         1          0          0          0\n",
            "sample.9           0         1         1          0          0          0\n",
            "sample.90          0         1         1          0          0          0\n",
            "sample.91          0         1         1          0          0          0\n",
            "sample.92          1         0         1          0          0          1\n",
            "sample.93          0         0         1          1          0          0\n",
            "sample.94          0         1         0          1          0          0\n",
            "sample.95          0         0         0          0          0          0\n",
            "sample.96          0         0         1          1          0          0\n",
            "sample.97          0         0         1          1          1          0\n",
            "sample.98          0         1         1          0          0          0\n",
            "sample.99          0         1         1          0          0          0\n",
            "           species.13 species.14 species.15 species.16\n",
            "sample.1            1          1          1          0\n",
            "sample.10           1          1          0          0\n",
            "sample.100          1          0          0          0\n",
            "sample.101          1          1          0          0\n",
            "sample.102          1          1          0          0\n",
            "sample.103          1          1          0          0\n",
            "sample.104          1          1          0          0\n",
            "sample.105          0          0          1          1\n",
            "sample.106          0          1          0          0\n",
            "sample.107          0          1          0          0\n",
            "sample.108          0          1          0          0\n",
            "sample.109          1          1          0          0\n",
            "sample.11           1          1          0          0\n",
            "sample.110          0          0          0          1\n",
            "sample.111          1          1          0          0\n",
            "sample.112          1          1          0          0\n",
            "sample.113          0          1          0          0\n",
            "sample.114          1          1          0          0\n",
            "sample.115          1          1          0          0\n",
            "sample.116          0          1          0          0\n",
            "sample.117          0          1          0          0\n",
            "sample.118          0          1          0          0\n",
            "sample.119          1          1          0          0\n",
            "sample.12           1          1          0          0\n",
            "sample.120          1          1          0          0\n",
            "sample.121          0          1          1          0\n",
            "sample.122          1          1          0          0\n",
            "sample.123          0          0          0          0\n",
            "sample.124          1          1          0          0\n",
            "sample.125          1          1          1          0\n",
            "sample.126          0          1          0          0\n",
            "sample.127          0          1          0          0\n",
            "sample.128          0          0          0          1\n",
            "sample.129          0          0          0          0\n",
            "sample.13           0          1          0          0\n",
            "sample.130          1          1          0          0\n",
            "sample.131          1          1          0          0\n",
            "sample.132          1          1          0          0\n",
            "sample.133          1          1          0          0\n",
            "sample.134          0          1          0          0\n",
            "sample.135          1          1          0          0\n",
            "sample.136          1          1          0          0\n",
            "sample.137          1          1          0          0\n",
            "sample.138          1          1          0          0\n",
            "sample.139          1          0          0          0\n",
            "sample.14           1          1          0          0\n",
            "sample.140          1          1          0          0\n",
            "sample.141          0          1          0          0\n",
            "sample.142          0          0          0          0\n",
            "sample.143          1          1          0          0\n",
            "sample.144          0          1          0          0\n",
            "sample.145          1          1          0          0\n",
            "sample.146          0          1          0          0\n",
            "sample.147          1          1          0          0\n",
            "sample.148          1          1          0          0\n",
            "sample.149          0          1          0          0\n",
            "sample.15           0          1          0          0\n",
            "sample.150          1          1          0          1\n",
            "sample.151          0          0          0          1\n",
            "sample.152          1          1          0          0\n",
            "sample.153          0          0          1          1\n",
            "sample.154          1          1          0          0\n",
            "sample.155          0          1          0          0\n",
            "sample.156          0          0          1          0\n",
            "sample.157          1          1          0          0\n",
            "sample.158          0          1          1          0\n",
            "sample.159          0          1          1          0\n",
            "sample.16           1          1          0          0\n",
            "sample.160          0          0          0          0\n",
            "sample.161          0          1          0          0\n",
            "sample.162          0          0          0          1\n",
            "sample.163          1          1          1          0\n",
            "sample.164          1          1          0          0\n",
            "sample.165          1          0          1          1\n",
            "sample.166          0          0          0          0\n",
            "sample.167          1          1          1          0\n",
            "sample.168          1          1          0          0\n",
            "sample.169          1          1          0          0\n",
            "sample.17           0          0          0          1\n",
            "sample.170          1          1          0          0\n",
            "sample.171          1          1          0          0\n",
            "sample.172          0          1          0          0\n",
            "sample.173          0          0          0          0\n",
            "sample.174          1          1          0          0\n",
            "sample.175          1          1          0          0\n",
            "sample.176          0          1          0          0\n",
            "sample.177          0          0          0          1\n",
            "sample.178          0          1          0          0\n",
            "sample.179          0          1          1          0\n",
            "sample.18           0          1          0          0\n",
            "sample.180          1          1          0          0\n",
            "sample.181          1          1          0          0\n",
            "sample.182          1          1          0          0\n",
            "sample.183          0          0          0          0\n",
            "sample.184          1          0          0          0\n",
            "sample.185          1          1          1          0\n",
            "sample.186          1          1          1          0\n",
            "sample.187          1          1          0          0\n",
            "sample.188          1          1          0          0\n",
            "sample.189          0          1          0          0\n",
            "sample.19           0          0          0          1\n",
            "sample.190          0          0          1          1\n",
            "sample.191          1          1          0          0\n",
            "sample.192          0          0          0          0\n",
            "sample.193          1          1          0          0\n",
            "sample.194          0          1          0          0\n",
            "sample.195          1          1          0          0\n",
            "sample.196          0          1          1          0\n",
            "sample.197          1          1          0          0\n",
            "sample.198          0          1          0          0\n",
            "sample.199          1          1          0          0\n",
            "sample.2            0          1          0          0\n",
            "sample.20           0          1          0          0\n",
            "sample.200          1          1          0          0\n",
            "sample.201          1          1          0          0\n",
            "sample.202          1          1          0          0\n",
            "sample.203          0          0          1          1\n",
            "sample.204          1          1          0          0\n",
            "sample.205          1          1          0          0\n",
            "sample.206          0          0          0          0\n",
            "sample.207          1          1          0          0\n",
            "sample.208          1          1          0          0\n",
            "sample.209          1          1          0          0\n",
            "sample.21           0          1          0          0\n",
            "sample.210          0          1          0          1\n",
            "sample.211          0          1          0          0\n",
            "sample.212          1          1          0          0\n",
            "sample.213          0          1          0          0\n",
            "sample.214          1          1          0          0\n",
            "sample.215          1          1          1          0\n",
            "sample.216          1          1          0          0\n",
            "sample.217          1          1          0          0\n",
            "sample.218          1          1          0          0\n",
            "sample.219          1          1          0          0\n",
            "sample.22           1          1          0          0\n",
            "sample.220          1          0          0          0\n",
            "sample.221          0          0          1          1\n",
            "sample.222          1          1          0          0\n",
            "sample.223          1          1          1          0          0\n",
            "sample.95           0          1          1          0\n",
            "sample.96           1          1          0          0\n",
            "sample.97           0          1          1          0\n",
            "sample.98           0          1          0          0\n",
            "sample.99           1          1          0          1\n"
          ]
        }
      ]
    },
    {
      "cell_type": "markdown",
      "source": [
        "### Parameter fitting"
      ],
      "metadata": {
        "id": "VBnEq4R1Ysjs"
      }
    },
    {
      "cell_type": "code",
      "source": [
        "%%R\n",
        "#runSA: ocmatrix, env (environmental parameters; with>SA / without>fullSA), qth (threshold for stopping computation), rep (number of fitting processes to compute mean parameter value), threads (number of parallel threads)\n",
        "\n",
        "sa <- runSA(data=as.matrix(ocvecs), qth=10^-5, rep=256, threads=1)\n"
      ],
      "metadata": {
        "colab": {
          "base_uri": "https://localhost:8080/"
        },
        "id": "4DL-ktCo3lQU",
        "outputId": "381a8dc5-09ff-4846-8fc6-2fd55b8bdff7"
      },
      "execution_count": null,
      "outputs": [
        {
          "output_type": "stream",
          "name": "stdout",
          "text": [
            "Start parameter fitting\n",
            "\n",
            "Done ; elapsed time 56.55 sec\n",
            "\n"
          ]
        }
      ]
    },
    {
      "cell_type": "code",
      "source": [
        "%%R\n",
        "list[he,je,ge,hge] <- sa2params(sa)"
      ],
      "metadata": {
        "id": "KpxMpgriGu30"
      },
      "execution_count": null,
      "outputs": []
    },
    {
      "cell_type": "code",
      "source": [
        "%%R\n",
        "he"
      ],
      "metadata": {
        "colab": {
          "base_uri": "https://localhost:8080/"
        },
        "id": "y2kA9YFPHAVm",
        "outputId": "a264553a-f19f-40bb-c4b3-9bcf646fbfbe"
      },
      "execution_count": null,
      "outputs": [
        {
          "output_type": "stream",
          "name": "stdout",
          "text": [
            " species.1  species.2  species.3  species.4  species.5  species.6  species.7 \n",
            " 2.4970998 -1.2010152  1.0753659  1.6766163 -1.2222649  0.6893701 -1.2423604 \n",
            " species.8  species.9 species.10 species.11 species.12 species.13 species.14 \n",
            " 0.2125405  2.7690933 -0.9585714 -2.6380377 -1.8652767  0.1117309  1.0093866 \n",
            "species.15 species.16 \n",
            "-1.3306722 -1.1600634 \n"
          ]
        }
      ]
    },
    {
      "cell_type": "code",
      "source": [
        "%%R\n",
        "hge"
      ],
      "metadata": {
        "colab": {
          "base_uri": "https://localhost:8080/"
        },
        "id": "8GtQ-I6SIKc3",
        "outputId": "17f49441-95ff-4236-991c-67284e92a4f4"
      },
      "execution_count": null,
      "outputs": [
        {
          "output_type": "stream",
          "name": "stdout",
          "text": [
            " species.1  species.2  species.3  species.4  species.5  species.6  species.7 \n",
            " 2.4970998 -1.2010152  1.0753659  1.6766163 -1.2222649  0.6893701 -1.2423604 \n",
            " species.8  species.9 species.10 species.11 species.12 species.13 species.14 \n",
            " 0.2125405  2.7690933 -0.9585714 -2.6380377 -1.8652767  0.1117309  1.0093866 \n",
            "species.15 species.16 \n",
            "-1.3306722 -1.1600634 \n"
          ]
        }
      ]
    },
    {
      "cell_type": "markdown",
      "source": [
        "### Analysis and visualization of energy landscape\n",
        "#### ELA function"
      ],
      "metadata": {
        "id": "Aii-f_Q26FFa"
      }
    },
    {
      "cell_type": "code",
      "source": [
        "%%R\n",
        "elanp <- ELA(sa, env=NULL,\n",
        "                SS.itr=20000, FindingTip.itr=10000, # <- the number of steps for finding stable states and tipping points (basically no need to change)\n",
        "                threads=1, reporting=TRUE)\n",
        "ela <- ELPruning(elanp, th=0.08)"
      ],
      "metadata": {
        "id": "2QpgRDwJu8MC",
        "colab": {
          "base_uri": "https://localhost:8080/"
        },
        "outputId": "a7c7d2e3-dc94-4f52-cf24-123c40a2ca2e"
      },
      "execution_count": null,
      "outputs": [
        {
          "output_type": "stream",
          "name": "stdout",
          "text": [
            "Elapsed time 1.00 sec\n"
          ]
        }
      ]
    },
    {
      "cell_type": "code",
      "source": [
        "%%R\n",
        "list[stablestates, stablen, tippingpoints, tippingen] <- ela[[1]]"
      ],
      "metadata": {
        "id": "XQh3dfpQ3ia4"
      },
      "execution_count": null,
      "outputs": []
    },
    {
      "cell_type": "markdown",
      "source": [
        "stable states"
      ],
      "metadata": {
        "id": "gB-_YtGP8CSW"
      }
    },
    {
      "cell_type": "code",
      "source": [
        "%%R\n",
        "stablestates"
      ],
      "metadata": {
        "colab": {
          "base_uri": "https://localhost:8080/"
        },
        "id": "gySY0PMX8Br5",
        "outputId": "1914c1f9-8aa3-47c5-80d4-4ae92f0d91e7"
      },
      "execution_count": null,
      "outputs": [
        {
          "output_type": "stream",
          "name": "stdout",
          "text": [
            "[1] 46468 38092 58001\n"
          ]
        }
      ]
    },
    {
      "cell_type": "markdown",
      "source": [
        "Convert an integer representing a stable state (ssid) to a binary vector"
      ],
      "metadata": {
        "id": "-bgmOVvBw9SV"
      }
    },
    {
      "cell_type": "code",
      "source": [
        "%%R\n",
        "# ssid -> binary vector\n",
        "bin = as.list(sapply(stablestates, function(x){CIntegerDigits(x, length(colnames(ocvecs)))}))\n",
        "bin"
      ],
      "metadata": {
        "colab": {
          "base_uri": "https://localhost:8080/"
        },
        "id": "4ADsgD1j85Tc",
        "outputId": "a91afbd8-a517-48dc-eb1a-f75d493fc9ca"
      },
      "execution_count": null,
      "outputs": [
        {
          "output_type": "stream",
          "name": "stdout",
          "text": [
            "$dec2bin.ssid..n.\n",
            " [1] 1 0 1 1 0 1 0 1 1 0 0 0 0 1 0 0\n",
            "\n",
            "$dec2bin.ssid..n.\n",
            " [1] 1 0 0 1 0 1 0 0 1 1 0 0 1 1 0 0\n",
            "\n",
            "$dec2bin.ssid..n.\n",
            " [1] 1 1 1 0 0 0 1 0 1 0 0 1 0 0 0 1\n",
            "\n"
          ]
        }
      ]
    },
    {
      "cell_type": "markdown",
      "source": [
        "Convert a binary vector to a ssid"
      ],
      "metadata": {
        "id": "oAoyXH6VA2uH"
      }
    },
    {
      "cell_type": "code",
      "source": [
        "%%R\n",
        "# binary vector -> ssid\n",
        "as.vector(sapply(bin, function(x){str2i(paste(unlist(applyvec(x, as.character)), collapse=''))}))"
      ],
      "metadata": {
        "colab": {
          "base_uri": "https://localhost:8080/"
        },
        "id": "m5MCP9gN9sEb",
        "outputId": "d7fb5b29-3f60-46e8-a926-6a5740758a4a"
      },
      "execution_count": null,
      "outputs": [
        {
          "output_type": "stream",
          "name": "stdout",
          "text": [
            "[1] 46468 38092 58001\n"
          ]
        }
      ]
    },
    {
      "cell_type": "markdown",
      "source": [
        "Table of SSID, Energy, Community composition"
      ],
      "metadata": {
        "id": "y24_3yww9-By"
      }
    },
    {
      "cell_type": "code",
      "source": [
        "%%R\n",
        "sstable <- as.data.frame(cbind(stablestates, stablen, t(as.data.frame(bin)))) %>% \n",
        "  'colnames<-'(c('ID', 'Energy', colnames(ocvecs))) %>% \n",
        "  'rownames<-'(1: length(stablestates))\n",
        "sstable"
      ],
      "metadata": {
        "colab": {
          "base_uri": "https://localhost:8080/"
        },
        "id": "No_0uUNR95y1",
        "outputId": "97d897f9-0b2d-4ee2-9b5b-0dae7358fa5c"
      },
      "execution_count": null,
      "outputs": [
        {
          "output_type": "stream",
          "name": "stdout",
          "text": [
            "     ID    Energy species.1 species.2 species.3 species.4 species.5 species.6\n",
            "1 46468 -14.19139         1         0         1         1         0         1\n",
            "2 38092 -13.11054         1         0         0         1         0         1\n",
            "3 58001 -11.93570         1         1         1         0         0         0\n",
            "  species.7 species.8 species.9 species.10 species.11 species.12 species.13\n",
            "1         0         1         1          0          0          0          0\n",
            "2         0         0         1          1          0          0          1\n",
            "3         1         0         1          0          0          1          0\n",
            "  species.14 species.15 species.16\n",
            "1          1          0          0\n",
            "2          1          0          0\n",
            "3          0          0          1\n"
          ]
        }
      ]
    },
    {
      "cell_type": "markdown",
      "source": [
        "Export the table to Google Drive in CSV format"
      ],
      "metadata": {
        "id": "djeQ6Mt-d8ud"
      }
    },
    {
      "cell_type": "code",
      "source": [
        "%%R\n",
        "write.csv(x = sstable, file=\"drive/MyDrive/colab_export/sstable.csv\") # \"sstable.csv\" is saved in \"colab_export\" folder of your Google Drive."
      ],
      "metadata": {
        "id": "aXNsRBswd4hq"
      },
      "execution_count": null,
      "outputs": []
    },
    {
      "cell_type": "markdown",
      "source": [
        "ID and energy of tipping points"
      ],
      "metadata": {
        "id": "I7dVq7BN-HAt"
      }
    },
    {
      "cell_type": "code",
      "source": [
        "%%R\n",
        "as.data.frame(tippingpoints)"
      ],
      "metadata": {
        "colab": {
          "base_uri": "https://localhost:8080/"
        },
        "id": "0Y9TLwIK-JOx",
        "outputId": "8e600294-c13b-4946-a880-339826703a41"
      },
      "execution_count": null,
      "outputs": [
        {
          "output_type": "stream",
          "name": "stdout",
          "text": [
            "   X1    X2    X3\n",
            "1 Inf 38028 41857\n",
            "2 Inf   Inf 61644\n",
            "3 Inf   Inf   Inf\n"
          ]
        }
      ]
    },
    {
      "cell_type": "code",
      "source": [
        "%%R\n",
        "as.data.frame(tippingen)"
      ],
      "metadata": {
        "colab": {
          "base_uri": "https://localhost:8080/"
        },
        "id": "gfOlQvio-QM6",
        "outputId": "5d860e0c-a9eb-4ad9-dc38-2f1e026a4f7d"
      },
      "execution_count": null,
      "outputs": [
        {
          "output_type": "stream",
          "name": "stdout",
          "text": [
            "   X1        X2        X3\n",
            "1 Inf -12.61912 -8.723105\n",
            "2 Inf       Inf -7.569326\n",
            "3 Inf       Inf       Inf\n"
          ]
        }
      ]
    },
    {
      "cell_type": "markdown",
      "source": [
        "Energy of any community composition\n"
      ],
      "metadata": {
        "id": "Lp_iUrvCDZ3p"
      }
    },
    {
      "cell_type": "code",
      "source": [
        "%%R\n",
        "x <- replace(rep(0,length(ocvecs[1,])),10,1)\n",
        "cEnergy(x, he, je)"
      ],
      "metadata": {
        "colab": {
          "base_uri": "https://localhost:8080/"
        },
        "id": "54RjLTQ7nc90",
        "outputId": "b2a0bfc8-6881-4425-b369-3077de1a4c19"
      },
      "execution_count": null,
      "outputs": [
        {
          "output_type": "stream",
          "name": "stdout",
          "text": [
            "[1] 0.9599269\n"
          ]
        }
      ]
    },
    {
      "cell_type": "markdown",
      "source": [
        "Find the stable state for a community composition"
      ],
      "metadata": {
        "id": "p2IPxLTxxo2h"
      }
    },
    {
      "cell_type": "code",
      "source": [
        "%%R\n",
        "x <- replace(rep(0,length(ocvecs[1,])),10,1)\n",
        "Bi(x, he, je)"
      ],
      "metadata": {
        "colab": {
          "base_uri": "https://localhost:8080/"
        },
        "id": "iISlCtfG-Y3c",
        "outputId": "e001965d-1875-4d15-8bb8-b4a5dc78fdbb"
      },
      "execution_count": null,
      "outputs": [
        {
          "output_type": "stream",
          "name": "stdout",
          "text": [
            "[[1]]\n",
            "[1] 38092\n",
            "\n",
            "[[2]]\n",
            "[1] -13.12177\n",
            "\n"
          ]
        }
      ]
    },
    {
      "cell_type": "markdown",
      "source": [
        "### Principal component analysis  \n",
        "Observed community compositions plotted on a PC1,2 plane and color-coded by their stable states"
      ],
      "metadata": {
        "id": "dQFmBCUZB-xU"
      }
    },
    {
      "cell_type": "code",
      "source": [
        "%%R\n",
        "PCplot(ocvecs, sa, ssrep=ela[[2]])\n",
        "PCplot(ocvecs, sa, ssrep=ela[[2]], pruned=FALSE)"
      ],
      "metadata": {
        "colab": {
          "base_uri": "https://localhost:8080/",
          "height": 994
        },
        "id": "adI4A3JJLa7G",
        "outputId": "19bd8cdd-7c53-49a1-bd3a-d0456915fcbd"
      },
      "execution_count": null,
      "outputs": [
        {
          "output_type": "stream",
          "name": "stdout",
          "text": [
            "NULL\n"
          ]
        },
        {
          "output_type": "display_data",
          "data": {
            "image/png": "[encoded data removed]"
          },
          "metadata": {}
        },
        {
          "output_type": "display_data",
          "data": {
            "image/png": "[encoded data removed]"
          },
          "metadata": {}
        }
      ]
    },
    {
      "cell_type": "markdown",
      "source": [
        "Disconnectivity graph\n"
      ],
      "metadata": {
        "id": "kzfCYXux5uHg"
      }
    },
    {
      "cell_type": "code",
      "source": [
        "%%R\n",
        "showDG(ela[[1]], ocvecs, \"test\")"
      ],
      "metadata": {
        "colab": {
          "base_uri": "https://localhost:8080/",
          "height": 532
        },
        "id": "Wazs4oEAIK61",
        "outputId": "b810d1b5-80dc-40ea-8e53-8217a2f62d94"
      },
      "execution_count": null,
      "outputs": [
        {
          "output_type": "stream",
          "name": "stdout",
          "text": [
            "[1] 46468 38092 58001\n",
            "NULL\n"
          ]
        },
        {
          "output_type": "display_data",
          "data": {
            "image/png": "[encoded data removed]"
          },
          "metadata": {}
        }
      ]
    },
    {
      "cell_type": "markdown",
      "source": [
        "### Visualization of species' interaction"
      ],
      "metadata": {
        "id": "JhRptm-uVSzg"
      }
    },
    {
      "cell_type": "code",
      "source": [
        "%%R\n",
        "showIntrGraph(ela[[1]], je, th=0.4, # <- Threshold for links to be displayed\n",
        "              annot_adj=c(0.75, 2.00))"
      ],
      "metadata": {
        "colab": {
          "base_uri": "https://localhost:8080/",
          "height": 514
        },
        "id": "viGj4g6sX0Ca",
        "outputId": "e88cb998-71ab-4783-f960-dc7aaefbe4bd"
      },
      "execution_count": null,
      "outputs": [
        {
          "output_type": "stream",
          "name": "stdout",
          "text": [
            "NULL\n"
          ]
        },
        {
          "output_type": "display_data",
          "data": {
            "image/png": "[encoded data removed]"
          },
          "metadata": {}
        }
      ]
    },
    {
      "cell_type": "markdown",
      "source": [
        "### Energy landscape analysis with environmental gradients"
      ],
      "metadata": {
        "id": "WOi0wfI2fxI1"
      }
    },
    {
      "cell_type": "code",
      "source": [
        "# Parameter fitting including environmental parameters\n",
        "%%R\n",
        "sa <- runSA(data=as.matrix(ocvecs), env=as.matrix(envecs), qth=10^-5, rep=256, threads=1)"
      ],
      "metadata": {
        "colab": {
          "base_uri": "https://localhost:8080/"
        },
        "id": "MBlCXWjMOHVq",
        "outputId": "6c2b9a09-9c38-47a8-ebf6-5b94ab5fa3fe"
      },
      "execution_count": null,
      "outputs": [
        {
          "output_type": "stream",
          "name": "stdout",
          "text": [
            "Start parameter fitting\n",
            "\n",
            "Done ; elapsed time 53.03 sec\n",
            "\n"
          ]
        }
      ]
    },
    {
      "cell_type": "code",
      "source": [
        "%%R\n",
        "colnames(envecs)"
      ],
      "metadata": {
        "colab": {
          "base_uri": "https://localhost:8080/"
        },
        "id": "3snIRTeJw36V",
        "outputId": "f3d03262-2426-4c0b-ab15-8c084727a675"
      },
      "execution_count": null,
      "outputs": [
        {
          "output_type": "stream",
          "name": "stdout",
          "text": [
            "[1] \"factor.1\" \"factor.2\"\n"
          ]
        }
      ]
    },
    {
      "cell_type": "code",
      "source": [
        "%%R\n",
        "gela <- GradELA(sa=sa, eid=\"factor.1\", # Specify the label or position of an environmental factor\n",
        "  env=envecs, refenv=NULL, steps=32, prn=0.05, threads=1) #[[1]]: return value of ELA function for each step, [[2]]: value of environmental factor for each step, [[3]]: specified environmental factor"
      ],
      "metadata": {
        "colab": {
          "base_uri": "https://localhost:8080/"
        },
        "id": "nD76eeaz3zt3",
        "outputId": "16a66f1a-0fce-4aed-e676-4c4fe091c4c5"
      },
      "execution_count": null,
      "outputs": [
        {
          "output_type": "stream",
          "name": "stdout",
          "text": [
            "refenv not specified, the mean of envecs is used\n",
            "processing(32) |================================|\n",
            "Elapsed time 27.38 sec\n"
          ]
        }
      ]
    },
    {
      "cell_type": "code",
      "source": [
        "# Disconnectivity graph\n",
        "%%R\n",
        "showDG(gela[[1]][[1]][[1]], ocvecs)"
      ],
      "metadata": {
        "id": "NSPUA01XXz3f",
        "colab": {
          "base_uri": "https://localhost:8080/",
          "height": 532
        },
        "outputId": "b7b694b4-69ae-4249-88d1-12eb702ad2e9"
      },
      "execution_count": null,
      "outputs": [
        {
          "output_type": "stream",
          "name": "stdout",
          "text": [
            "[1] 38092 58001 59852\n",
            "NULL\n"
          ]
        },
        {
          "output_type": "display_data",
          "data": {
            "image/png": "[encoded data removed]"
          },
          "metadata": {}
        }
      ]
    },
    {
      "cell_type": "code",
      "source": [
        "# Stable state diagram\n",
        "%%R\n",
        "showSSD(gela)"
      ],
      "metadata": {
        "colab": {
          "base_uri": "https://localhost:8080/",
          "height": 497
        },
        "id": "J_Z06lPnrcpf",
        "outputId": "f5761dec-1aee-4ae1-f963-b6178c52dad3"
      },
      "execution_count": null,
      "outputs": [
        {
          "output_type": "display_data",
          "data": {
            "image/png": "[encoded data removed]"
          },
          "metadata": {}
        }
      ]
    },
    {
      "cell_type": "code",
      "source": [
        "# SSentropy and energy gap\n",
        "%%R\n",
        "stability(sa, unique(ocvecs))"
      ],
      "metadata": {
        "colab": {
          "base_uri": "https://localhost:8080/"
        },
        "id": "Jb8FcTxafs1D",
        "outputId": "3acdab52-f8e1-4b9c-9956-d5dcb616d48a"
      },
      "execution_count": null,
      "outputs": [
        {
          "output_type": "stream",
          "name": "stdout",
          "text": [
            "           energy.gap  ssentropy\n",
            "sample.1    8.9677369 0.38067661\n",
            "sample.10   0.9065189 0.20922048\n",
            "sample.100 10.1842223 0.31945397\n",
            "sample.101  0.9094741 0.00000000\n",
            "sample.102  2.3682234 0.00000000\n",
            "sample.103  4.0913503 0.00000000\n",
            "sample.104  0.0000000 0.00000000\n",
            "sample.105  7.8003026 0.70976455\n",
            "sample.106  0.4967142 0.00000000\n",
            "sample.107  1.0791330 0.00000000\n",
            "sample.108  2.0339233 0.00000000\n",
            "sample.11   6.1608068 0.00000000\n",
            "sample.110  0.2147883 0.60481259\n",
            "sample.114  6.9315881 0.00000000\n",
            "sample.119  5.3357987 0.00000000\n",
            "sample.12   5.0441691 0.08079314\n",
            "sample.121  6.7585849 0.00000000\n",
            "sample.123  2.5017834 0.25138814\n",
            "sample.124  3.3838803 0.50591924\n",
            "sample.125  5.1152068 0.00000000\n",
            "sample.126 11.3894610 0.00000000\n",
            "sample.129  6.0886620 0.00000000\n",
            "sample.132  6.9609927 0.24685851\n",
            "sample.138  5.7746618 0.00000000\n",
            "sample.139  2.8193739 0.07408838\n",
            "sample.140  1.6879735 0.00000000\n",
            "sample.143  9.3466900 0.00000000\n",
            "sample.150  7.1199801 0.71992358\n",
            "sample.152  3.1918468 0.00000000\n",
            "sample.153  1.0726272 0.35462717\n",
            "sample.156  8.3143098 0.00000000\n",
            "sample.157  2.5809704 0.19938228\n",
            "sample.158 11.9547722 0.00000000\n",
            "sample.159  9.6848620 0.49991596\n",
            "sample.162  4.6051111 0.36218072\n",
            "sample.163  6.6531934 0.17911632\n",
            "sample.164  8.1002084 0.25138814\n",
            "sample.165 14.9671370 0.00000000\n",
            "sample.166 11.0380549 0.10008208\n",
            "sample.167  5.4154397 0.14144054\n",
            "sample.17   4.7261516 0.02946405\n",
            "sample.170  5.0444427 0.32346244\n",
            "sample.175  7.6495785 0.03762236\n",
            "sample.177  1.3959402 0.00000000\n",
            "sample.179  3.0207135 0.35081593\n",
            "sample.185  8.0104516 0.49385372\n",
            "sample.186  7.8618103 0.27351383\n",
            "sample.190  5.2759625 0.63191186\n",
            "sample.193  5.4259066 0.08079314\n",
            "sample.196  3.4543084 0.04541469\n",
            "sample.201  5.8831490 0.00000000\n",
            "sample.204  3.1986148 0.50889907\n",
            "sample.205  7.1109941 0.00000000\n",
            "sample.207  1.8298496 0.00000000\n",
            "sample.209  4.3680069 0.00000000\n",
            "sample.210  6.1892892 0.19439186\n",
            "sample.215  8.6356570 0.00000000\n",
            "sample.220  4.9883270 0.02081407\n",
            "sample.221  4.1657575 0.19938228\n",
            "sample.228  2.4057237 0.00000000\n",
            "sample.229  4.4551311 0.47530357\n",
            "sample.231  9.1161642 0.43646982\n",
            "sample.239  7.6486064 0.38431154\n",
            "sample.242  4.6153430 0.25138814\n",
            "sample.256  5.2938551 0.00000000\n",
            "sample.3    1.9314748 0.05291508\n",
            "sample.36   6.8375593 0.00000000\n",
            "sample.40   4.9354808 0.49689227\n",
            "sample.50   4.6204098 0.00000000\n",
            "sample.53   2.2789065 0.00000000\n",
            "sample.6    9.9992562 0.00000000\n",
            "sample.61   4.5691873 0.00000000\n",
            "sample.63   7.7148588 0.00000000\n",
            "sample.65   4.7675582 0.00000000\n",
            "sample.70   3.9673448 0.57099296\n",
            "sample.73  13.1205776 0.09377791\n",
            "sample.75   8.9925180 0.00000000\n",
            "sample.8    7.5213063 0.04541469\n",
            "sample.94   5.8053752 0.21407107\n",
            "sample.95   6.3349534 0.00000000\n",
            "sample.97  10.7390240 0.23304589\n",
            "sample.99   4.8379488 0.00000000\n"
          ]
        }
      ]
    }
  ]
}